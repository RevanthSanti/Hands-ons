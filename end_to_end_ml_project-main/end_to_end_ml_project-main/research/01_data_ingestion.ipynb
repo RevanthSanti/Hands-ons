{
 "cells": [
  {
   "cell_type": "code",
   "execution_count": 1,
   "metadata": {},
   "outputs": [],
   "source": [
    "import os"
   ]
  },
  {
   "cell_type": "code",
   "execution_count": 2,
   "metadata": {},
   "outputs": [
    {
     "data": {
      "text/plain": [
       "'C:\\\\Users\\\\Admin\\\\Desktop\\\\Data Engineering\\\\HandOns\\\\Master Class\\\\end_to_end_ml_project-main\\\\end_to_end_ml_project-main\\\\research'"
      ]
     },
     "execution_count": 2,
     "metadata": {},
     "output_type": "execute_result"
    }
   ],
   "source": [
    "%pwd"
   ]
  },
  {
   "cell_type": "markdown",
   "metadata": {},
   "source": [
    "We are into research folder , basically we want to be in end_to_end_ml_project folder hence we need to write below command to back to specified folder."
   ]
  },
  {
   "cell_type": "code",
   "execution_count": 3,
   "metadata": {},
   "outputs": [],
   "source": [
    "os.chdir(\"../\") # Going back to main project folder."
   ]
  },
  {
   "cell_type": "code",
   "execution_count": 4,
   "metadata": {},
   "outputs": [
    {
     "data": {
      "text/plain": [
       "'C:\\\\Users\\\\Admin\\\\Desktop\\\\Data Engineering\\\\HandOns\\\\Master Class\\\\end_to_end_ml_project-main\\\\end_to_end_ml_project-main'"
      ]
     },
     "execution_count": 4,
     "metadata": {},
     "output_type": "execute_result"
    }
   ],
   "source": [
    "%pwd"
   ]
  },
  {
   "cell_type": "markdown",
   "metadata": {},
   "source": [
    "Now we can see here, we went to main folder, which is my project folder."
   ]
  },
  {
   "cell_type": "code",
   "execution_count": 5,
   "metadata": {},
   "outputs": [],
   "source": [
    "from dataclasses import dataclass\n",
    "from pathlib import Path\n",
    "\n",
    "@dataclass(frozen=True) # I am defining data class here\n",
    "class DataIngestionConfig:\n",
    "    root_dir: Path\n",
    "    source_URL: str\n",
    "    local_data_file: Path\n",
    "    unzip_dir: Path"
   ]
  },
  {
   "cell_type": "code",
   "execution_count": 8,
   "metadata": {},
   "outputs": [
    {
     "name": "stdout",
     "output_type": "stream",
     "text": [
      "Defaulting to user installation because normal site-packages is not writeable\n",
      "Collecting python-box\n",
      "  Obtaining dependency information for python-box from https://files.pythonhosted.org/packages/a8/0c/5c4a9aa6216265059fa3b2551274bb0cf21089cab5057c3f43be994ff75c/python_box-7.1.1-cp311-cp311-win_amd64.whl.metadata\n",
      "  Downloading python_box-7.1.1-cp311-cp311-win_amd64.whl.metadata (8.0 kB)\n",
      "Downloading python_box-7.1.1-cp311-cp311-win_amd64.whl (1.2 MB)\n",
      "   ---------------------------------------- 0.0/1.2 MB ? eta -:--:--\n",
      "   ---------------------------------------- 0.0/1.2 MB ? eta -:--:--\n",
      "   ---------------------------------------- 0.0/1.2 MB ? eta -:--:--\n",
      "   ---------------------------------------- 0.0/1.2 MB ? eta -:--:--\n",
      "   ---------------------------------------- 0.0/1.2 MB ? eta -:--:--\n",
      "   ---------------------------------------- 0.0/1.2 MB ? eta -:--:--\n",
      "   ---------------------------------------- 0.0/1.2 MB ? eta -:--:--\n",
      "   ---------------------------------------- 0.0/1.2 MB ? eta -:--:--\n",
      "   ---------------------------------------- 0.0/1.2 MB ? eta -:--:--\n",
      "   ---------------------------------------- 0.0/1.2 MB ? eta -:--:--\n",
      "   ---------------------------------------- 0.0/1.2 MB ? eta -:--:--\n",
      "   ---------------------------------------- 0.0/1.2 MB ? eta -:--:--\n",
      "   ---------------------------------------- 0.0/1.2 MB ? eta -:--:--\n",
      "   ---------------------------------------- 0.0/1.2 MB ? eta -:--:--\n",
      "   ---------------------------------------- 0.0/1.2 MB ? eta -:--:--\n",
      "   ---------------------------------------- 0.0/1.2 MB ? eta -:--:--\n",
      "    --------------------------------------- 0.0/1.2 MB ? eta -:--:--\n",
      "    --------------------------------------- 0.0/1.2 MB ? eta -:--:--\n",
      "    --------------------------------------- 0.0/1.2 MB ? eta -:--:--\n",
      "    --------------------------------------- 0.0/1.2 MB ? eta -:--:--\n",
      "    --------------------------------------- 0.0/1.2 MB ? eta -:--:--\n",
      "    --------------------------------------- 0.0/1.2 MB ? eta -:--:--\n",
      "    --------------------------------------- 0.0/1.2 MB ? eta -:--:--\n",
      "    --------------------------------------- 0.0/1.2 MB ? eta -:--:--\n",
      "    --------------------------------------- 0.0/1.2 MB ? eta -:--:--\n",
      "   - -------------------------------------- 0.0/1.2 MB 73.0 kB/s eta 0:00:16\n",
      "   - -------------------------------------- 0.0/1.2 MB 73.0 kB/s eta 0:00:16\n",
      "   - -------------------------------------- 0.0/1.2 MB 73.0 kB/s eta 0:00:16\n",
      "   - -------------------------------------- 0.0/1.2 MB 73.0 kB/s eta 0:00:16\n",
      "   - -------------------------------------- 0.0/1.2 MB 73.0 kB/s eta 0:00:16\n",
      "   - -------------------------------------- 0.0/1.2 MB 73.0 kB/s eta 0:00:16\n",
      "   - -------------------------------------- 0.0/1.2 MB 73.0 kB/s eta 0:00:16\n",
      "   - -------------------------------------- 0.0/1.2 MB 73.0 kB/s eta 0:00:16\n",
      "   - -------------------------------------- 0.0/1.2 MB 73.0 kB/s eta 0:00:16\n",
      "   - -------------------------------------- 0.0/1.2 MB 73.0 kB/s eta 0:00:16\n",
      "   - -------------------------------------- 0.0/1.2 MB 73.0 kB/s eta 0:00:16\n",
      "   - -------------------------------------- 0.1/1.2 MB 43.0 kB/s eta 0:00:27\n",
      "   - -------------------------------------- 0.1/1.2 MB 43.0 kB/s eta 0:00:27\n",
      "   - -------------------------------------- 0.1/1.2 MB 43.0 kB/s eta 0:00:27\n",
      "   - -------------------------------------- 0.1/1.2 MB 43.0 kB/s eta 0:00:27\n",
      "   - -------------------------------------- 0.1/1.2 MB 43.0 kB/s eta 0:00:27\n",
      "   - -------------------------------------- 0.1/1.2 MB 43.0 kB/s eta 0:00:27\n",
      "   - -------------------------------------- 0.1/1.2 MB 43.0 kB/s eta 0:00:27\n",
      "   - -------------------------------------- 0.1/1.2 MB 43.0 kB/s eta 0:00:27\n",
      "   - -------------------------------------- 0.1/1.2 MB 43.0 kB/s eta 0:00:27\n",
      "   - -------------------------------------- 0.1/1.2 MB 43.0 kB/s eta 0:00:27\n",
      "   - -------------------------------------- 0.1/1.2 MB 43.0 kB/s eta 0:00:27\n",
      "   - -------------------------------------- 0.1/1.2 MB 43.0 kB/s eta 0:00:27\n",
      "   - -------------------------------------- 0.1/1.2 MB 43.0 kB/s eta 0:00:27\n",
      "   - -------------------------------------- 0.1/1.2 MB 43.0 kB/s eta 0:00:27\n",
      "   - -------------------------------------- 0.1/1.2 MB 43.0 kB/s eta 0:00:27\n",
      "   - -------------------------------------- 0.1/1.2 MB 43.0 kB/s eta 0:00:27\n",
      "   - -------------------------------------- 0.1/1.2 MB 43.0 kB/s eta 0:00:27\n",
      "   - -------------------------------------- 0.1/1.2 MB 43.0 kB/s eta 0:00:27\n",
      "   - -------------------------------------- 0.1/1.2 MB 43.0 kB/s eta 0:00:27\n",
      "   - -------------------------------------- 0.1/1.2 MB 43.0 kB/s eta 0:00:27\n",
      "   - -------------------------------------- 0.1/1.2 MB 43.0 kB/s eta 0:00:27\n",
      "   - -------------------------------------- 0.1/1.2 MB 43.0 kB/s eta 0:00:27\n",
      "   - -------------------------------------- 0.1/1.2 MB 43.0 kB/s eta 0:00:27\n",
      "   - -------------------------------------- 0.1/1.2 MB 43.0 kB/s eta 0:00:27\n",
      "   - -------------------------------------- 0.1/1.2 MB 43.0 kB/s eta 0:00:27\n",
      "   - -------------------------------------- 0.1/1.2 MB 43.0 kB/s eta 0:00:27\n",
      "   -- ------------------------------------- 0.1/1.2 MB 23.6 kB/s eta 0:00:48\n",
      "   -- ------------------------------------- 0.1/1.2 MB 23.6 kB/s eta 0:00:48\n",
      "   -- ------------------------------------- 0.1/1.2 MB 23.6 kB/s eta 0:00:48\n",
      "   -- ------------------------------------- 0.1/1.2 MB 23.6 kB/s eta 0:00:48\n",
      "   -- ------------------------------------- 0.1/1.2 MB 23.6 kB/s eta 0:00:48\n",
      "   -- ------------------------------------- 0.1/1.2 MB 23.6 kB/s eta 0:00:48\n",
      "   -- ------------------------------------- 0.1/1.2 MB 23.6 kB/s eta 0:00:48\n",
      "   -- ------------------------------------- 0.1/1.2 MB 23.6 kB/s eta 0:00:48\n",
      "   -- ------------------------------------- 0.1/1.2 MB 23.6 kB/s eta 0:00:48\n",
      "   -- ------------------------------------- 0.1/1.2 MB 23.6 kB/s eta 0:00:48\n",
      "   -- ------------------------------------- 0.1/1.2 MB 23.6 kB/s eta 0:00:48\n",
      "   -- ------------------------------------- 0.1/1.2 MB 23.6 kB/s eta 0:00:48\n",
      "   -- ------------------------------------- 0.1/1.2 MB 23.6 kB/s eta 0:00:48\n",
      "   -- ------------------------------------- 0.1/1.2 MB 23.6 kB/s eta 0:00:48\n",
      "   -- ------------------------------------- 0.1/1.2 MB 23.6 kB/s eta 0:00:48\n",
      "   -- ------------------------------------- 0.1/1.2 MB 23.6 kB/s eta 0:00:48\n",
      "   -- ------------------------------------- 0.1/1.2 MB 23.6 kB/s eta 0:00:48\n",
      "   -- ------------------------------------- 0.1/1.2 MB 23.6 kB/s eta 0:00:48\n",
      "   -- ------------------------------------- 0.1/1.2 MB 23.6 kB/s eta 0:00:48\n",
      "   -- ------------------------------------- 0.1/1.2 MB 23.6 kB/s eta 0:00:48\n",
      "   -- ------------------------------------- 0.1/1.2 MB 23.6 kB/s eta 0:00:48\n",
      "   -- ------------------------------------- 0.1/1.2 MB 23.6 kB/s eta 0:00:48\n",
      "   -- ------------------------------------- 0.1/1.2 MB 23.6 kB/s eta 0:00:48\n",
      "   -- ------------------------------------- 0.1/1.2 MB 23.6 kB/s eta 0:00:48\n",
      "   -- ------------------------------------- 0.1/1.2 MB 23.6 kB/s eta 0:00:48\n",
      "   -- ------------------------------------- 0.1/1.2 MB 23.6 kB/s eta 0:00:48\n",
      "   -- ------------------------------------- 0.1/1.2 MB 23.6 kB/s eta 0:00:48\n",
      "   -- ------------------------------------- 0.1/1.2 MB 23.6 kB/s eta 0:00:48\n",
      "   -- ------------------------------------- 0.1/1.2 MB 23.6 kB/s eta 0:00:48\n",
      "   -- ------------------------------------- 0.1/1.2 MB 23.6 kB/s eta 0:00:48\n",
      "   -- ------------------------------------- 0.1/1.2 MB 23.6 kB/s eta 0:00:48\n",
      "   -- ------------------------------------- 0.1/1.2 MB 23.6 kB/s eta 0:00:48\n",
      "   -- ------------------------------------- 0.1/1.2 MB 23.6 kB/s eta 0:00:48\n",
      "   -- ------------------------------------- 0.1/1.2 MB 23.6 kB/s eta 0:00:48\n",
      "   -- ------------------------------------- 0.1/1.2 MB 23.6 kB/s eta 0:00:48\n",
      "   -- ------------------------------------- 0.1/1.2 MB 23.6 kB/s eta 0:00:48\n",
      "   -- ------------------------------------- 0.1/1.2 MB 23.6 kB/s eta 0:00:48\n",
      "   -- ------------------------------------- 0.1/1.2 MB 23.6 kB/s eta 0:00:48\n",
      "   -- ------------------------------------- 0.1/1.2 MB 23.6 kB/s eta 0:00:48\n",
      "   -- ------------------------------------- 0.1/1.2 MB 23.6 kB/s eta 0:00:48\n",
      "   -- ------------------------------------- 0.1/1.2 MB 23.6 kB/s eta 0:00:48\n",
      "   -- ------------------------------------- 0.1/1.2 MB 23.6 kB/s eta 0:00:48\n",
      "   -- ------------------------------------- 0.1/1.2 MB 23.6 kB/s eta 0:00:48\n",
      "   -- ------------------------------------- 0.1/1.2 MB 23.6 kB/s eta 0:00:48\n",
      "   -- ------------------------------------- 0.1/1.2 MB 23.6 kB/s eta 0:00:48\n",
      "   -- ------------------------------------- 0.1/1.2 MB 23.6 kB/s eta 0:00:48\n",
      "   -- ------------------------------------- 0.1/1.2 MB 23.6 kB/s eta 0:00:48\n",
      "   -- ------------------------------------- 0.1/1.2 MB 23.6 kB/s eta 0:00:48\n",
      "   -- ------------------------------------- 0.1/1.2 MB 16.2 kB/s eta 0:01:09\n",
      "   -- ------------------------------------- 0.1/1.2 MB 16.2 kB/s eta 0:01:09\n",
      "   -- ------------------------------------- 0.1/1.2 MB 16.2 kB/s eta 0:01:09\n",
      "   -- ------------------------------------- 0.1/1.2 MB 16.2 kB/s eta 0:01:09\n",
      "   -- ------------------------------------- 0.1/1.2 MB 16.2 kB/s eta 0:01:09\n",
      "   -- ------------------------------------- 0.1/1.2 MB 16.2 kB/s eta 0:01:09\n",
      "   -- ------------------------------------- 0.1/1.2 MB 16.2 kB/s eta 0:01:09\n",
      "   -- ------------------------------------- 0.1/1.2 MB 16.2 kB/s eta 0:01:09\n",
      "   -- ------------------------------------- 0.1/1.2 MB 16.2 kB/s eta 0:01:09\n",
      "   -- ------------------------------------- 0.1/1.2 MB 16.2 kB/s eta 0:01:09\n",
      "   -- ------------------------------------- 0.1/1.2 MB 16.2 kB/s eta 0:01:09\n",
      "   -- ------------------------------------- 0.1/1.2 MB 16.2 kB/s eta 0:01:09\n",
      "   -- ------------------------------------- 0.1/1.2 MB 16.2 kB/s eta 0:01:09\n",
      "   -- ------------------------------------- 0.1/1.2 MB 16.2 kB/s eta 0:01:09\n",
      "   -- ------------------------------------- 0.1/1.2 MB 16.2 kB/s eta 0:01:09\n",
      "   -- ------------------------------------- 0.1/1.2 MB 16.2 kB/s eta 0:01:09\n",
      "   --- ------------------------------------ 0.1/1.2 MB 15.9 kB/s eta 0:01:10\n",
      "   --- ------------------------------------ 0.1/1.2 MB 15.9 kB/s eta 0:01:10\n",
      "   --- ------------------------------------ 0.1/1.2 MB 15.9 kB/s eta 0:01:10\n",
      "   --- ------------------------------------ 0.1/1.2 MB 15.9 kB/s eta 0:01:10\n",
      "   --- ------------------------------------ 0.1/1.2 MB 15.9 kB/s eta 0:01:10\n",
      "   --- ------------------------------------ 0.1/1.2 MB 18.9 kB/s eta 0:00:57\n",
      "   --- ------------------------------------ 0.1/1.2 MB 18.9 kB/s eta 0:00:57\n",
      "   --- ------------------------------------ 0.1/1.2 MB 18.9 kB/s eta 0:00:57\n",
      "   ---- ----------------------------------- 0.1/1.2 MB 22.2 kB/s eta 0:00:48\n",
      "   ---- ----------------------------------- 0.1/1.2 MB 22.2 kB/s eta 0:00:48\n",
      "   ---- ----------------------------------- 0.1/1.2 MB 23.7 kB/s eta 0:00:45\n",
      "   ----- ---------------------------------- 0.2/1.2 MB 27.0 kB/s eta 0:00:38\n",
      "   ----- ---------------------------------- 0.2/1.2 MB 28.6 kB/s eta 0:00:36\n",
      "   ------ --------------------------------- 0.2/1.2 MB 31.9 kB/s eta 0:00:32\n",
      "   ------- -------------------------------- 0.2/1.2 MB 35.2 kB/s eta 0:00:28\n",
      "   ------- -------------------------------- 0.2/1.2 MB 36.8 kB/s eta 0:00:27\n",
      "   -------- ------------------------------- 0.3/1.2 MB 41.6 kB/s eta 0:00:23\n",
      "   --------- ------------------------------ 0.3/1.2 MB 48.0 kB/s eta 0:00:19\n",
      "   ----------- ---------------------------- 0.3/1.2 MB 52.8 kB/s eta 0:00:17\n",
      "   ----------- ---------------------------- 0.3/1.2 MB 54.3 kB/s eta 0:00:16\n",
      "   ------------- -------------------------- 0.4/1.2 MB 62.0 kB/s eta 0:00:13\n",
      "   -------------- ------------------------- 0.4/1.2 MB 66.5 kB/s eta 0:00:12\n",
      "   --------------- ------------------------ 0.5/1.2 MB 74.3 kB/s eta 0:00:10\n",
      "   ---------------- ----------------------- 0.5/1.2 MB 78.8 kB/s eta 0:00:09\n",
      "   ------------------ --------------------- 0.6/1.2 MB 86.2 kB/s eta 0:00:08\n",
      "   --------------------- ------------------ 0.6/1.2 MB 96.9 kB/s eta 0:00:06\n",
      "   ---------------------- ----------------- 0.7/1.2 MB 102.6 kB/s eta 0:00:06\n",
      "   ------------------------ --------------- 0.7/1.2 MB 112.9 kB/s eta 0:00:05\n",
      "   -------------------------- ------------- 0.8/1.2 MB 121.6 kB/s eta 0:00:04\n",
      "   ----------------------------- ---------- 0.9/1.2 MB 133.3 kB/s eta 0:00:03\n",
      "   -------------------------------- ------- 1.0/1.2 MB 143.2 kB/s eta 0:00:02\n",
      "   ----------------------------------- ---- 1.0/1.2 MB 156.1 kB/s eta 0:00:01\n",
      "   ------------------------------------- -- 1.1/1.2 MB 167.3 kB/s eta 0:00:01\n",
      "   ---------------------------------------- 1.2/1.2 MB 175.5 kB/s eta 0:00:00\n",
      "Installing collected packages: python-box\n",
      "Successfully installed python-box-7.1.1\n"
     ]
    },
    {
     "name": "stderr",
     "output_type": "stream",
     "text": [
      "DEPRECATION: Loading egg at c:\\anaconda\\lib\\site-packages\\vboxapi-1.0-py3.11.egg is deprecated. pip 23.3 will enforce this behaviour change. A possible replacement is to use pip for package installation..\n"
     ]
    }
   ],
   "source": [
    "!pip install python-box\n",
    "import box"
   ]
  },
  {
   "cell_type": "code",
   "execution_count": 9,
   "metadata": {},
   "outputs": [
    {
     "ename": "ModuleNotFoundError",
     "evalue": "No module named 'ensure'",
     "output_type": "error",
     "traceback": [
      "\u001b[1;31m---------------------------------------------------------------------------\u001b[0m",
      "\u001b[1;31mModuleNotFoundError\u001b[0m                       Traceback (most recent call last)",
      "Cell \u001b[1;32mIn[9], line 2\u001b[0m\n\u001b[0;32m      1\u001b[0m \u001b[38;5;28;01mfrom\u001b[39;00m \u001b[38;5;21;01msrc\u001b[39;00m\u001b[38;5;21;01m.\u001b[39;00m\u001b[38;5;21;01mmlProject\u001b[39;00m\u001b[38;5;21;01m.\u001b[39;00m\u001b[38;5;21;01mconstants\u001b[39;00m \u001b[38;5;28;01mimport\u001b[39;00m \u001b[38;5;241m*\u001b[39m\n\u001b[1;32m----> 2\u001b[0m \u001b[38;5;28;01mfrom\u001b[39;00m \u001b[38;5;21;01msrc\u001b[39;00m\u001b[38;5;21;01m.\u001b[39;00m\u001b[38;5;21;01mmlProject\u001b[39;00m\u001b[38;5;21;01m.\u001b[39;00m\u001b[38;5;21;01mutils\u001b[39;00m\u001b[38;5;21;01m.\u001b[39;00m\u001b[38;5;21;01mcommon\u001b[39;00m \u001b[38;5;28;01mimport\u001b[39;00m read_yaml , create_directories\n",
      "File \u001b[1;32m~\\Desktop\\Data Engineering\\HandOns\\Master Class\\end_to_end_ml_project-main\\end_to_end_ml_project-main\\src\\mlProject\\utils\\common.py:15\u001b[0m\n\u001b[0;32m     13\u001b[0m \u001b[38;5;28;01mimport\u001b[39;00m \u001b[38;5;21;01mjson\u001b[39;00m\n\u001b[0;32m     14\u001b[0m \u001b[38;5;28;01mimport\u001b[39;00m \u001b[38;5;21;01mjoblib\u001b[39;00m\n\u001b[1;32m---> 15\u001b[0m \u001b[38;5;28;01mfrom\u001b[39;00m \u001b[38;5;21;01mensure\u001b[39;00m \u001b[38;5;28;01mimport\u001b[39;00m ensure_annotations\n\u001b[0;32m     16\u001b[0m \u001b[38;5;28;01mfrom\u001b[39;00m \u001b[38;5;21;01mbox\u001b[39;00m \u001b[38;5;28;01mimport\u001b[39;00m ConfigBox\n\u001b[0;32m     17\u001b[0m \u001b[38;5;28;01mfrom\u001b[39;00m \u001b[38;5;21;01mpathlib\u001b[39;00m \u001b[38;5;28;01mimport\u001b[39;00m Path\n",
      "\u001b[1;31mModuleNotFoundError\u001b[0m: No module named 'ensure'"
     ]
    }
   ],
   "source": [
    "from src.mlProject.constants import *\n",
    "from src.mlProject.utils.common import read_yaml , create_directories"
   ]
  },
  {
   "cell_type": "code",
   "execution_count": 13,
   "metadata": {},
   "outputs": [],
   "source": [
    "class ConfigurationManager:\n",
    "    def __init__(\n",
    "            self,\n",
    "            config_filepath = CONFIG_FILE_PATH,\n",
    "            params_filepath = PARAMS_FILE_PATH,\n",
    "            schema_filepath = SCHEMA_FILE_PATH):\n",
    "        \n",
    "            self.config = read_yaml(config_filepath)\n",
    "            self.params = read_yaml(params_filepath)\n",
    "            self.schema = read_yaml(schema_filepath)\n",
    "\n",
    "            create_directories([self.config.artifacts_root])\n",
    "\n",
    "    \n",
    "    def get_data_ingestion_config(self) -> DataIngestionConfig:\n",
    "         config = self.config.data_ingestion\n",
    "         \n",
    "         create_directories([config.root_dir])\n",
    "         \n",
    "         data_ingestion_config = DataIngestionConfig(\n",
    "              root_dir=config.root_dir,\n",
    "              source_URL=config.source_URL,\n",
    "              local_data_file=config.local_data_file,\n",
    "              unzip_dir=config.unzip_dir\n",
    "            )\n",
    "         return data_ingestion_config"
   ]
  },
  {
   "cell_type": "markdown",
   "metadata": {},
   "source": [
    "### Components"
   ]
  },
  {
   "cell_type": "code",
   "execution_count": 14,
   "metadata": {},
   "outputs": [],
   "source": [
    "import os\n",
    "import urllib.request as request\n",
    "import zipfile\n",
    "from src.mlProject import logger\n",
    "from src.mlProject.utils.common import get_size"
   ]
  },
  {
   "cell_type": "markdown",
   "metadata": {},
   "source": [
    "#### Downloading the data and unzipping the file"
   ]
  },
  {
   "cell_type": "code",
   "execution_count": 15,
   "metadata": {},
   "outputs": [],
   "source": [
    "class DataIngestion:\n",
    "    def __init__(self , config: DataIngestionConfig):\n",
    "        self.config = config\n",
    "\n",
    "\n",
    "    def download_file(self):\n",
    "        if not os.path.exists(self.config.local_data_file):\n",
    "            filename, headers = request.urlretrieve(\n",
    "                url = self.config.source_URL,\n",
    "                filename = self.config.local_data_file,\n",
    "                )\n",
    "            logger.info(f\"{filename} download! with following info: \\n{headers}\")\n",
    "        else:\n",
    "            logger.info(f\"File already exists of size: {get_size(Path(self.config.local_data_file))}\")\n",
    "\n",
    "    \n",
    "    def extract_zip_file(self):\n",
    "        \"\"\"\n",
    "        zip_file_path: str\n",
    "        Extracts the zip file into the data directory\n",
    "        Function returns None\n",
    "        \"\"\"\n",
    "        unzip_path = self.config.unzip_dir\n",
    "        os.makedirs(unzip_path, exist_ok=True)\n",
    "        with zipfile.ZipFile(self.config.local_data_file, 'r') as zip_ref:\n",
    "            zip_ref.extractall(unzip_path)"
   ]
  },
  {
   "cell_type": "markdown",
   "metadata": {},
   "source": [
    "### Pipeline"
   ]
  },
  {
   "cell_type": "code",
   "execution_count": 17,
   "metadata": {},
   "outputs": [
    {
     "name": "stdout",
     "output_type": "stream",
     "text": [
      "[2024-03-20 17:36:21,963: INFO: common: yaml file: config\\config.yaml loaded successfully]\n",
      "[2024-03-20 17:36:21,967: INFO: common: yaml file: params.yaml loaded successfully]\n",
      "[2024-03-20 17:36:21,969: INFO: common: yaml file: schema.yaml loaded successfully]\n",
      "[2024-03-20 17:36:22,006: INFO: common: created directory at: artifacts]\n",
      "[2024-03-20 17:36:22,007: INFO: common: created directory at: artifacts/data_ingestion]\n",
      "[2024-03-20 17:36:23,608: INFO: 3702849603: artifacts/data_ingestion/data.zip download! with following info: \n",
      "Connection: close\n",
      "Content-Length: 26148\n",
      "Cache-Control: max-age=300\n",
      "Content-Security-Policy: default-src 'none'; style-src 'unsafe-inline'; sandbox\n",
      "Content-Type: application/zip\n",
      "ETag: \"3295ef300b091bd92865f53e06e08714a5fc98112d02cce28a6d6fe950e50236\"\n",
      "Strict-Transport-Security: max-age=31536000\n",
      "X-Content-Type-Options: nosniff\n",
      "X-Frame-Options: deny\n",
      "X-XSS-Protection: 1; mode=block\n",
      "X-GitHub-Request-Id: 95E6:2D3DD0:1F0B59:278764:65FAD13E\n",
      "Accept-Ranges: bytes\n",
      "Date: Wed, 20 Mar 2024 12:06:23 GMT\n",
      "Via: 1.1 varnish\n",
      "X-Served-By: cache-maa10236-MAA\n",
      "X-Cache: MISS\n",
      "X-Cache-Hits: 0\n",
      "X-Timer: S1710936383.338783,VS0,VE294\n",
      "Vary: Authorization,Accept-Encoding,Origin\n",
      "Access-Control-Allow-Origin: *\n",
      "Cross-Origin-Resource-Policy: cross-origin\n",
      "X-Fastly-Request-ID: a79dd5aa6978006290aca2378bf2de06093a6f94\n",
      "Expires: Wed, 20 Mar 2024 12:11:23 GMT\n",
      "Source-Age: 0\n",
      "\n",
      "]\n"
     ]
    }
   ],
   "source": [
    "try:\n",
    "    config = ConfigurationManager() # Initializing my configuration Manager Mentioned above[Cell 15]\n",
    "    data_ingestion_config = config.get_data_ingestion_config()\n",
    "    data_ingestion = DataIngestion(config=data_ingestion_config)\n",
    "    data_ingestion.download_file()\n",
    "    data_ingestion.extract_zip_file()\n",
    "except Exception as e:\n",
    "    raise e"
   ]
  }
 ],
 "metadata": {
  "kernelspec": {
   "display_name": "Python 3 (ipykernel)",
   "language": "python",
   "name": "python3"
  },
  "language_info": {
   "codemirror_mode": {
    "name": "ipython",
    "version": 3
   },
   "file_extension": ".py",
   "mimetype": "text/x-python",
   "name": "python",
   "nbconvert_exporter": "python",
   "pygments_lexer": "ipython3",
   "version": "3.11.5"
  }
 },
 "nbformat": 4,
 "nbformat_minor": 2
}
