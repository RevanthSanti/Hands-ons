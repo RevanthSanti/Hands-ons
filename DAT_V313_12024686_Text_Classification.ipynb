{
 "cells": [
  {
   "cell_type": "code",
   "execution_count": null,
   "metadata": {
    "id": "mgujAhsQt8xn"
   },
   "outputs": [],
   "source": [
    "!wget https://raw.githubusercontent.com/bigmlcom/python/master/data/spam.csv"
   ]
  },
  {
   "cell_type": "code",
   "execution_count": 1,
   "metadata": {
    "id": "lUq4NKds0jR3"
   },
   "outputs": [
    {
     "data": {
      "text/html": [
       "<div>\n",
       "<style scoped>\n",
       "    .dataframe tbody tr th:only-of-type {\n",
       "        vertical-align: middle;\n",
       "    }\n",
       "\n",
       "    .dataframe tbody tr th {\n",
       "        vertical-align: top;\n",
       "    }\n",
       "\n",
       "    .dataframe thead th {\n",
       "        text-align: right;\n",
       "    }\n",
       "</style>\n",
       "<table border=\"1\" class=\"dataframe\">\n",
       "  <thead>\n",
       "    <tr style=\"text-align: right;\">\n",
       "      <th></th>\n",
       "      <th>Type</th>\n",
       "      <th>Message</th>\n",
       "    </tr>\n",
       "  </thead>\n",
       "  <tbody>\n",
       "    <tr>\n",
       "      <th>0</th>\n",
       "      <td>ham</td>\n",
       "      <td>Go until jurong point, crazy.. Available only ...</td>\n",
       "    </tr>\n",
       "    <tr>\n",
       "      <th>1</th>\n",
       "      <td>ham</td>\n",
       "      <td>Ok lar... Joking wif u oni...</td>\n",
       "    </tr>\n",
       "    <tr>\n",
       "      <th>2</th>\n",
       "      <td>spam</td>\n",
       "      <td>Free entry in 2 a wkly comp to win FA Cup fina...</td>\n",
       "    </tr>\n",
       "    <tr>\n",
       "      <th>3</th>\n",
       "      <td>ham</td>\n",
       "      <td>U dun say so early hor... U c already then say...</td>\n",
       "    </tr>\n",
       "    <tr>\n",
       "      <th>4</th>\n",
       "      <td>ham</td>\n",
       "      <td>Nah I don't think he goes to usf, he lives aro...</td>\n",
       "    </tr>\n",
       "  </tbody>\n",
       "</table>\n",
       "</div>"
      ],
      "text/plain": [
       "   Type                                            Message\n",
       "0   ham  Go until jurong point, crazy.. Available only ...\n",
       "1   ham                      Ok lar... Joking wif u oni...\n",
       "2  spam  Free entry in 2 a wkly comp to win FA Cup fina...\n",
       "3   ham  U dun say so early hor... U c already then say...\n",
       "4   ham  Nah I don't think he goes to usf, he lives aro..."
      ]
     },
     "execution_count": 1,
     "metadata": {},
     "output_type": "execute_result"
    }
   ],
   "source": [
    "import pandas as pd\n",
    "df = pd.read_csv('spam.csv' , encoding = 'utf-8' , sep = \"\\t\")\n",
    "df.head()"
   ]
  },
  {
   "cell_type": "code",
   "execution_count": 2,
   "metadata": {
    "id": "ULX0Nnz52Lhw"
   },
   "outputs": [
    {
     "data": {
      "text/plain": [
       "(656, 2)"
      ]
     },
     "execution_count": 2,
     "metadata": {},
     "output_type": "execute_result"
    }
   ],
   "source": [
    "df.shape"
   ]
  },
  {
   "cell_type": "code",
   "execution_count": 3,
   "metadata": {
    "id": "0Y1YLENZ0x4p"
   },
   "outputs": [
    {
     "data": {
      "text/plain": [
       "Type\n",
       "ham     87.96\n",
       "spam    12.04\n",
       "Name: proportion, dtype: float64"
      ]
     },
     "execution_count": 3,
     "metadata": {},
     "output_type": "execute_result"
    }
   ],
   "source": [
    "round(df['Type'].value_counts(normalize = True)*100,2)"
   ]
  },
  {
   "cell_type": "code",
   "execution_count": 4,
   "metadata": {
    "id": "Zb8N17cD1ed9"
   },
   "outputs": [],
   "source": [
    "df[\"length\"] = df[\"Message\"].apply(len)"
   ]
  },
  {
   "cell_type": "code",
   "execution_count": 5,
   "metadata": {
    "id": "HE95X_vN2HUV"
   },
   "outputs": [
    {
     "data": {
      "text/html": [
       "<div>\n",
       "<style scoped>\n",
       "    .dataframe tbody tr th:only-of-type {\n",
       "        vertical-align: middle;\n",
       "    }\n",
       "\n",
       "    .dataframe tbody tr th {\n",
       "        vertical-align: top;\n",
       "    }\n",
       "\n",
       "    .dataframe thead th {\n",
       "        text-align: right;\n",
       "    }\n",
       "</style>\n",
       "<table border=\"1\" class=\"dataframe\">\n",
       "  <thead>\n",
       "    <tr style=\"text-align: right;\">\n",
       "      <th></th>\n",
       "      <th>Type</th>\n",
       "      <th>Message</th>\n",
       "      <th>length</th>\n",
       "    </tr>\n",
       "  </thead>\n",
       "  <tbody>\n",
       "    <tr>\n",
       "      <th>0</th>\n",
       "      <td>ham</td>\n",
       "      <td>Go until jurong point, crazy.. Available only ...</td>\n",
       "      <td>111</td>\n",
       "    </tr>\n",
       "    <tr>\n",
       "      <th>1</th>\n",
       "      <td>ham</td>\n",
       "      <td>Ok lar... Joking wif u oni...</td>\n",
       "      <td>29</td>\n",
       "    </tr>\n",
       "    <tr>\n",
       "      <th>2</th>\n",
       "      <td>spam</td>\n",
       "      <td>Free entry in 2 a wkly comp to win FA Cup fina...</td>\n",
       "      <td>155</td>\n",
       "    </tr>\n",
       "    <tr>\n",
       "      <th>3</th>\n",
       "      <td>ham</td>\n",
       "      <td>U dun say so early hor... U c already then say...</td>\n",
       "      <td>49</td>\n",
       "    </tr>\n",
       "    <tr>\n",
       "      <th>4</th>\n",
       "      <td>ham</td>\n",
       "      <td>Nah I don't think he goes to usf, he lives aro...</td>\n",
       "      <td>61</td>\n",
       "    </tr>\n",
       "  </tbody>\n",
       "</table>\n",
       "</div>"
      ],
      "text/plain": [
       "   Type                                            Message  length\n",
       "0   ham  Go until jurong point, crazy.. Available only ...     111\n",
       "1   ham                      Ok lar... Joking wif u oni...      29\n",
       "2  spam  Free entry in 2 a wkly comp to win FA Cup fina...     155\n",
       "3   ham  U dun say so early hor... U c already then say...      49\n",
       "4   ham  Nah I don't think he goes to usf, he lives aro...      61"
      ]
     },
     "execution_count": 5,
     "metadata": {},
     "output_type": "execute_result"
    }
   ],
   "source": [
    "df.head()"
   ]
  },
  {
   "cell_type": "markdown",
   "metadata": {
    "id": "vzs4SLX728JF"
   },
   "source": [
    "### Data Visulization"
   ]
  },
  {
   "cell_type": "code",
   "execution_count": 6,
   "metadata": {
    "id": "4X55ZUQ02zol"
   },
   "outputs": [],
   "source": [
    "import matplotlib.pyplot as plt\n",
    "%matplotlib inline\n",
    "import seaborn as sns"
   ]
  },
  {
   "cell_type": "code",
   "execution_count": 7,
   "metadata": {
    "id": "4UHLst_k3EWF"
   },
   "outputs": [
    {
     "data": {
      "text/plain": [
       "<Axes: ylabel='Frequency'>"
      ]
     },
     "execution_count": 7,
     "metadata": {},
     "output_type": "execute_result"
    },
    {
     "data": {
      "image/png": "[encoded data removed]",
      "text/plain": [
       "<Figure size 640x480 with 1 Axes>"
      ]
     },
     "metadata": {},
     "output_type": "display_data"
    }
   ],
   "source": [
    "# df['length'].plot.hist(bins = 50)\n",
    "df['length'].plot(kind = 'hist' , bins = 50)"
   ]
  },
  {
   "cell_type": "code",
   "execution_count": 8,
   "metadata": {
    "id": "rgkK2IeE3JUe"
   },
   "outputs": [
    {
     "data": {
      "text/plain": [
       "array(['ham', 'spam'], dtype=object)"
      ]
     },
     "execution_count": 8,
     "metadata": {},
     "output_type": "execute_result"
    }
   ],
   "source": [
    "df['Type'].unique()"
   ]
  },
  {
   "cell_type": "code",
   "execution_count": 9,
   "metadata": {
    "id": "YTJgKkRW3fJe"
   },
   "outputs": [
    {
     "data": {
      "text/plain": [
       "<Axes: ylabel='Frequency'>"
      ]
     },
     "execution_count": 9,
     "metadata": {},
     "output_type": "execute_result"
    },
    {
     "data": {
      "image/png": "[encoded data removed]",
      "text/plain": [
       "<Figure size 640x480 with 1 Axes>"
      ]
     },
     "metadata": {},
     "output_type": "display_data"
    }
   ],
   "source": [
    "df[df['Type']== 'ham']['length'].plot(kind = 'hist' , bins = 50 , alpha = 0.5 , color = 'green' , label = 'ham messages')\n",
    "df[df['Type']== 'spam']['length'].plot(kind = 'hist' , bins = 50 , alpha = 0.5 , color = 'blue' , label = 'spam messages')"
   ]
  },
  {
   "cell_type": "code",
   "execution_count": 10,
   "metadata": {
    "id": "G6gjcZ284DS2"
   },
   "outputs": [
    {
     "name": "stdout",
     "output_type": "stream",
     "text": [
      "Go until jurong point, crazy.. Available only in bugis n great world la e buffet... Cine there got amore wat...\n",
      "Ok lar... Joking wif u oni...\n",
      "Free entry in 2 a wkly comp to win FA Cup final tkts 21st May 2005. Text FA to 87121 to receive entry question(std txt rate)T&C's apply 08452810075over18's\n",
      "U dun say so early hor... U c already then say...\n",
      "Nah I don't think he goes to usf, he lives around here though\n",
      "FreeMsg Hey there darling it's been 3 week's now and no word back! I'd like some fun you up for it still? Tb ok! XxX std chgs to send, £1.50 to rcv\n",
      "Even my brother is not like to speak with me. They treat me like aids patent.\n",
      "As per your request 'Melle Melle (Oru Minnaminunginte Nurungu Vettam)' has been set as your callertune for all Callers. Press *9 to copy your friends Callertune\n",
      "WINNER!! As a valued network customer you have been selected to receivea £900 prize reward! To claim call 09061701461. Claim code KL341. Valid 12 hours only.\n",
      "Had your mobile 11 months or more? U R entitled to Update to the latest colour mobiles with camera for Free! Call The Mobile Update Co FREE on 08002986030\n",
      "I'm gonna be home soon and i don't want to talk about this stuff anymore tonight, k? I've cried enough today.\n",
      "SIX chances to win CASH! From 100 to 20,000 pounds txt> CSH11 and send to 87575. Cost 150p/day, 6days, 16+ TsandCs apply Reply HL 4 info\n",
      "URGENT! You have won a 1 week FREE membership in our £100,000 Prize Jackpot! Txt the word: CLAIM to No: 81010 T&C www.dbuk.net LCCLTD POBOX 4403LDNW1A7RW18\n",
      "Finally the match heading towards draw as your prediction.\n",
      "Tired. I haven't slept well the past few nights.\n",
      "Easy ah?sen got selected means its good..\n",
      "I have to take exam with march 3\n",
      "Yeah you should. I think you can use your gt atm now to register. Not sure but if there's anyway i can help let me know. But when you do be sure you are ready.\n",
      "Ok no prob. Take ur time.\n",
      "There is os called ubandu which will run without installing in hard disk...you can use that os to copy the important files in system and give it to repair shop..\n",
      "Sorry, I'll call later\n",
      "U say leh... Of course nothing happen lar. Not say v romantic jus a bit only lor. I thk e nite scenery not so nice leh.\n",
      "500 New Mobiles from 2004, MUST GO! Txt: NOKIA to No: 89545 & collect yours today!From ONLY £1 www.4-tc.biz 2optout 087187262701.50gbp/mtmsg18\n",
      "Would really appreciate if you call me. Just need someone to talk to.\n",
      "Will u meet ur dream partner soon? Is ur career off 2 a flyng start? 2 find out free, txt HORO followed by ur star sign, e. g. HORO ARIES\n",
      "Hey company elama po mudyadhu.\n",
      "Life is more strict than teacher... Bcoz Teacher teaches lesson &amp; then conducts exam, But Life first conducts Exam &amp; then teaches Lessons. Happy morning. . .\n",
      "Dear good morning now only i am up\n",
      "Get down in gandhipuram and walk to cross cut road. Right side &lt;#&gt; street road and turn at first right.\n",
      "Dear we are going to our rubber place\n",
      "Sorry battery died, yeah I'm here\n",
      "Yes:)here tv is always available in work place..\n",
      "Text & meet someone sexy today. U can find a date or even flirt its up to U. Join 4 just 10p. REPLY with NAME & AGE eg Sam 25. 18 -msg recd@thirtyeight pence\n",
      "I have printed it oh. So  &lt;#&gt;  come upstairs\n",
      "Or ill be a little closer like at the bus stop on the same street\n",
      "Where are you?when wil you reach here?\n",
      "New Theory: Argument wins d SITUATION, but loses the PERSON. So dont argue with ur friends just.. . . . kick them &amp; say, I'm always correct.!\n",
      "I love to give massages. I use lots of baby oil... What is your fave position?\n",
      "Dude we should go sup again\n",
      "Yoyyooo u know how to change permissions for a drive in mac. My usb flash drive\n",
      "Gibbs unsold.mike hussey\n",
      "I like to talk pa but am not able to. I dont know y.\n",
      "Y dun cut too short leh. U dun like ah? She failed. She's quite sad.\n",
      "You unbelievable faglord\n",
      "Wife.how she knew the time of murder exactly\n",
      "Why do you ask princess?\n",
      "I am great princess! What are you thinking about me? :)\n",
      "Nutter. Cutter. Ctter. Cttergg. Cttargg. Ctargg. Ctagg. ie you\n",
      "It's ok i noe u're busy but i'm really too bored so i msg u. I oso dunno wat colour she choose 4 me one.\n",
      "Doesn't g have class early tomorrow and thus shouldn't be trying to smoke at  &lt;#&gt;\n",
      "Superb Thought- \"Be grateful that u dont have everything u want. That means u still have an opportunity to be happier tomorrow than u are today.\":-)\n",
      "Hope you are having a good week. Just checking in\n",
      "I'm used to it. I just hope my agents don't drop me since i've only booked a few things this year. This whole me in boston, them in nyc was an experiment.\n",
      "Thursday night? Yeah, sure thing, we'll work it out then\n",
      "Your free ringtone is waiting to be collected. Simply text the password \"MIX\" to 85069 to verify. Get Usher and Britney. FML, PO Box 5249, MK17 92H. 450Ppw 16\n",
      "Probably money worries. Things are coming due and i have several outstanding invoices for work i did two and three months ago.\n",
      "How is it possible to teach you. And where.\n",
      "I wonder if your phone battery went dead ? I had to tell you, I love you babe\n",
      "Lovely smell on this bus and it ain't tobacco... \n",
      "We're all getting worried over here, derek and taylor have already assumed the worst\n",
      "Hey what's up charles sorry about the late reply.\n",
      "all the lastest from Stereophonics, Marley, Dizzee Racal, Libertines and The Strokes! Win Nookii games with Flirt!! Click TheMob WAP Bookmark or text WAP to 82468\n",
      "I.ll give her once i have it. Plus she said grinule greet you whenever we speak\n",
      "WHITE FUDGE OREOS ARE IN STORES\n",
      "January Male Sale! Hot Gay chat now cheaper, call 08709222922. National rate from 1.5p/min cheap to 7.8p/min peak! To stop texts call 08712460324 (10p/min)\n",
      "My love ! How come it took you so long to leave for Zaher's? I got your words on ym and was happy to see them but was sad you had left. I miss you\n",
      "I am sorry it hurt you.\n",
      "Can't. I feel nauseous. I'm so pissed. I didn't eat any sweets all week cause today I was planning to pig out. I was dieting all week. And now I'm not hungry :/\n",
      "Ok lor but not too early. Me still having project meeting now.\n",
      "Call me da, i am waiting for your call.\n",
      "I could ask carlos if we could get more if anybody else can chip in\n",
      "Was actually about to send you a reminder today. Have a wonderful weekend\n",
      "When people see my msgs, They think Iam addicted to msging... They are wrong, Bcoz They don\\'t know that Iam addicted to my sweet Friends..!! BSLVYL\n",
      "Hey you gave them your photo when you registered for driving ah? Tmr wanna meet at yck? \n",
      "Dont talk to him ever ok its my word.\n",
      "When u wana see it then\n",
      "On ma way to school. Can you pls send me ashley's number\n",
      "It shall be fine. I have avalarr now. Will hollalater\n",
      "She went to attend another two rounds today..but still did't reach home..\n",
      "Actually i deleted my old website..now i m blogging at magicalsongs.blogspot.com\n",
      "K, wait chikku..il send aftr  &lt;#&gt; mins\n",
      "But I'm on a diet. And I ate 1 too many slices of pizza yesterday. Ugh I'm ALWAYS on a diet.\n",
      "K:)i will give my kvb acc details:)\n",
      "Oh all have to come ah?\n",
      "money!!! you r a lucky winner ! 2 claim your prize text money 2 88600 over £1million to give away ! ppt150x3+normal text rate box403 w1t1jy\n",
      "I'm really sorry i won't b able 2 do this friday.hope u can find an alternative.hope yr term's going ok:-)\n",
      "Congratulations ore mo owo re wa. Enjoy it and i wish you many happy moments to and fro wherever you go\n",
      "So do you have samus shoulders yet\n",
      "What time you think you'll have it? Need to know when I should be near campus\n",
      "Dear Matthew please call 09063440451 from a landline, your complimentary 4*Lux Tenerife holiday or £1000 CASH await collection. ppm150 SAE T&Cs Box334 SK38XH.\n",
      "Then dun wear jeans lor...\n",
      "Since when, which side, any fever, any vomitin.\n",
      "K:)k.are you in college?\n",
      "Urgent! call 09061749602 from Landline. Your complimentary 4* Tenerife Holiday or £10,000 cash await collection SAE T&Cs BOX 528 HP20 1YF 150ppm 18+\n",
      "Better. Made up for Friday and stuffed myself like a pig yesterday. Now I feel bleh. But at least its not writhing pain kind of bleh.\n",
      "No we sell it all so we'll have tons if coins. Then sell our coins to someone thru paypal. Voila! Money back in life pockets:)\n",
      "Theyre doing it to lots of places. Only hospitals and medical places are safe.\n",
      "How about getting in touch with folks waiting for company? Just txt back your NAME and AGE to opt in! Enjoy the community (150p/SMS)\n",
      "And also I've sorta blown him off a couple times recently so id rather not text him out of the blue looking for weed\n",
      "I sent my scores to sophas and i had to do secondary application for a few schools. I think if you are thinking of applying, do a research on cost also. Contact joke ogunrinde, her school is one me the less expensive ones\n",
      "I cant wait to see you! How were the photos were useful? :)\n",
      "Ur cash-balance is currently 500 pounds - to maximize ur cash-in now send GO to 86688 only 150p/msg. CC: 08718720201 PO BOX 114/14 TCR/W1\n",
      "Hey i booked the kb on sat already... what other lessons are we going for ah? Keep your sat night free we need to meet and confirm our lodging \n",
      "Chk in ur belovd ms dict\n",
      "Is that what time you want me to come?\n",
      "Awesome, lemme know whenever you're around\n",
      "Shb b ok lor... Thanx...\n",
      "Beautiful Truth against Gravity.. Read carefully: \"Our heart feels light when someone is in it.. But it feels very heavy when someone leaves it..\" GOOD NIGHT\n",
      "Also remember to get dobby's bowl from your car\n",
      "Filthy stories and GIRLS waiting for your\n",
      "Sorry i now then c ur msg... Yar lor so poor thing... But only 4 one night... Tmr u'll have a brand new room 2 sleep in...\n",
      "Love isn't a decision, it's a feeling. If we could decide who to love, then, life would be much simpler, but then less magical\n",
      "Welp apparently he retired\n",
      "My sort code is  and acc no is . The bank is natwest. Can you reply to confirm i've sent this to the right person!\n",
      "Where @\n",
      "U sure u can't take any sick time?\n",
      "URGENT! We are trying to contact U. Todays draw shows that you have won a £800 prize GUARANTEED. Call 09050001808 from land line. Claim M95. Valid12hrs only\n",
      "Watching cartoon, listening music &amp; at eve had to go temple &amp; church.. What about u?\n",
      "Yo chad which gymnastics class do you wanna take? The site says Christians class is full..\n",
      "Are you this much buzy\n",
      "Or better still can you catch her and let ask her if she can sell  &lt;#&gt;  for me.\n",
      "I am not sure about night menu. . . I know only about noon menu\n",
      "What do u want when i come back?.a beautiful necklace as a token of my heart for you.thats what i will give but ONLY to MY WIFE OF MY LIKING.BE THAT AND SEE..NO ONE can give you that.dont call me.i will wait till i come.\n",
      "Are you willing to go for aptitude class.\n",
      "It wont b until 2.15 as trying 2 sort house out, is that ok?\n",
      "Yar lor he wan 2 go c horse racing today mah, so eat earlier lor. I ate chicken rice. U?\n",
      "Haha awesome, omw back now then\n",
      "Yup i thk so until e shop closes lor.\n",
      "what is your account number?\n",
      "Eh u send wrongly lar...\n",
      "Hey no I ad a crap nite was borin without ya 2 boggy with me u boring biatch! Thanx but u wait til nxt time il ave ya \n",
      "Ok i shall talk to him\n",
      "Dont hesitate. You know this is the second time she has had weakness like that. So keep i notebook of what she eat and did the day before or if anything changed the day before so that we can be sure its nothing\n",
      "Hey you can pay. With salary de. Only  &lt;#&gt; .\n",
      "Another month. I need chocolate weed and alcohol.\n",
      "If he started searching he will get job in few days.he have great potential and talent.\n",
      "Reckon need to be in town by eightish to walk from * carpark.\n",
      "Congrats! 2 mobile 3G Videophones R yours. call 09063458130 now! videochat wid your mates, play java games, Dload polyPH music, noline rentl.\n",
      "LOOK AT THE FUCKIN TIME. WHAT THE FUCK YOU THINK IS UP\n",
      "Yo guess what I just dropped\n",
      "Carlos says he'll be at mu in  &lt;#&gt;  minutes\n",
      "I'm in office now . I will call you  &lt;#&gt;  min:)\n",
      "Geeee ... I miss you already, you know ? Your all I can think about. Fuck, I can't wait till next year when we will be together ... *loving kiss*\n",
      "Yun ah.the ubi one say if ü wan call by tomorrow.call 67441233 look for irene.ere only got bus8,22,65,61,66,382. Ubi cres,ubi tech park.6ph for 1st 5wkg days.èn\n",
      "Ugh. Gotta drive back to sd from la. My butt is sore.\n",
      "I will once i get home\n",
      "Waaaat?? Lololo ok next time then!\n",
      "The table's occupied, I'm waiting by the tree\n",
      "I surely dont forgot to come:)i will always be in touch in with you:-)\n",
      "Hi kindly give us back our documents which we submitted for loan from STAPATI\n",
      "I dont have i shall buy one dear\n",
      "Oh god i am happy to see your message after 3 days\n",
      "What year. And how many miles.\n",
      "Hey cutie. How goes it? Here in WALES its kinda ok. There is like hills and shit but i still avent killed myself. \n",
      "Sad story of a Man - Last week was my b'day. My Wife did'nt wish me. My Parents forgot n so did my Kids . I went to work. Even my Colleagues did not wish. As I entered my cabin my PA said, '' Happy B'day Boss !!''. I felt special. She askd me 4 lunch. After lunch she invited me to her apartment. We went there. She said,'' do u mind if I go into the bedroom for a minute ? '' ''OK'', I sed in a sexy mood. She came out 5 minuts latr wid a cake...n My Wife, My Parents, My Kidz, My Friends n My Colleagues. All screaming.. SURPRISE !! and I was waiting on the sofa.. ... ..... ' NAKED...!\n",
      "I think you should go the honesty road. Call the bank tomorrow. Its the tough decisions that make us great people.\n",
      "FREE for 1st week! No1 Nokia tone 4 ur mob every week just txt NOKIA to 87077 Get txting and tell ur mates. zed POBox 36504 W45WQ norm150p/tone 16+\n",
      "No. Its not specialisation. Can work but its slave labor. Will look for it this month sha cos no shakara 4 beggar.\n",
      "Is she replying. Has boye changed his phone number\n",
      "1) Go to write msg 2) Put on Dictionary mode 3)Cover the screen with hand, 4)Press  &lt;#&gt; . 5)Gently remove Ur hand.. Its interesting..:)\n",
      "hi my darlin im on my way to London and we have just been smashed into by another driver! and have a big dent! im really missing u what have u been up to? xxx\n",
      "Nothing really, just making sure everybody's up to speed\n",
      "I'm not coming home 4 dinner.\n",
      "Thank you. And by the way, I just lost.\n",
      "Yes.he have good crickiting mind\n",
      "Thx. All will be well in a few months\n",
      "Shop till u Drop, IS IT YOU, either 10K, 5K, £500 Cash or £100 Travel voucher, Call now, 09064011000. NTT PO Box CR01327BT fixedline Cost 150ppm mobile vary\n",
      "CAN I PLEASE COME UP NOW IMIN TOWN.DONTMATTER IF URGOIN OUTL8R,JUST REALLYNEED 2DOCD.PLEASE DONTPLEASE DONTIGNORE MYCALLS,U NO THECD ISV.IMPORTANT TOME 4 2MORO\n",
      "I wont. So wat's wit the guys\n",
      "Yavnt tried yet and never played original either\n",
      "Hiya, had a good day? Have you spoken to since the weekend?\n",
      "See? I thought it all through\n",
      "I'm at work. Please call\n",
      "get ready to moan and scream :)\n",
      "Oh k :)why you got job then whats up?\n",
      "I don,t think so. You don't need to be going out that late on a school night. ESPECIALLY when the one class you have is the one you missed last wednesday and probably failed a test in on friday\n",
      "And popping &lt;#&gt; ibuprofens was no help.\n",
      "Babe ! How goes that day ? What are you doing ? Where are you ? I sip my cappuccino and think of you, my love ... I send a kiss to you from across the sea\n",
      "Ok.\n",
      "PS U no ur a grown up now right?\n",
      "Chinatown got porridge, claypot rice, yam cake, fishhead beehoon... Either we eat cheap den go cafe n tok or go nydc or somethin...\n",
      "I know a few people I can hit up and fuck to the yes\n",
      "Purity of friendship between two is not about smiling after reading the forwarded message..Its about smiling just by seeing the name. Gud evng\n",
      "So is there anything specific I should be doing with regards to jaklin or what because idk what the fuck\n",
      "Oh god. I'm gonna Google nearby cliffs now.\n",
      "FREE camera phones with linerental from 4.49/month with 750 cross ntwk mins. 1/2 price txt bundle deals also avble. Call 08001950382 or call2optout/J MF\n",
      "Yup i shd haf ard 10 pages if i add figures... Ü all got how many pages?\n",
      "Ooh, 4got, i'm gonna start belly dancing in moseley weds 6.30 if u want 2 join me, they have a cafe too. \n",
      "Thankyou so much for the call. I appreciate your care.\n",
      "Congrats ! Treat pending.i am not on mail for 2 days.will mail once thru.Respect mother at home.check mails.\n",
      "I called but no one pick up e phone. I ask both of them already they said ok.\n",
      "Hi my email address has changed now it is \n",
      "V-aluable. A-ffectionate. L-oveable. E-ternal. N-oble. T-ruthful. I-ntimate. N-atural. E-namous. Happy \"VALENTINES DAY\" in advance\n",
      "Not much, just some textin'. How bout you?\n",
      "Bring it if you got it\n",
      "I'm in a movie. Call me 4 wat?\n",
      "Not sure I have the stomach for it ...\n",
      "Haha... can... But i'm having dinner with my cousin...\n",
      "A boy was late 2 home. His father: \"POWER OF FRNDSHIP\"\n",
      "(And my man carlos is definitely coming by mu tonight, no excuses)\n",
      "soon you will have the real thing princess! Do i make you wet? :)\n",
      "Raji..pls do me a favour. Pls convey my Birthday wishes to Nimya. Pls. Today is her birthday.\n",
      "Haha, my legs and neck are killing me and my amigos are hoping to end the night with a burn, think I could swing by in like an hour?\n",
      "URGENT! Your mobile No 07xxxxxxxxx won a £2,000 bonus caller prize on 02/06/03! this is the 2nd attempt to reach YOU! call 09066362231 ASAP! BOX97N7QP, 150PPM\n",
      "Usually the body takes care of it buy making sure it doesnt progress. Can we pls continue this talk on saturday.\n",
      "URGENT!! Your 4* Costa Del Sol Holiday or £5000 await collection. Call 09050090044 Now toClaim. SAE, TC s, POBox334, Stockport, SK38xh, Cost£1.50/pm, Max10mins\n",
      "Hmm well, night night \n",
      "Just wanted to say holy shit you guys weren't kidding about this bud\n",
      "Just gettin a bit arty with my collages at the mo, well tryin 2 ne way! Got a roast in a min lovely i shall enjoy that!\n",
      "This is one of the days you have a billion classes, right?\n",
      "Goodmorning, today i am late for 2hrs. Because of back pain.\n",
      "Ok then i'll let him noe later n ask him call u tmr...\n",
      "Prabha..i'm soryda..realy..frm heart i'm sory\n",
      "OK i'm waliking ard now... Do u wan me 2 buy anything go ur house?\n",
      "* Will have two more cartons off u and is very pleased with shelves\n",
      "Nice talking to you! please dont forget my pix :) i want to see all of you...\n",
      "You have WON a guaranteed £1000 cash or a £2000 prize. To claim yr prize call our customer service representative on 08714712379 between 10am-7pm Cost 10p\n",
      "But really quite funny lor wat... Then u shd haf run shorter distance wat...\n",
      "I notice you like looking in the shit mirror youre turning into a right freak\n",
      "Great. I was getting worried about you. Just know that a wonderful and caring person like you will have only the best in life. Know that u r wonderful and God's love is yours.\n",
      "Thanks for your ringtone order, ref number K718. Your mobile will be charged £4.50. Should your tone not arrive please call customer services on 09065069120\n",
      "I prefer my free days... Tues, wed, fri oso can... Ü ask those workin lor...\n",
      "Alrite jod hows the revision goin? Keris bin doin a smidgin. N e way u wanna cum over after college?xx\n",
      "If you have belive me. Come to my home.\n",
      "Oh k.k..where did you take test?\n",
      "Those were my exact intentions\n",
      "haha but no money leh... Later got to go for tuition... Haha and looking for empty slots for driving lessons\n",
      "Hey... Thk we juz go accordin to wat we discussed yest lor, except no kb on sun... Cos there's nt much lesson to go if we attend kb on sat...\n",
      "K, wen ur free come to my home and also tel vikky i hav sent mail to him also.. Better come evening il be free today aftr 6pm..:-)\n",
      "Nothing just getting msgs by dis name wit different no's..\n",
      "Good Morning plz call me sir\n",
      "What's your room number again? Wanna make sure I'm knocking on the right door\n",
      "Si.como no?!listened2the plaid album-quite gd&the new air1 which is hilarious-also boughtbraindancea comp.ofstuff on aphexs ;abel,u hav2hear it!c u sn xxxx\n",
      "Pls tell nelson that the bb's are no longer comin. The money i was expecting aint coming\n",
      "Give her something to drink, if she takes it and doesn't vomit then you her temp might drop. If she unmits however let me know.\n",
      "Think you sent the text to the home phone. That cant display texts. If you still want to send it his number is\n",
      "Every day i use to sleep after  &lt;#&gt;  so only.\n",
      "K I'll call you when I'm close\n",
      "U buy newspapers already?\n",
      "Nope wif my sis lor... Aft bathing my dog then i can bathe... Looks like it's going 2 rain soon.\n",
      "Boo I'm on my way to my moms. She's making tortilla soup. Yummmm\n",
      "No management puzzeles.\n",
      "How did you find out in a way that didn't include all of these details\n",
      "Hi ya babe x u 4goten bout me?' scammers getting smart..Though this is a regular vodafone no, if you respond you get further prem rate msg/subscription. Other nos used also. Beware!\n",
      "Back 2 work 2morro half term over! Can U C me 2nite 4 some sexy passion B4 I have 2 go back? Chat NOW 09099726481 Luv DENA Calls £1/minMobsmoreLKPOBOX177HP51FL\n",
      "will you like to be spoiled? :)\n",
      "Thanks for your ringtone order, ref number R836. Your mobile will be charged £4.50. Should your tone not arrive please call customer services on 09065069154\n",
      "I am getting threats from your sales executive Shifad as i raised complaint against him. Its an official message.\n",
      "hope things went well at 'doctors' ;) reminds me i still need 2go.did u c d little thing i left in the lounge?\n",
      "Den wat will e schedule b lk on sun?\n",
      "Lol enjoy role playing much?\n",
      "Ok. Me watching tv too.\n",
      "I just lov this line: \"Hurt me with the truth, I don't mind,i wil tolerat.bcs ur my someone..... But, Never comfort me with a lie\" gud ni8 and sweet dreams\n",
      "Just checked out, heading out to drop off my stuff now\n",
      "Here got lots of hair dresser fr china.\n",
      "Sad story of a Man - Last week was my b'day. My Wife did'nt wish me. My Parents forgot n so did my Kids . I went to work. Even my Colleagues did not wish.\n",
      "Ill call you evening ill some ideas.\n",
      "SplashMobile: Choose from 1000s of gr8 tones each wk! This is a subscrition service with weekly tones costing 300p. U have one credit - kick back and ENJOY\n",
      "Did you show him and wot did he say or could u not c him 4 dust?\n",
      "It should take about  &lt;#&gt;  min\n",
      "Not heard from U4 a while. Call 4 rude chat private line 01223585334 to cum. Wan 2C pics of me gettin shagged then text PIX to 8552. 2End send STOP 8552 SAM xxx\n",
      "Ok . . now i am in bus. . If i come soon i will come otherwise tomorrow\n",
      "I cant pick the phone right now. Pls send a message\n",
      "<Forwarded from 88877>FREE entry into our £250 weekly comp just send the word ENTER to 88877 NOW. 18 T&C www.textcomp.com\n",
      "Finish liao... U?\n",
      "88066 FROM 88066 LOST 3POUND HELP\n",
      "Haha i think i did too\n",
      "U know we watchin at lido?\n",
      "Life spend with someone for a lifetime may be meaningless but a few moments spent with someone who really love you means more than life itself..\n",
      "Haha awesome, I've been to 4u a couple times. Who all's coming?\n",
      "Cold. Dont be sad dear\n",
      "Think I could stop by in like an hour or so? My roommate's looking to stock up for a trip\n",
      "Is that on the telly? No its Brdget Jones!\n",
      "Love you aathi..love u lot..\n",
      "Hello! How r u? Im bored. Inever thought id get bored with the tv but I am. Tell me something exciting has happened there? Anything! =/\n",
      "Hmm...Bad news...Hype park plaza $700 studio taken...Only left 2 bedrm-$900...\n",
      "Sorry, I'll call later in meeting\n",
      "R ü comin back for dinner?\n",
      "I hav almost reached. Call, i m unable to connect u.\n",
      "Whom you waited for yesterday\n",
      "I reach home safe n sound liao...\n",
      "Velly good, yes please!\n",
      "Hi, wkend ok but journey terrible. Wk not good as have huge back log of marking to do\n",
      "I have had two more letters from . I will copy them for you cos one has a message for you. Speak soon\n",
      "Alex knows a guy who sells mids but he's down in south tampa and I don't think I could set it up before like 8\n",
      "Dont you have message offer\n",
      "Had your mobile 11mths ? Update for FREE to Oranges latest colour camera mobiles & unlimited weekend calls. Call Mobile Upd8 on freefone 08000839402 or 2StopTx\n",
      "HEY THERE BABE, HOW U DOIN? WOT U UP 2 2NITE LOVE ANNIE X.\n",
      "Remind me how to get there and I shall do so\n",
      ":-( that's not v romantic!\n",
      "Hello. Damn this christmas thing. I think i have decided to keep this mp3 that doesnt work.\n",
      "You have 1 new message. Please call 08718738034.\n",
      "HI DARLIN IM MISSIN U HOPE YOU ARE HAVING A GOOD TIME. WHEN ARE U BACK AND WHAT TIME IF U CAN GIVE ME A CALL AT HOME. JESS XX\n",
      "<Forwarded from 21870000>Hi - this is your Mailbox Messaging SMS alert. You have 4 messages. You have 21 matches. Please call back on 09056242159 to retrieve your messages and matches\n",
      "Draw va?i dont think so:)\n",
      "Dont pick up d call when something important is There to tell. Hrishi\n",
      "Congrats! 1 year special cinema pass for 2 is yours. call 09061209465 now! C Suprman V, Matrix3, StarWars3, etc all 4 FREE! bx420-ip4-5we. 150pm. Dont miss out!\n",
      "Nothin comes to my mind. Ü help me buy hanger lor. Ur laptop not heavy?\n",
      "&lt;#&gt; , that's all? Guess that's easy enough\n",
      "We can make a baby in yo tho\n",
      "Should I tell my friend not to come round til like  &lt;#&gt; ish?\n",
      "Friendship poem: Dear O Dear U R Not Near But I Can Hear Dont Get Fear Live With Cheer No More Tear U R Always my Dear. Gud ni8\n",
      "Still in the area of the restaurant. Ill try to come back soon\n",
      "Aight that'll work, thanks\n",
      "WIN a year supply of CDs 4 a store of ur choice worth £500 & enter our £100 Weekly draw txt MUSIC to 87066 Ts&Cs www.Ldew.com.subs16+1win150ppmx3\n",
      "Moby Pub Quiz.Win a £100 High Street prize if u know who the new Duchess of Cornwall will be? Txt her first name to 82277.unsub STOP £1.50 008704050406 SP Arrow\n",
      "I have 2 sleeping bags, 1 blanket and paper and  phone details. Anything else?\n",
      "You have won a Nokia 7250i. This is what you get when you win our FREE auction. To take part send Nokia to 86021 now. HG/Suite342/2Lands Row/W1JHL 16+ \n",
      "Congratulations! Thanks to a good friend U have WON the £2,000 Xmas prize. 2 claim is easy, just call 08718726971 NOW! Only 10p per minute. BT-national-rate.\n",
      "tddnewsletter@emc1.co.uk (More games from TheDailyDraw) Dear Helen, Dozens of Free Games - with great prizesWith..\n",
      "So what do you guys do.\n",
      "Also that chat was awesome but don't make it regular unless you can see her in person\n",
      "That's significant but dont worry.\n",
      "That's cause your old. I live to be high.\n",
      "Waqt se pehle or naseeb se zyada kisi ko kuch nahi milta,Zindgi wo nahi he jo hum sochte hai Zindgi wo hai jo ham jeetey hai..........\n",
      "On the way to office da..\n",
      "In which place do you want da.\n",
      "This pain couldn't have come at a worse time.\n",
      "Ok...\n",
      "Should I be stalking u?\n",
      "Sorry dude. Dont know how i forgot. Even after Dan reminded me. Sorry. Hope you guys had fun.\n",
      "Ok lor.\n",
      "Apps class varaya elaya.\n",
      "The Xmas story is peace.. The Xmas msg is love.. The Xmas miracle is jesus.. Hav a blessed month ahead &amp; wish U Merry Xmas...\n",
      "URGENT! Your mobile number *************** WON a £2000 Bonus Caller prize on 10/06/03! This is the 2nd attempt to reach you! Call 09066368753 ASAP! Box 97N7QP, 150ppm\n",
      "That day you asked about anand number. Why:-)\n",
      "Am surfing online store. For offers do you want to buy any thing.\n",
      "Long beach lor. Expected... U having dinner now?\n",
      "At home by the way\n",
      "We are both fine. Thanks\n",
      "What happen to her tell the truth\n",
      "Do you like Italian food?\n",
      "Which is weird because I know I had it at one point\n",
      "Aww you must be nearly dead!Well Jez isComing over toDo some workAnd that whillTake forever!\n",
      "Tell your friends what you plan to do on Valentines day @ &lt;URL&gt;\n",
      "Alright, see you in a bit\n",
      "Cheers for the message Zogtorius. Ive been staring at my phone for an age deciding whether to text or not.\n",
      "I will take care of financial problem.i will help:)\n",
      "Tell dear what happen to you. Why you talking to me like an alian\n",
      "Double your mins & txts on Orange or 1/2 price linerental - Motorola and SonyEricsson with B/Tooth FREE-Nokia FREE Call MobileUpd8 on 08000839402 or2optout/HV9D\n",
      "1) Go to write msg 2) Put on Dictionary mode 3)Cover the screen with hand, 4)Press  &lt;#&gt; . 5)Gently remove Ur hand.. Its interesting..:)\n",
      "Okie...\n",
      "Hi this is yijue, can i meet u at 11 tmr?\n",
      "Its posible dnt live in  &lt;#&gt; century cm frwd n thnk different\n",
      "But i dint slept in afternoon.\n",
      "That seems unnecessarily affectionate\n",
      "Yar else i'll thk of all sorts of funny things.\n",
      "You will be in the place of that man\n",
      "Download as many ringtones as u like no restrictions, 1000s 2 choose. U can even send 2 yr buddys. Txt Sir to 80082 £3 \n",
      "Thats cool. How was your day?\n",
      "This message is free. Welcome to the new & improved Sex & Dogging club! To unsubscribe from this service reply STOP. msgs@150p 18 only\n",
      "Honeybee Said: *I'm d Sweetest in d World* God Laughed &amp; Said: *Wait,U Havnt Met d Person Reading This Msg* MORAL: Even GOD Can Crack Jokes! GM+GN+GE+GN:)\n",
      "Just do what ever is easier for you\n",
      "RCT' THNQ Adrian for U text. Rgds Vatian\n",
      "Stop calling everyone saying I might have cancer. My throat hurts to talk. I can't be answering everyones calls. If I get one more call I'm not babysitting on Monday\n",
      "It'll be tough, but I'll do what I have to\n",
      "IM GONNAMISSU SO MUCH!!I WOULD SAY IL SEND U A POSTCARD BUTTHERES ABOUTAS MUCH CHANCE OF MEREMEMBERIN ASTHERE IS OFSI NOT BREAKIN HIS CONTRACT!! LUV Yaxx\n",
      "Ee msg na poortiyagi odalebeku: Hanumanji 7 name 1-Hanuman 2-Bajarangabali 3-Maruti 4-Pavanaputra 5-Sankatmochan 6-Ramaduth 7-Mahaveer ee 7 name  &lt;#&gt;  janarige ivatte kalisidare next saturday olage ondu good news keluviri...! Maretare inde 1 dodda problum nalli siguviri idu matra  &lt;#&gt; % true.. Don't neglet.\n",
      "HI DARLIN I FINISH AT 3 DO U 1 2 PICK ME UP OR MEET ME? TEXT BACK ON THIS NUMBER LUV KATE XXX\n",
      "Set a place for me in your heart and not in your mind, as the mind easily forgets but the heart will always remember. Wish you Happy Valentines Day!\n",
      "But i'm surprised she still can guess right lor...\n",
      "Okie ü wan meet at bishan? Cos me at bishan now. I'm not driving today.\n",
      "Oh ho. Is this the first time u use these type of words\n",
      "HI DARLIN HOW WAS WORK DID U GET INTO TROUBLE? IJUST TALKED TO YOUR MUM ALL MORNING! I HAD A REALLY GOOD TIME LAST NIGHT IM GOIN OUT SOON BUT CALL ME IF U CAN\n",
      "I know you are serving. I mean what are you doing now.\n",
      "Huh... Hyde park not in mel ah, opps, got confused... Anyway, if tt's e best choice den we juz have to take it...\n",
      "Oh gei. That happend to me in tron. Maybe ill dl it in 3d when its out\n",
      "FREE MESSAGE Activate your 500 FREE Text Messages by replying to this message with the word FREE For terms & conditions, visit www.07781482378.com\n",
      "I know girls always safe and selfish know i got it pa. Thank you. good night.\n",
      "No worries, hope photo shoot went well. have a spiffing fun at workage. \n",
      "I'm freezing and craving ice. Fml\n",
      "Kay... Since we are out already \n",
      "Eh sorry leh... I din c ur msg. Not sad already lar. Me watching tv now. U still in office?\n",
      "Yo im right by yo work\n",
      "Ok darlin i supose it was ok i just worry too much.i have to do some film stuff my mate and then have to babysit again! But you can call me there.xx\n",
      "She said,'' do u mind if I go into the bedroom for a minute ? '' ''OK'', I sed in a sexy mood. She came out 5 minuts latr wid a cake...n My Wife,\n",
      "I don wake since. I checked that stuff and saw that its true no available spaces. Pls call the embassy or send a mail to them.\n",
      "Nope... Juz off from work...\n",
      "Huh so fast... Dat means u havent finished painting?\n",
      " what number do u live at? Is it 11?\n",
      "No we put party 7 days a week and study lightly, I think we need to draw in some custom checkboxes so they know we're hardcore\n",
      "Sac will score big hundred.he is set batsman:-)\n",
      "Send me yetty's number pls.\n",
      "How much it will cost approx . Per month.\n",
      "Ok... The theory test? when are ü going to book? I think it's on 21 may. Coz thought wanna go out with jiayin. But she isnt free\n",
      "You are being contacted by our dating service by someone you know! To find out who it is, call from a land line 09050000928. PoBox45W2TG150P\n",
      "That's fine, have him give me a call if he knows what he wants or has any questions\n",
      "Sorry, got a late start, we're on the way\n",
      "Then u go back urself lor...\n",
      "I AM AT THE GAS STATION. GO THERE.\n",
      "K, if u bored up just come to my home..\n",
      "Babe !!!! I LOVE YOU !!!! *covers your face in kisses*\n",
      "Like I made him throw up when we were smoking in our friend's car one time, it was awesome\n",
      "Still i have not checked it da. . .\n",
      "You will go to walmart. I.ll stay.\n",
      "I haven't forgotten you, i might have a couple bucks to send you tomorrow, k? I love ya too\n",
      "Oh great. I.ll disturb him more so that we can talk.\n",
      "Reverse is cheating. That is not mathematics.\n",
      "U're welcome... Caught u using broken english again...\n",
      "No problem baby. Is this is a good time to talk? I called and left a message.\n",
      "Sorry, I'll call later\n",
      "Oh is it! Which brand?\n",
      "Sorry i cant take your call right now. It so happens that there r 2waxsto do wat you want. She can come and ill get her medical insurance. And she'll be able to deliver and have basic care. I'm currently shopping for the right medical insurance for her. So just give me til friday morning. Thats when i.ll see the major person that can guide me to the right insurance.\n",
      "At what time are you coming.\n",
      "Call him and say you not coming today ok and tell them not to fool me like this ok\n",
      "I emailed yifeng my part oredi.. Can ü get it fr him..\n",
      "R u sure they'll understand that! Wine * good idea just had a slurp!\n",
      "Minimum walk is 3miles a day.\n",
      "Ok not a problem will get them a taxi. C ing  tomorrow and tuesday. On tuesday think we r all going to the cinema. \n",
      "Brainless Baby Doll..:-D;-), vehicle sariyag drive madoke barolla..\n",
      "I don't run away frm u... I walk slowly &amp; it kills me that u don't care enough to stop me...\n",
      "Sorry I missed your call let's talk when you have the time. I'm on 07090201529\n",
      "Please attend the phone:)\n",
      "You only hate me. You can call any but you didnt accept even a single call of mine. Or even you messaged\n",
      "No messages on her phone. I'm holding it now\n",
      "Can... I'm free...\n",
      "Gal n boy walking in d park. gal-can i hold ur hand? boy-y? do u think i would run away? gal-no, jst wana c how it feels walking in heaven with an prince..GN:-)\n",
      "What makes you most happy?\n",
      "Wishing you a wonderful week.\n",
      "Sweet heart how are you?\n",
      "Sir, waiting for your letter.\n",
      "Dude im no longer a pisces. Im an aquarius now.\n",
      "X course it 2yrs. Just so her messages on messenger lik you r sending me\n",
      "I think steyn surely get one wicket:)\n",
      "Neither [in sterm voice] - i'm studying. All fine with me! Not sure the  thing will be resolved, tho. Anyway. Have a fab hols\n",
      "Garbage bags, eggs, jam, bread, hannaford wheat chex\n",
      "No. It's not pride. I'm almost  &lt;#&gt;  years old and shouldn't be takin money from my kid. You're not supposed to have to deal with this stuff. This is grownup stuff--why i don't tell you.\n",
      "Sounds better than my evening im just doing my costume. Im not sure what time i finish tomorrow but i will txt you at the end.\n",
      "My birthday is on feb  &lt;#&gt;  da. .\n",
      "So when do you wanna gym?\n",
      "You'd like that wouldn't you? Jerk!\n",
      "Are u awake? Is there snow there?\n",
      "And of course you should make a stink!\n",
      "u r subscribed 2 TEXTCOMP 250 wkly comp. 1st wk?s free question follows, subsequent wks charged@150p/msg.2 unsubscribe txt STOP 2 84128,custcare 08712405020\n",
      "No go. No openings for that room 'til after thanksgiving without an upcharge.\n",
      "When you guys planning on coming over?\n",
      "Wat ü doing now?\n",
      "My Parents, My Kidz, My Friends n My Colleagues. All screaming.. SURPRISE !! and I was waiting on the sofa.. ... ..... ' NAKED...!\n",
      "No sir. That's why i had an 8-hr trip on the bus last week. Have another audition next wednesday but i think i might drive this time.\n",
      "Do I? I thought I put it back in the box\n",
      "I'm home...\n",
      "No one interested. May be some business plan.\n",
      "Yup it's at paragon... I havent decided whether 2 cut yet... Hee...\n",
      "Good morning princess! Have a great day!\n",
      "Guai... Ü shd haf seen him when he's naughty... Ü so free today? Can go jogging...\n",
      "Aiyo cos i sms ü then ü neva reply so i wait 4 ü to reply lar. I tot ü havent finish ur lab wat.\n",
      "Living is very simple.. Loving is also simple.. Laughing is too simple.. Winning is tooo simple.. But, Being 'SIMPLE' is very difficult...;-) :-)\n",
      "Tell me something. Thats okay.\n",
      "Ok\n",
      "Hmm. Shall i bring a bottle of wine to keep us amused? Just joking! I'll still bring a bottle. Red or white? See you tomorrow\n",
      "This is ur face test ( 1 2 3 4 5 6 7 8 9  &lt;#&gt;  ) select any number i will tell ur face astrology.... am waiting. quick reply...\n",
      "Hey, iouri gave me your number, I'm wylie, ryan's friend\n",
      "Yep get with the program. You're slacking.\n",
      "I'm in inside office..still filling forms.don know when they leave me.\n",
      "I think your mentor is , but not 100 percent sure.\n",
      "Call 09095350301 and send our girls into erotic ecstacy. Just 60p/min. To stop texts call 08712460324 (nat rate)\n",
      "Camera - You are awarded a SiPix Digital Camera! call 09061221066 fromm landline. Delivery within 28 days.\n",
      "A £400 XMAS REWARD IS WAITING FOR YOU! Our computer has randomly picked you from our loyal mobile customers to receive a £400 reward. Just call 09066380611\n",
      "Just trying to figure out when I'm suppose to see a couple different people this week. We said we'd get together but I didn't set dates\n",
      "IMPORTANT MESSAGE. This is a final contact attempt. You have important messages waiting out our customer claims dept. Expires 13/4/04. Call 08717507382 NOW!\n",
      "Hi mom we might be back later than  &lt;#&gt; \n",
      "dating:i have had two of these. Only started after i sent a text to talk sport radio last week. Any connection do you think or coincidence?\n",
      "Lol, oh you got a friend for the dog ?\n",
      "Ok., is any problem to u frm him? Wats matter?\n",
      "K I'll head out in a few mins, see you there\n",
      "Do u konw waht is rael FRIENDSHIP Im gving yuo an exmpel: Jsut ese tihs msg.. Evrey splleing of tihs msg is wrnog.. Bt sitll yuo can raed it wihtuot ayn mitsake.. GOODNIGHT &amp; HAVE A NICE SLEEP..SWEET DREAMS..\n",
      "I cant pick the phone right now. Pls send a message\n",
      "I don't want you to leave. But i'm barely doing what i can to stay sane. fighting with you constantly isn't helping.\n",
      "The current leading bid is 151. To pause this auction send OUT. Customer Care: 08718726270\n",
      "Free entry to the gr8prizes wkly comp 4 a chance to win the latest Nokia 8800, PSP or £250 cash every wk.TXT GREAT to 80878 http//www.gr8prizes.com 08715705022\n",
      "Somebody set up a website where you can play hold em using eve online spacebucks\n",
      "Its sunny in california. The weather's just cool\n",
      "You have 1 new message. Call 0207-083-6089\n",
      "I can make it up there, squeezed  &lt;#&gt;  bucks out of my dad\n",
      "Good day to You too.Pray for me.Remove the teeth as its painful maintaining other stuff.\n",
      "How are you babes. Hope your doing ok. I had a shit nights sleep. I fell asleep at 5.Im knackered and im dreading work tonight. What are thou upto tonight. X\n",
      "How do friends help us in problems? They give the most stupid suggestion that Lands us into another problem and helps us forgt the previous problem\n",
      "I'm at work. Please call\n",
      "I will be gentle baby! Soon you will be taking all  &lt;#&gt;  inches deep inside your tight pussy...\n",
      "NOT MUCH NO FIGHTS. IT WAS A GOOD NITE!!\n",
      "Ok.ok ok..then..whats ur todays plan\n",
      "Nt joking seriously i told\n",
      "Watching ajith film ah?\n",
      "Ooooooh I forgot to tell u I can get on yoville on my phone\n",
      "All done, all handed in. Don't know if mega shop in asda counts as celebration but thats what i'm doing!\n",
      "I dont know exactly could you ask chechi.\n",
      "Dunno lei shd b driving lor cos i go sch 1 hr oni.\n",
      "As in i want custom officer discount oh.\n",
      "That's necessarily respectful\n",
      "Hi. Hope you had a good day. Have a better night.\n",
      "And he's apparently bffs with carly quick now\n",
      "HARD BUT TRUE: How much you show &amp;  express your love to someone....that much it will hurt when they leave you or you get seperated...!鈥┾??〨ud evening...\n",
      "Babes I think I got ur brolly I left it in English wil bring it in 2mrw 4 u luv Franxx\n",
      "Hi babe its me thanks for coming even though it didnt go that well!i just wanted my bed! Hope to see you soon love and kisses xxx\n",
      "So gd got free ice cream... I oso wan...\n",
      "Pls give her prometazine syrup. 5mls then  &lt;#&gt; mins later feed.\n",
      "So how many days since then?\n",
      "Dear are you angry i was busy dear\n",
      "Yup he msg me: is tat yijue? Then i tot it's my group mate cos we meeting today mah... I'm askin if ü leaving earlier or wat mah cos mayb ü haf to walk v far...\n",
      "... Are you in the pub?\n",
      "There is a first time for everything :)\n",
      "Daddy, shu shu is looking 4 u... U wan me 2 tell him u're not in singapore or wat?\n",
      "I ask if u meeting da ge tmr nite...\n",
      "Gr8. So how do you handle the victoria island traffic. Plus when's the album due\n",
      "Nite nite pocay wocay luv u more than n e thing 4eva I promise ring u 2morrowxxxx\n",
      "East coast\n",
      "You should get more chicken broth if you want ramen unless there's some I don't know about\n",
      "My slave! I want you to take 2 or 3 pictures of yourself today in bright light on your cell phone! Bright light!\n",
      "Nope. I just forgot. Will show next week\n",
      "So how are you really. What are you up to. How's the masters. And so on.\n",
      "I'm at bruce &amp; fowler now but I'm in my mom's car so I can't park (long story)\n",
      "I dont know oh. Hopefully this month.\n",
      "Hi elaine, is today's meeting confirmed?\n",
      "Ok k..sry i knw 2 siva..tats y i askd..\n",
      "Sorry, I'll call later\n",
      "U horrible gal... U knew dat i was going out wif him yest n u still come n ask me...\n",
      "Otherwise had part time job na-tuition..\n",
      "Oh yeah! And my diet just flew out the window\n",
      "Santa Calling! Would your little ones like a call from Santa Xmas eve? Call 09058094583 to book your time.\n",
      "You didnt complete your gist oh.\n",
      "Er yeah, i will b there at 15:26, sorry! Just tell me which pub/cafe to sit in and come wen u can\n",
      "If you can make it any time tonight or whenever you can it's cool, just text me whenever you're around\n",
      "If I was I wasn't paying attention\n",
      "Thanx a lot 4 ur help!\n",
      "You're gonna have to be way more specific than that\n",
      "Jesus armand really is trying to tell everybody he can find\n",
      "I'm wif him now buying tix lar...\n",
      "Mode men or have you left.\n",
      "Am slow in using biola's fne\n",
      "What are youdoing later? Sar xxx\n",
      "Hey i've booked the 2 lessons on sun liao...\n",
      "Thank you. do you generally date the brothas?\n",
      "By the way, make sure u get train to worc foregate street not shrub hill. Have fun night x\n",
      "I thought i'd get him a watch, just cos thats the kind of thing u get4an18th. And he loves so much!\n",
      "You have won a guaranteed 32000 award or maybe even £1000 cash to claim ur award call free on 0800 ..... (18+). Its a legitimat efreefone number wat do u think???\n",
      "Good morning. At the repair shop--the ONLY reason i'm up at this hour.\n",
      "And that's fine, I got enough bud to last most of the night at least\n",
      "I am back. Good journey! Let me know if you need any of the receipts. Shall i tell you like the pendent?\n",
      "So that takes away some money worries\n",
      "aight we can pick some up, you open before tonight?\n",
      "Latest News! Police station toilet stolen, cops have nothing to go on!\n",
      "Sac needs to carry on:)\n",
      "Just sing HU. I think its also important to find someone female that know the place well preferably a citizen that is also smart to help you navigate through. Even things like choosing a phone plan require guidance. When in doubt ask especially girls.\n",
      "What???? Hello wats talks email address?\n",
      "Except theres a chick with huge boobs.\n",
      "Im just wondering what your doing right now?\n",
      "Wishing you a beautiful day. Each moment revealing even more things to keep you smiling. Do enjoy it.\n",
      "For the most sparkling shopping breaks from 45 per person; call 0121 2025050 or visit www.shortbreaks.org.uk\n",
      "Arun can u transfr me d amt\n",
      "Sorry, I'll call later\n",
      "If you hear a loud scream in about &lt;#&gt; minutes its cause my Gyno will be shoving things up me that don't belong :/\n",
      "December only! Had your mobile 11mths+? You are entitled to update to the latest colour camera mobile for Free! Call The Mobile Update Co FREE on 08002986906\n",
      "Ok i thk i got it. Then u wan me 2 come now or wat?\n",
      "Txt: CALL to No: 86888 & claim your reward of 3 hours talk time to use from your phone now! Subscribe6GBP/mnth inc 3hrs 16 stop?txtStop www.gamb.tv\n",
      "U GOIN OUT 2NITE?\n",
      "I will treasure every moment we spend together...\n",
      "Shall I bring us a bottle of wine to keep us amused? Only joking! I‘ll bring one anyway\n",
      "http//tms. widelive.com/index. wml?id=820554ad0a1705572711&first=true¡C C Ringtone¡\n",
      "Get your garden ready for summer with a FREE selection of summer bulbs and seeds worth £33:50 only with The Scotsman this Saturday. To stop go2 notxt.co.uk\n",
      "URGENT! Last weekend's draw shows that you have won £1000 cash or a Spanish holiday! CALL NOW 09050000332 to claim. T&C: RSTM, SW7 3SS. 150ppm\n",
      "Ok lor.\n",
      "I thought slide is enough.\n",
      "Yup\n",
      "Well obviously not because all the people in my cool college life went home ;_;\n",
      "Ok lor ü reaching then message me.\n",
      "Where's mummy's boy ? Is he being good or bad ? Is he being positive or negative ? Why is mummy being made to wait? Hmmmm?\n",
      "Dhoni have luck to win some big title.so we will win:)\n",
      "Yes princess! I want to please you every night. Your wish is my command...\n",
      "What Today-sunday..sunday is holiday..so no work..\n",
      "No probably  &lt;#&gt; %.\n",
      "Really do hope the work doesnt get stressful. Have a gr8 day.\n",
      "Have you seen who's back at Holby?!\n",
      "Shall call now dear having food\n",
      "URGENT We are trying to contact you Last weekends draw shows u have won a £1000 prize GUARANTEED Call 09064017295 Claim code K52 Valid 12hrs 150p pm\n",
      "So li hai... Me bored now da lecturer repeating last weeks stuff waste time... \n",
      ", ,  and  picking them up from various points | going 2 yeovil | and they will do the motor project 4 3 hours | and then u take them home. || 12 2 5.30 max. || Very easy\n",
      "Also fuck you and your family for going to rhode island or wherever the fuck and leaving me all alone the week I have a new bong &gt;:(\n",
      "Ofcourse I also upload some songs\n",
      "2p per min to call Germany 08448350055 from your BT line. Just 2p per min. Check PlanetTalkInstant.com for info & T's & C's. Text stop to opt out\n",
      "K. I will sent it again\n",
      "Oh thanks a lot..i already bought 2 eggs ..\n",
      "K. I will sent it again\n",
      "U studying in sch or going home? Anyway i'll b going 2 sch later.\n",
      "Marvel Mobile Play the official Ultimate Spider-man game (£4.50) on ur mobile right now. Text SPIDER to 83338 for the game & we ll send u a FREE 8Ball wallpaper\n",
      "I think if he rule tamilnadu..then its very tough for our people.\n",
      "Cool, we shall go and see, have to go to tip anyway. Are you at home, got something to drop in later? So lets go to town tonight! Maybe mum can take us in.\n",
      "Good afternoon, my love ... How goes your day ? How did you sleep ? I hope your well, my boytoy ... I think of you ...\n",
      "Yes... I trust u to buy new stuff ASAP so I can try it out\n",
      "SMS SERVICES. for your inclusive text credits, pls goto www.comuk.net login= 3qxj9 unsubscribe with STOP, no extra charge. help 08702840625.COMUK. 220-CM2 9AE\n",
      "Why did I wake up on my own &gt;:(\n",
      "Now get step 2 outta the way. Congrats again.\n",
      "Love has one law; Make happy the person you love. In the same way friendship has one law; Never make ur friend feel alone until you are alive.... Gud night\n",
      "PRIVATE! Your 2003 Account Statement for 07808247860 shows 800 un-redeemed S. I. M. points. Call 08719899229 Identifier Code: 40411 Expires 06/11/04\n",
      "Apo all other are mokka players only\n",
      "Perhaps * is much easy give your account identification, so i will tomorrow at UNI\n",
      "Wait . I will msg after  &lt;#&gt;  min.\n",
      "What i told before i tell. Stupid hear after i wont tell anything to you. You dad called to my brother and spoken. Not with me.\n",
      "God's love has no limit. God's grace has no measure. God's power has no boundaries. May u have God's endless blessings always in ur life...!! Gud ni8\n",
      "I want to be inside you every night...\n",
      "Machan you go to gym tomorrow,  i wil come late goodnight.\n",
      "Lol they were mad at first but then they woke up and gave in.\n",
      "I went to project centre\n",
      "It‘s reassuring, in this crazy world.\n",
      "Just making dinner, you ?\n",
      "Yes. Please leave at  &lt;#&gt; . So that at  &lt;#&gt;  we can leave\n",
      "Oh... Okie lor...We go on sat... \n",
      "You are a great role model. You are giving so much and i really wish each day for a miracle but God as a reason for everything and i must say i wish i knew why but i dont. I've looked up to you since i was young and i still do. Have a great day.\n",
      "Ya, i'm referin to mei's ex wat... No ah, waitin 4 u to treat, somebody shld b rich liao...So gd, den u dun have to work frm tmr onwards...\n",
      "Miles and smiles r made frm same letters but do u know d difference..? smile on ur face keeps me happy even though I am miles away from u.. :-)keep smiling.. Good nyt\n",
      "By the way, i've put a skip right outside the front of the house so you can see which house it is. Just pull up before it.\n",
      "Can you pls send me that company name. In saibaba colany\n",
      "No. I dont want to hear anything\n",
      "You are a big chic. Common. Declare\n",
      "Thats cool. I want to please you...\n",
      "Going to join tomorrow.\n",
      "You are awarded a SiPix Digital Camera! call 09061221061 from landline. Delivery within 28days. T Cs Box177. M221BP. 2yr warranty. 150ppm. 16 . p p£3.99\n",
      "I want to tell you how bad I feel that basically the only times I text you lately are when I need drugs\n",
      "PRIVATE! Your 2003 Account Statement for shows 800 un-redeemed S.I.M. points. Call 08718738001 Identifier Code: 49557 Expires 26/11/04\n",
      "Total disappointment, when I texted you was the craziest shit got :(\n",
      "Its just the effect of irritation. Just ignore it\n",
      "What about this one then.\n",
      "I think that tantrum's finished so yeah I'll be by at some point\n",
      "Compliments to you. Was away from the system. How your side.\n",
      "happened here while you were adventuring\n",
      "Hey chief, can you give me a bell when you get this. Need to talk to you about this royal visit on the 1st june. \n",
      "Ok which your another number\n",
      "I know you are thinkin malaria. But relax, children cant handle malaria. She would have been worse and its gastroenteritis. If she takes enough to replace her loss her temp will reduce. And if you give her malaria meds now she will just vomit. Its a self limiting illness she has which means in a few days it will completely stop\n",
      "Aiyah ok wat as long as got improve can already wat...\n",
      "Want explicit SEX in 30 secs? Ring 02073162414 now! Costs 20p/min Gsex POBOX 2667 WC1N 3XX\n",
      "I can't believe how attached I am to seeing you every day. I know you will do the best you can to get to me babe. I will go to teach my class at your midnight\n",
      "Just sleeping..and surfing\n",
      "ASKED 3MOBILE IF 0870 CHATLINES INCLU IN FREE MINS. INDIA CUST SERVs SED YES. L8ER GOT MEGA BILL. 3 DONT GIV A SHIT. BAILIFF DUE IN DAYS. I O £250 3 WANT £800\n",
      "Yeah it's jus rite...\n",
      "Armand says get your ass over to epsilon\n",
      "U still havent got urself a jacket ah?\n",
      "I'm taking derek &amp; taylor to walmart, if I'm not back by the time you're done just leave the mouse on my desk and I'll text you when priscilla's ready\n",
      "Hi its in durban are you still on this number\n",
      "Ic. There are a lotta childporn cars then.\n",
      "Had your contract mobile 11 Mnths? Latest Motorola, Nokia etc. all FREE! Double Mins & Text on Orange tariffs. TEXT YES for callback, no to remove from records.\n",
      "No, I was trying it all weekend ;V\n",
      "You know, wot people wear. T shirts, jumpers, hat, belt, is all we know. We r at Cribbs\n",
      "Cool, what time you think you can get here?\n",
      "Wen did you get so spiritual and deep. That's great\n",
      "Have a safe trip to Nigeria. Wish you happiness and very soon company to share moments with\n",
      "Hahaha..use your brain dear\n",
      "Well keep in mind I've only got enough gas for one more round trip barring a sudden influx of cash\n",
      "Yeh. Indians was nice. Tho it did kane me off a bit he he. We shud go out 4 a drink sometime soon. Mite hav 2 go 2 da works 4 a laugh soon. Love Pete x x\n",
      "Yes i have. So that's why u texted. Pshew...missing you so much\n",
      "No. I meant the calculation is the same. That  &lt;#&gt; units at  &lt;#&gt; . This school is really expensive. Have you started practicing your accent. Because its important. And have you decided if you are doing 4years of dental school or if you'll just do the nmde exam.\n",
      "Sorry, I'll call later\n",
      "if you aren't here in the next  &lt;#&gt;  hours imma flip my shit\n",
      "Anything lor. Juz both of us lor.\n",
      "Get me out of this dump heap. My mom decided to come to lowes. BORING.\n",
      "Ok lor... Sony ericsson salesman... I ask shuhui then she say quite gd 2 use so i considering...\n",
      "Ard 6 like dat lor.\n",
      "Why don't you wait 'til at least wednesday to see if you get your .\n"
     ]
    }
   ],
   "source": [
    "for messages in df['Message']:\n",
    "  print(messages)"
   ]
  },
  {
   "cell_type": "markdown",
   "metadata": {
    "id": "u57z8-Rx6Nqi"
   },
   "source": [
    "Problems in message col:\n",
    "\n",
    " - Not a fix format\n",
    " - Spelling problems  - Because spelling problem , we need advanced models e.g. Glove , Elmo , BERT , Roberta , Good amount of dictionary, Spelling correction models.\n",
    " - Special characters\n",
    " - Upper case issues"
   ]
  },
  {
   "cell_type": "code",
   "execution_count": 11,
   "metadata": {
    "id": "FqVuV3JC5Vgq"
   },
   "outputs": [],
   "source": [
    "import string\n",
    "mess = \"This is sample messaging!@..\""
   ]
  },
  {
   "cell_type": "code",
   "execution_count": 12,
   "metadata": {
    "id": "1xq3APhR7DOk"
   },
   "outputs": [
    {
     "data": {
      "text/plain": [
       "'This is sample messaging!@..'"
      ]
     },
     "execution_count": 12,
     "metadata": {},
     "output_type": "execute_result"
    }
   ],
   "source": [
    "mess"
   ]
  },
  {
   "cell_type": "code",
   "execution_count": 13,
   "metadata": {
    "id": "038Ig_7F7ES_"
   },
   "outputs": [],
   "source": [
    "nonpunc = ''.join([char for char in mess if char not in string.punctuation])"
   ]
  },
  {
   "cell_type": "code",
   "execution_count": 14,
   "metadata": {
    "id": "17WWZgJ-8JJl"
   },
   "outputs": [
    {
     "data": {
      "text/plain": [
       "'This is sample messaging'"
      ]
     },
     "execution_count": 14,
     "metadata": {},
     "output_type": "execute_result"
    }
   ],
   "source": [
    "nonpunc"
   ]
  },
  {
   "cell_type": "code",
   "execution_count": 15,
   "metadata": {
    "id": "QSRa1Fy57fDa"
   },
   "outputs": [
    {
     "name": "stderr",
     "output_type": "stream",
     "text": [
      "[nltk_data] Downloading package stopwords to\n",
      "[nltk_data]     C:\\Users\\Admin\\AppData\\Roaming\\nltk_data...\n",
      "[nltk_data]   Unzipping corpora\\stopwords.zip.\n"
     ]
    },
    {
     "data": {
      "text/plain": [
       "True"
      ]
     },
     "execution_count": 15,
     "metadata": {},
     "output_type": "execute_result"
    }
   ],
   "source": [
    "import nltk\n",
    "nltk.download('stopwords')"
   ]
  },
  {
   "cell_type": "code",
   "execution_count": 16,
   "metadata": {
    "id": "RZ4QiUL_79LT"
   },
   "outputs": [
    {
     "data": {
      "text/plain": [
       "['i',\n",
       " 'me',\n",
       " 'my',\n",
       " 'myself',\n",
       " 'we',\n",
       " 'our',\n",
       " 'ours',\n",
       " 'ourselves',\n",
       " 'you',\n",
       " \"you're\",\n",
       " \"you've\",\n",
       " \"you'll\",\n",
       " \"you'd\",\n",
       " 'your',\n",
       " 'yours',\n",
       " 'yourself',\n",
       " 'yourselves',\n",
       " 'he',\n",
       " 'him',\n",
       " 'his',\n",
       " 'himself',\n",
       " 'she',\n",
       " \"she's\",\n",
       " 'her',\n",
       " 'hers',\n",
       " 'herself',\n",
       " 'it',\n",
       " \"it's\",\n",
       " 'its',\n",
       " 'itself',\n",
       " 'they',\n",
       " 'them',\n",
       " 'their',\n",
       " 'theirs',\n",
       " 'themselves',\n",
       " 'what',\n",
       " 'which',\n",
       " 'who',\n",
       " 'whom',\n",
       " 'this',\n",
       " 'that',\n",
       " \"that'll\",\n",
       " 'these',\n",
       " 'those',\n",
       " 'am',\n",
       " 'is',\n",
       " 'are',\n",
       " 'was',\n",
       " 'were',\n",
       " 'be',\n",
       " 'been',\n",
       " 'being',\n",
       " 'have',\n",
       " 'has',\n",
       " 'had',\n",
       " 'having',\n",
       " 'do',\n",
       " 'does',\n",
       " 'did',\n",
       " 'doing',\n",
       " 'a',\n",
       " 'an',\n",
       " 'the',\n",
       " 'and',\n",
       " 'but',\n",
       " 'if',\n",
       " 'or',\n",
       " 'because',\n",
       " 'as',\n",
       " 'until',\n",
       " 'while',\n",
       " 'of',\n",
       " 'at',\n",
       " 'by',\n",
       " 'for',\n",
       " 'with',\n",
       " 'about',\n",
       " 'against',\n",
       " 'between',\n",
       " 'into',\n",
       " 'through',\n",
       " 'during',\n",
       " 'before',\n",
       " 'after',\n",
       " 'above',\n",
       " 'below',\n",
       " 'to',\n",
       " 'from',\n",
       " 'up',\n",
       " 'down',\n",
       " 'in',\n",
       " 'out',\n",
       " 'on',\n",
       " 'off',\n",
       " 'over',\n",
       " 'under',\n",
       " 'again',\n",
       " 'further',\n",
       " 'then',\n",
       " 'once',\n",
       " 'here',\n",
       " 'there',\n",
       " 'when',\n",
       " 'where',\n",
       " 'why',\n",
       " 'how',\n",
       " 'all',\n",
       " 'any',\n",
       " 'both',\n",
       " 'each',\n",
       " 'few',\n",
       " 'more',\n",
       " 'most',\n",
       " 'other',\n",
       " 'some',\n",
       " 'such',\n",
       " 'no',\n",
       " 'nor',\n",
       " 'not',\n",
       " 'only',\n",
       " 'own',\n",
       " 'same',\n",
       " 'so',\n",
       " 'than',\n",
       " 'too',\n",
       " 'very',\n",
       " 's',\n",
       " 't',\n",
       " 'can',\n",
       " 'will',\n",
       " 'just',\n",
       " 'don',\n",
       " \"don't\",\n",
       " 'should',\n",
       " \"should've\",\n",
       " 'now',\n",
       " 'd',\n",
       " 'll',\n",
       " 'm',\n",
       " 'o',\n",
       " 're',\n",
       " 've',\n",
       " 'y',\n",
       " 'ain',\n",
       " 'aren',\n",
       " \"aren't\",\n",
       " 'couldn',\n",
       " \"couldn't\",\n",
       " 'didn',\n",
       " \"didn't\",\n",
       " 'doesn',\n",
       " \"doesn't\",\n",
       " 'hadn',\n",
       " \"hadn't\",\n",
       " 'hasn',\n",
       " \"hasn't\",\n",
       " 'haven',\n",
       " \"haven't\",\n",
       " 'isn',\n",
       " \"isn't\",\n",
       " 'ma',\n",
       " 'mightn',\n",
       " \"mightn't\",\n",
       " 'mustn',\n",
       " \"mustn't\",\n",
       " 'needn',\n",
       " \"needn't\",\n",
       " 'shan',\n",
       " \"shan't\",\n",
       " 'shouldn',\n",
       " \"shouldn't\",\n",
       " 'wasn',\n",
       " \"wasn't\",\n",
       " 'weren',\n",
       " \"weren't\",\n",
       " 'won',\n",
       " \"won't\",\n",
       " 'wouldn',\n",
       " \"wouldn't\"]"
      ]
     },
     "execution_count": 16,
     "metadata": {},
     "output_type": "execute_result"
    }
   ],
   "source": [
    "from nltk.corpus import stopwords\n",
    "stopwords.words('english')"
   ]
  },
  {
   "cell_type": "code",
   "execution_count": 17,
   "metadata": {
    "id": "fmkNocMn8lkT"
   },
   "outputs": [],
   "source": [
    "clean_mess = [word for word in nonpunc.split() if word.lower() not in stopwords.words('english')]"
   ]
  },
  {
   "cell_type": "code",
   "execution_count": 18,
   "metadata": {
    "id": "NSk4IIoH804S"
   },
   "outputs": [
    {
     "data": {
      "text/plain": [
       "['sample', 'messaging']"
      ]
     },
     "execution_count": 18,
     "metadata": {},
     "output_type": "execute_result"
    }
   ],
   "source": [
    "clean_mess"
   ]
  },
  {
   "cell_type": "code",
   "execution_count": 19,
   "metadata": {
    "id": "FE9zZBJX9Nq-"
   },
   "outputs": [],
   "source": [
    "# Text Process\n",
    "def text_preprocess(mess):\n",
    "  nonpunc = ''.join([char for char in mess if char not in string.punctuation])\n",
    "  clean_mess = [word for word in nonpunc.split() if word.lower() not in stopwords.words('english')]\n",
    "  return clean_mess"
   ]
  },
  {
   "cell_type": "code",
   "execution_count": 20,
   "metadata": {
    "id": "Tkqjd7fm9vq3"
   },
   "outputs": [],
   "source": [
    "df['word_processed'] = df['Message'].apply(text_preprocess)"
   ]
  },
  {
   "cell_type": "code",
   "execution_count": 21,
   "metadata": {
    "id": "Du46QJIc9-Az"
   },
   "outputs": [
    {
     "data": {
      "text/plain": [
       "0      [Go, jurong, point, crazy, Available, bugis, n...\n",
       "1                         [Ok, lar, Joking, wif, u, oni]\n",
       "2      [Free, entry, 2, wkly, comp, win, FA, Cup, fin...\n",
       "3          [U, dun, say, early, hor, U, c, already, say]\n",
       "4      [Nah, dont, think, goes, usf, lives, around, t...\n",
       "                             ...                        \n",
       "651                        [Anything, lor, Juz, us, lor]\n",
       "652    [Get, dump, heap, mom, decided, come, lowes, B...\n",
       "653    [Ok, lor, Sony, ericsson, salesman, ask, shuhu...\n",
       "654                             [Ard, 6, like, dat, lor]\n",
       "655        [dont, wait, til, least, wednesday, see, get]\n",
       "Name: word_processed, Length: 656, dtype: object"
      ]
     },
     "execution_count": 21,
     "metadata": {},
     "output_type": "execute_result"
    }
   ],
   "source": [
    "df['word_processed']"
   ]
  },
  {
   "cell_type": "code",
   "execution_count": 22,
   "metadata": {
    "id": "GzriFnWZ-DB7"
   },
   "outputs": [
    {
     "data": {
      "text/html": [
       "<div>\n",
       "<style scoped>\n",
       "    .dataframe tbody tr th:only-of-type {\n",
       "        vertical-align: middle;\n",
       "    }\n",
       "\n",
       "    .dataframe tbody tr th {\n",
       "        vertical-align: top;\n",
       "    }\n",
       "\n",
       "    .dataframe thead th {\n",
       "        text-align: right;\n",
       "    }\n",
       "</style>\n",
       "<table border=\"1\" class=\"dataframe\">\n",
       "  <thead>\n",
       "    <tr style=\"text-align: right;\">\n",
       "      <th></th>\n",
       "      <th>Type</th>\n",
       "      <th>Message</th>\n",
       "      <th>length</th>\n",
       "      <th>word_processed</th>\n",
       "    </tr>\n",
       "  </thead>\n",
       "  <tbody>\n",
       "    <tr>\n",
       "      <th>0</th>\n",
       "      <td>ham</td>\n",
       "      <td>Go until jurong point, crazy.. Available only ...</td>\n",
       "      <td>111</td>\n",
       "      <td>[Go, jurong, point, crazy, Available, bugis, n...</td>\n",
       "    </tr>\n",
       "    <tr>\n",
       "      <th>1</th>\n",
       "      <td>ham</td>\n",
       "      <td>Ok lar... Joking wif u oni...</td>\n",
       "      <td>29</td>\n",
       "      <td>[Ok, lar, Joking, wif, u, oni]</td>\n",
       "    </tr>\n",
       "    <tr>\n",
       "      <th>2</th>\n",
       "      <td>spam</td>\n",
       "      <td>Free entry in 2 a wkly comp to win FA Cup fina...</td>\n",
       "      <td>155</td>\n",
       "      <td>[Free, entry, 2, wkly, comp, win, FA, Cup, fin...</td>\n",
       "    </tr>\n",
       "    <tr>\n",
       "      <th>3</th>\n",
       "      <td>ham</td>\n",
       "      <td>U dun say so early hor... U c already then say...</td>\n",
       "      <td>49</td>\n",
       "      <td>[U, dun, say, early, hor, U, c, already, say]</td>\n",
       "    </tr>\n",
       "    <tr>\n",
       "      <th>4</th>\n",
       "      <td>ham</td>\n",
       "      <td>Nah I don't think he goes to usf, he lives aro...</td>\n",
       "      <td>61</td>\n",
       "      <td>[Nah, dont, think, goes, usf, lives, around, t...</td>\n",
       "    </tr>\n",
       "  </tbody>\n",
       "</table>\n",
       "</div>"
      ],
      "text/plain": [
       "   Type                                            Message  length  \\\n",
       "0   ham  Go until jurong point, crazy.. Available only ...     111   \n",
       "1   ham                      Ok lar... Joking wif u oni...      29   \n",
       "2  spam  Free entry in 2 a wkly comp to win FA Cup fina...     155   \n",
       "3   ham  U dun say so early hor... U c already then say...      49   \n",
       "4   ham  Nah I don't think he goes to usf, he lives aro...      61   \n",
       "\n",
       "                                      word_processed  \n",
       "0  [Go, jurong, point, crazy, Available, bugis, n...  \n",
       "1                     [Ok, lar, Joking, wif, u, oni]  \n",
       "2  [Free, entry, 2, wkly, comp, win, FA, Cup, fin...  \n",
       "3      [U, dun, say, early, hor, U, c, already, say]  \n",
       "4  [Nah, dont, think, goes, usf, lives, around, t...  "
      ]
     },
     "execution_count": 22,
     "metadata": {},
     "output_type": "execute_result"
    }
   ],
   "source": [
    "df.head()"
   ]
  },
  {
   "cell_type": "code",
   "execution_count": 23,
   "metadata": {
    "id": "B5Ked9XU-Ihn"
   },
   "outputs": [
    {
     "data": {
      "text/plain": [
       "<Axes: xlabel='word_processed'>"
      ]
     },
     "execution_count": 23,
     "metadata": {},
     "output_type": "execute_result"
    },
    {
     "data": {
      "image/png": "[encoded data removed]",
      "text/plain": [
       "<Figure size 640x480 with 1 Axes>"
      ]
     },
     "metadata": {},
     "output_type": "display_data"
    }
   ],
   "source": [
    "df['word_processed'].value_counts()[:10].plot(kind = 'bar')"
   ]
  },
  {
   "cell_type": "code",
   "execution_count": 24,
   "metadata": {
    "id": "qaGVAiwR-Nl_"
   },
   "outputs": [
    {
     "data": {
      "text/plain": [
       "word_processed\n",
       "[Free, entry, 2, wkly, comp, win, FA, Cup, final, tkts, 21st, May, 2005, Text, FA, 87121, receive, entry, questionstd, txt, rateTCs, apply, 08452810075over18s]                 1\n",
       "[Sorry, missed, call, lets, talk, time, Im, 07090201529]                                                                                                                        1\n",
       "[current, leading, bid, 151, pause, auction, send, Customer, Care, 08718726270]                                                                                                 1\n",
       "[datingi, two, started, sent, text, talk, sport, radio, last, week, connection, think, coincidence]                                                                             1\n",
       "[IMPORTANT, MESSAGE, final, contact, attempt, important, messages, waiting, customer, claims, dept, Expires, 13404, Call, 08717507382]                                          1\n",
       "[£400, XMAS, REWARD, WAITING, computer, randomly, picked, loyal, mobile, customers, receive, £400, reward, call, 09066380611]                                                   1\n",
       "[Camera, awarded, SiPix, Digital, Camera, call, 09061221066, fromm, landline, Delivery, within, 28, days]                                                                       1\n",
       "[Call, 09095350301, send, girls, erotic, ecstacy, 60pmin, stop, texts, call, 08712460324, nat, rate]                                                                            1\n",
       "[u, r, subscribed, 2, TEXTCOMP, 250, wkly, comp, 1st, wks, free, question, follows, subsequent, wks, charged150pmsg2, unsubscribe, txt, STOP, 2, 84128custcare, 08712405020]    1\n",
       "[contacted, dating, service, someone, know, find, call, land, line, 09050000928, PoBox45W2TG150P]                                                                               1\n",
       "Name: count, dtype: int64"
      ]
     },
     "execution_count": 24,
     "metadata": {},
     "output_type": "execute_result"
    }
   ],
   "source": [
    "#How to find most common words in SPAM messages\n",
    "df[df['Type']=='spam']['word_processed'].value_counts()[:10]"
   ]
  },
  {
   "cell_type": "code",
   "execution_count": 25,
   "metadata": {
    "id": "PgxS6sV0_QHg"
   },
   "outputs": [
    {
     "data": {
      "text/plain": [
       "word_processed\n",
       "[Sorry, Ill, call, later]                                                                                                    5\n",
       "[Ok]                                                                                                                         3\n",
       "[cant, pick, phone, right, Pls, send, message]                                                                               2\n",
       "[Im, work, Please, call]                                                                                                     2\n",
       "[1, Go, write, msg, 2, Put, Dictionary, mode, 3Cover, screen, hand, 4Press, ltgt, 5Gently, remove, Ur, hand, interesting]    2\n",
       "[K, sent]                                                                                                                    2\n",
       "[Ok, lor]                                                                                                                    2\n",
       "[Sounds, better, evening, im, costume, Im, sure, time, finish, tomorrow, txt, end]                                           1\n",
       "[birthday, feb, ltgt, da]                                                                                                    1\n",
       "[wanna, gym]                                                                                                                 1\n",
       "Name: count, dtype: int64"
      ]
     },
     "execution_count": 25,
     "metadata": {},
     "output_type": "execute_result"
    }
   ],
   "source": [
    "df[df['Type']=='ham']['word_processed'].value_counts()[:10]"
   ]
  },
  {
   "cell_type": "code",
   "execution_count": 26,
   "metadata": {
    "id": "5kodRUPJ_1vI"
   },
   "outputs": [],
   "source": [
    "from sklearn.feature_extraction.text import CountVectorizer"
   ]
  },
  {
   "cell_type": "code",
   "execution_count": 27,
   "metadata": {},
   "outputs": [],
   "source": [
    "bt=CountVectorizer(analyzer=text_preprocess).fit(df['Message'])"
   ]
  },
  {
   "cell_type": "code",
   "execution_count": 29,
   "metadata": {},
   "outputs": [
    {
     "data": {
      "text/plain": [
       "2874"
      ]
     },
     "execution_count": 29,
     "metadata": {},
     "output_type": "execute_result"
    }
   ],
   "source": [
    "len(bt.vocabulary_)"
   ]
  },
  {
   "cell_type": "code",
   "execution_count": 30,
   "metadata": {},
   "outputs": [],
   "source": [
    "df_03=df['Message'][3]"
   ]
  },
  {
   "cell_type": "code",
   "execution_count": 31,
   "metadata": {},
   "outputs": [
    {
     "data": {
      "text/plain": [
       "'U dun say so early hor... U c already then say...'"
      ]
     },
     "execution_count": 31,
     "metadata": {},
     "output_type": "execute_result"
    }
   ],
   "source": [
    "df_03"
   ]
  },
  {
   "cell_type": "code",
   "execution_count": 32,
   "metadata": {},
   "outputs": [],
   "source": [
    "bow_03=bt.transform([df_03])"
   ]
  },
  {
   "cell_type": "code",
   "execution_count": 35,
   "metadata": {},
   "outputs": [
    {
     "name": "stdout",
     "output_type": "stream",
     "text": [
      "U dun say so early hor... U c already then say...\n",
      "============\n",
      "  (0, 873)\t2\n",
      "  (0, 1006)\t1\n",
      "  (0, 1178)\t1\n",
      "  (0, 1428)\t1\n",
      "  (0, 1434)\t1\n",
      "  (0, 1687)\t1\n",
      "  (0, 2320)\t2\n",
      "============\n",
      "(1, 2874)\n"
     ]
    }
   ],
   "source": [
    "print(df_03)\n",
    "print(\"============\")\n",
    "print(bow_03)\n",
    "print(\"============\")\n",
    "\n",
    "print(bow_03.shape)"
   ]
  },
  {
   "cell_type": "code",
   "execution_count": 37,
   "metadata": {},
   "outputs": [
    {
     "name": "stdout",
     "output_type": "stream",
     "text": [
      "U dun say so early hor... U c already then say...\n",
      "============\n",
      "U\n",
      "============\n",
      "say\n"
     ]
    }
   ],
   "source": [
    "print(df_03)\n",
    "print(\"============\")\n",
    "print(bt.get_feature_names_out()[873])\n",
    "print(\"============\")\n",
    "print(bt.get_feature_names_out()[2320])"
   ]
  },
  {
   "cell_type": "code",
   "execution_count": 40,
   "metadata": {},
   "outputs": [],
   "source": [
    "df_bow=bt.transform(df['Message'])"
   ]
  },
  {
   "cell_type": "code",
   "execution_count": null,
   "metadata": {},
   "outputs": [],
   "source": []
  },
  {
   "cell_type": "code",
   "execution_count": null,
   "metadata": {},
   "outputs": [],
   "source": [
    "round((100.0*df_bow.nnz/))"
   ]
  }
 ],
 "metadata": {
  "colab": {
   "private_outputs": true,
   "provenance": []
  },
  "kernelspec": {
   "display_name": "Python 3 (ipykernel)",
   "language": "python",
   "name": "python3"
  },
  "language_info": {
   "codemirror_mode": {
    "name": "ipython",
    "version": 3
   },
   "file_extension": ".py",
   "mimetype": "text/x-python",
   "name": "python",
   "nbconvert_exporter": "python",
   "pygments_lexer": "ipython3",
   "version": "3.11.5"
  }
 },
 "nbformat": 4,
 "nbformat_minor": 1
}
