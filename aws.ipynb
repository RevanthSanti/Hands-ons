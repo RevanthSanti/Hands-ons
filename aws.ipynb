{
 "cells": [
  {
   "cell_type": "code",
   "execution_count": 1,
   "id": "9d215ffb-acad-4e37-8b09-e9f6ab72281c",
   "metadata": {
    "tags": []
   },
   "outputs": [
    {
     "name": "stdout",
     "output_type": "stream",
     "text": [
      "\u001b[31mERROR: pip's dependency resolver does not currently take into account all the packages that are installed. This behaviour is the source of the following dependency conflicts.\n",
      "awscli 1.32.93 requires botocore==1.34.93, but you have botocore 1.34.69 which is incompatible.\n",
      "boto3 1.34.93 requires botocore<1.35.0,>=1.34.93, but you have botocore 1.34.69 which is incompatible.\u001b[0m\u001b[31m\n",
      "\u001b[0m"
     ]
    }
   ],
   "source": [
    "# !pip install --upgrade -q aiobotocore\n",
    "# !pip install -q  xgboost==1.3.1"
   ]
  },
  {
   "cell_type": "code",
   "execution_count": 2,
   "id": "d239b03b-4feb-4090-a964-1dfce24b9ad4",
   "metadata": {
    "tags": []
   },
   "outputs": [
    {
     "name": "stdout",
     "output_type": "stream",
     "text": [
      "sagemaker.config INFO - Not applying SDK defaults from location: /etc/xdg/sagemaker/config.yaml\n",
      "sagemaker.config INFO - Not applying SDK defaults from location: /home/ec2-user/.config/sagemaker/config.yaml\n"
     ]
    }
   ],
   "source": [
    "import pandas as pd\n",
    "import boto3\n",
    "import sagemaker\n",
    "import json\n",
    "import joblib\n",
    "import xgboost as xgb\n",
    "from sklearn.metrics import roc_auc_score"
   ]
  },
  {
   "cell_type": "code",
   "execution_count": 3,
   "id": "f53d4b3f-79b0-404d-8e32-e8cdbb7ae5e7",
   "metadata": {
    "tags": []
   },
   "outputs": [],
   "source": [
    "%matplotlib inline\n",
    "\n",
    "import os\n",
    "\n",
    "import numpy as np\n",
    "import pandas as pd\n",
    "\n",
    "import matplotlib.pyplot as plt\n",
    "\n",
    "from sklearn.datasets import fetch_california_housing\n",
    "import sklearn.model_selection"
   ]
  },
  {
   "cell_type": "code",
   "execution_count": 4,
   "id": "6bc2861f-a75f-45a7-9c09-e9590487a11e",
   "metadata": {
    "tags": []
   },
   "outputs": [],
   "source": [
    "# Initialize a SageMaker session and retrieve the AWS region\n",
    "sess = sagemaker.Session()\n",
    "region = sess.boto_region_name\n",
    "\n",
    "# Create an S3 client for interacting with S3 buckets in the given region\n",
    "s3_client = boto3.client(\"s3\", region_name=region)\n",
    "\n",
    "# Obtain the SageMaker execution role\n",
    "sagemaker_role = sagemaker.get_execution_role()"
   ]
  },
  {
   "cell_type": "code",
   "execution_count": 5,
   "id": "72d3380f-353f-4883-a38c-187f8157d9da",
   "metadata": {
    "tags": []
   },
   "outputs": [],
   "source": [
    "boston = fetch_california_housing()"
   ]
  },
  {
   "cell_type": "code",
   "execution_count": 6,
   "id": "edcb766f-9cd9-475b-aff5-b278bd9c9c37",
   "metadata": {
    "tags": []
   },
   "outputs": [
    {
     "data": {
      "text/plain": [
       "{'data': array([[   8.3252    ,   41.        ,    6.98412698, ...,    2.55555556,\n",
       "           37.88      , -122.23      ],\n",
       "        [   8.3014    ,   21.        ,    6.23813708, ...,    2.10984183,\n",
       "           37.86      , -122.22      ],\n",
       "        [   7.2574    ,   52.        ,    8.28813559, ...,    2.80225989,\n",
       "           37.85      , -122.24      ],\n",
       "        ...,\n",
       "        [   1.7       ,   17.        ,    5.20554273, ...,    2.3256351 ,\n",
       "           39.43      , -121.22      ],\n",
       "        [   1.8672    ,   18.        ,    5.32951289, ...,    2.12320917,\n",
       "           39.43      , -121.32      ],\n",
       "        [   2.3886    ,   16.        ,    5.25471698, ...,    2.61698113,\n",
       "           39.37      , -121.24      ]]),\n",
       " 'target': array([4.526, 3.585, 3.521, ..., 0.923, 0.847, 0.894]),\n",
       " 'frame': None,\n",
       " 'target_names': ['MedHouseVal'],\n",
       " 'feature_names': ['MedInc',\n",
       "  'HouseAge',\n",
       "  'AveRooms',\n",
       "  'AveBedrms',\n",
       "  'Population',\n",
       "  'AveOccup',\n",
       "  'Latitude',\n",
       "  'Longitude'],\n",
       " 'DESCR': '.. _california_housing_dataset:\\n\\nCalifornia Housing dataset\\n--------------------------\\n\\n**Data Set Characteristics:**\\n\\n:Number of Instances: 20640\\n\\n:Number of Attributes: 8 numeric, predictive attributes and the target\\n\\n:Attribute Information:\\n    - MedInc        median income in block group\\n    - HouseAge      median house age in block group\\n    - AveRooms      average number of rooms per household\\n    - AveBedrms     average number of bedrooms per household\\n    - Population    block group population\\n    - AveOccup      average number of household members\\n    - Latitude      block group latitude\\n    - Longitude     block group longitude\\n\\n:Missing Attribute Values: None\\n\\nThis dataset was obtained from the StatLib repository.\\nhttps://www.dcc.fc.up.pt/~ltorgo/Regression/cal_housing.html\\n\\nThe target variable is the median house value for California districts,\\nexpressed in hundreds of thousands of dollars ($100,000).\\n\\nThis dataset was derived from the 1990 U.S. census, using one row per census\\nblock group. A block group is the smallest geographical unit for which the U.S.\\nCensus Bureau publishes sample data (a block group typically has a population\\nof 600 to 3,000 people).\\n\\nA household is a group of people residing within a home. Since the average\\nnumber of rooms and bedrooms in this dataset are provided per household, these\\ncolumns may take surprisingly large values for block groups with few households\\nand many empty houses, such as vacation resorts.\\n\\nIt can be downloaded/loaded using the\\n:func:`sklearn.datasets.fetch_california_housing` function.\\n\\n.. topic:: References\\n\\n    - Pace, R. Kelley and Ronald Barry, Sparse Spatial Autoregressions,\\n      Statistics and Probability Letters, 33 (1997) 291-297\\n'}"
      ]
     },
     "execution_count": 6,
     "metadata": {},
     "output_type": "execute_result"
    }
   ],
   "source": [
    "boston"
   ]
  },
  {
   "cell_type": "code",
   "execution_count": 7,
   "id": "97d699f8-9d37-463e-b5b3-69000852d9f4",
   "metadata": {
    "tags": []
   },
   "outputs": [],
   "source": [
    "# First we package up the input data and the target variable (the median value) as pandas dataframes. This\n",
    "# will make saving the data to a file a little easier later on.\n",
    "\n",
    "X_bos_pd = pd.DataFrame(boston.data, columns=boston.feature_names)\n",
    "Y_bos_pd = pd.DataFrame(boston.target)\n",
    "\n",
    "# We split the dataset into 2/3 training and 1/3 testing sets.\n",
    "X_train, X_test, Y_train, Y_test = sklearn.model_selection.train_test_split(X_bos_pd, Y_bos_pd, test_size=0.33)\n",
    "\n",
    "# Then we split the training set further into 2/3 training and 1/3 validation sets.\n",
    "X_train, X_val, Y_train, Y_val = sklearn.model_selection.train_test_split(X_train, Y_train, test_size=0.33)"
   ]
  },
  {
   "cell_type": "code",
   "execution_count": 9,
   "id": "95bfd5d0-b4c5-4109-8b48-b42ef3f30721",
   "metadata": {
    "tags": []
   },
   "outputs": [],
   "source": [
    "# This is our local data directory. We need to make sure that it exists.\n",
    "data_dir = 'boston'\n",
    "if not os.path.exists(data_dir):\n",
    "    os.makedirs(data_dir)"
   ]
  },
  {
   "cell_type": "code",
   "execution_count": 10,
   "id": "21ac8b0c-f398-4ca4-9098-d37e3d10395e",
   "metadata": {
    "tags": []
   },
   "outputs": [],
   "source": [
    "# We use pandas to save our train and validation data to csv files. Note that we make sure not to include header\n",
    "# information or an index as this is required by the built in algorithms provided by Amazon. Also, it is assumed\n",
    "# that the first entry in each row is the target variable.\n",
    "\n",
    "pd.concat([Y_val, X_val], axis=1).to_csv(os.path.join(data_dir, 'validation.csv'), header=False, index=False)\n",
    "pd.concat([Y_train, X_train], axis=1).to_csv(os.path.join(data_dir, 'train.csv'), header=False, index=False)"
   ]
  },
  {
   "cell_type": "code",
   "execution_count": 12,
   "id": "7a06fb0e-1243-4ffa-b525-cba30e191004",
   "metadata": {
    "tags": []
   },
   "outputs": [],
   "source": [
    "prefix = 'boston-xgboost-deploy-hl'\n",
    "\n",
    "val_location = sess.upload_data(os.path.join(data_dir, 'validation.csv'), key_prefix=prefix)\n",
    "train_location = sess.upload_data(os.path.join(data_dir, 'train.csv'), key_prefix=prefix)"
   ]
  },
  {
   "cell_type": "code",
   "execution_count": 15,
   "id": "d2447bfb-baea-4d7c-997b-2f814cb5b339",
   "metadata": {
    "tags": []
   },
   "outputs": [],
   "source": [
    "from sagemaker.amazon.amazon_estimator import get_image_uri\n",
    "# from sagemaker.predictor import csv_serializer"
   ]
  },
  {
   "cell_type": "code",
   "execution_count": 17,
   "id": "2b22fdfa-e7e3-4d6d-b4b4-3b9188fbab6f",
   "metadata": {
    "tags": []
   },
   "outputs": [
    {
     "name": "stderr",
     "output_type": "stream",
     "text": [
      "The method get_image_uri has been renamed in sagemaker>=2.\n",
      "See: https://sagemaker.readthedocs.io/en/stable/v2.html for details.\n",
      "train_instance_count has been renamed in sagemaker>=2.\n",
      "See: https://sagemaker.readthedocs.io/en/stable/v2.html for details.\n",
      "train_instance_type has been renamed in sagemaker>=2.\n",
      "See: https://sagemaker.readthedocs.io/en/stable/v2.html for details.\n"
     ]
    }
   ],
   "source": [
    "# As stated above, we use this utility method to construct the image name for the training container.\n",
    "container = get_image_uri(sess.boto_region_name, 'xgboost')\n",
    "\n",
    "# Now that we know which container to use, we can construct the estimator object.\n",
    "xgb = sagemaker.estimator.Estimator(container, # The name of the training container\n",
    "                                    sagemaker_role,      # The IAM role to use (our current role in this case)\n",
    "                                    train_instance_count=1, # The number of instances to use for training\n",
    "                                    train_instance_type='ml.m4.xlarge', # The type of instance ot use for training\n",
    "                                    output_path='s3://{}/{}/output'.format(sess.default_bucket(), prefix),\n",
    "                                                                        # Where to save the output (the model artifacts)\n",
    "                                    sagemaker_session=sess) # The current SageMaker session"
   ]
  },
  {
   "cell_type": "code",
   "execution_count": 18,
   "id": "0b32eff3-d7f6-4ac8-9eb7-3d7284e9ddc1",
   "metadata": {
    "tags": []
   },
   "outputs": [],
   "source": [
    "xgb.set_hyperparameters(max_depth=5,\n",
    "                        eta=0.2,\n",
    "                        gamma=4,\n",
    "                        min_child_weight=6,\n",
    "                        subsample=0.8,\n",
    "                        objective='reg:linear',\n",
    "                        early_stopping_rounds=10,\n",
    "                        num_round=200)"
   ]
  },
  {
   "cell_type": "code",
   "execution_count": 20,
   "id": "3d27ff91-eaba-44cb-a090-de2809733165",
   "metadata": {
    "tags": []
   },
   "outputs": [
    {
     "name": "stderr",
     "output_type": "stream",
     "text": [
      "INFO:sagemaker:Creating training-job with name: xgboost-2024-05-09-12-14-43-554\n"
     ]
    },
    {
     "name": "stdout",
     "output_type": "stream",
     "text": [
      "2024-05-09 12:14:43 Starting - Starting the training job...\n",
      "2024-05-09 12:14:59 Starting - Preparing the instances for training...\n",
      "2024-05-09 12:15:30 Downloading - Downloading input data...\n",
      "2024-05-09 12:16:10 Downloading - Downloading the training image......\n",
      "2024-05-09 12:17:06 Training - Training image download completed. Training in progress.\n",
      "2024-05-09 12:17:06 Uploading - Uploading generated training model\u001b[34mArguments: train\u001b[0m\n",
      "\u001b[34m[2024-05-09:12:16:58:INFO] Running standalone xgboost training.\u001b[0m\n",
      "\u001b[34m[2024-05-09:12:16:58:INFO] File size need to be processed in the node: 1.21mb. Available memory size in the node: 8484.7mb\u001b[0m\n",
      "\u001b[34m[2024-05-09:12:16:58:INFO] Determined delimiter of CSV input is ','\u001b[0m\n",
      "\u001b[34m[12:16:58] S3DistributionType set as FullyReplicated\u001b[0m\n",
      "\u001b[34m[12:16:58] 9264x8 matrix with 74112 entries loaded from /opt/ml/input/data/train?format=csv&label_column=0&delimiter=,\u001b[0m\n",
      "\u001b[34m[2024-05-09:12:16:58:INFO] Determined delimiter of CSV input is ','\u001b[0m\n",
      "\u001b[34m[12:16:58] S3DistributionType set as FullyReplicated\u001b[0m\n",
      "\u001b[34m[12:16:58] 4564x8 matrix with 36512 entries loaded from /opt/ml/input/data/validation?format=csv&label_column=0&delimiter=,\u001b[0m\n",
      "\u001b[34m[12:16:59] src/tree/updater_prune.cc:74: tree pruning end, 1 roots, 52 extra nodes, 8 pruned nodes, max_depth=5\u001b[0m\n",
      "\u001b[34m[0]#011train-rmse:1.60928#011validation-rmse:1.62929\u001b[0m\n",
      "\u001b[34mMultiple eval metrics have been passed: 'validation-rmse' will be used for early stopping.\u001b[0m\n",
      "\u001b[34mWill train until validation-rmse hasn't improved in 10 rounds.\u001b[0m\n",
      "\u001b[34m[12:16:59] src/tree/updater_prune.cc:74: tree pruning end, 1 roots, 54 extra nodes, 6 pruned nodes, max_depth=5\u001b[0m\n",
      "\u001b[34m[1]#011train-rmse:1.35163#011validation-rmse:1.36977\u001b[0m\n",
      "\u001b[34m[12:16:59] src/tree/updater_prune.cc:74: tree pruning end, 1 roots, 56 extra nodes, 4 pruned nodes, max_depth=5\u001b[0m\n",
      "\u001b[34m[2]#011train-rmse:1.14902#011validation-rmse:1.167\u001b[0m\n",
      "\u001b[34m[12:16:59] src/tree/updater_prune.cc:74: tree pruning end, 1 roots, 54 extra nodes, 6 pruned nodes, max_depth=5\u001b[0m\n",
      "\u001b[34m[3]#011train-rmse:0.993392#011validation-rmse:1.01045\u001b[0m\n",
      "\u001b[34m[12:16:59] src/tree/updater_prune.cc:74: tree pruning end, 1 roots, 54 extra nodes, 4 pruned nodes, max_depth=5\u001b[0m\n",
      "\u001b[34m[4]#011train-rmse:0.876939#011validation-rmse:0.895041\u001b[0m\n",
      "\u001b[34m[12:16:59] src/tree/updater_prune.cc:74: tree pruning end, 1 roots, 50 extra nodes, 6 pruned nodes, max_depth=5\u001b[0m\n",
      "\u001b[34m[5]#011train-rmse:0.787102#011validation-rmse:0.806102\u001b[0m\n",
      "\u001b[34m[12:16:59] src/tree/updater_prune.cc:74: tree pruning end, 1 roots, 50 extra nodes, 8 pruned nodes, max_depth=5\u001b[0m\n",
      "\u001b[34m[6]#011train-rmse:0.71932#011validation-rmse:0.738627\u001b[0m\n",
      "\u001b[34m[12:16:59] src/tree/updater_prune.cc:74: tree pruning end, 1 roots, 52 extra nodes, 6 pruned nodes, max_depth=5\u001b[0m\n",
      "\u001b[34m[7]#011train-rmse:0.667807#011validation-rmse:0.689889\u001b[0m\n",
      "\u001b[34m[12:16:59] src/tree/updater_prune.cc:74: tree pruning end, 1 roots, 48 extra nodes, 14 pruned nodes, max_depth=5\u001b[0m\n",
      "\u001b[34m[8]#011train-rmse:0.631385#011validation-rmse:0.65394\u001b[0m\n",
      "\u001b[34m[12:16:59] src/tree/updater_prune.cc:74: tree pruning end, 1 roots, 38 extra nodes, 20 pruned nodes, max_depth=5\u001b[0m\n",
      "\u001b[34m[9]#011train-rmse:0.60457#011validation-rmse:0.628672\u001b[0m\n",
      "\u001b[34m[12:16:59] src/tree/updater_prune.cc:74: tree pruning end, 1 roots, 42 extra nodes, 6 pruned nodes, max_depth=5\u001b[0m\n",
      "\u001b[34m[10]#011train-rmse:0.583752#011validation-rmse:0.609864\u001b[0m\n",
      "\u001b[34m[12:16:59] src/tree/updater_prune.cc:74: tree pruning end, 1 roots, 42 extra nodes, 18 pruned nodes, max_depth=5\u001b[0m\n",
      "\u001b[34m[11]#011train-rmse:0.566226#011validation-rmse:0.592961\u001b[0m\n",
      "\u001b[34m[12:16:59] src/tree/updater_prune.cc:74: tree pruning end, 1 roots, 50 extra nodes, 12 pruned nodes, max_depth=5\u001b[0m\n",
      "\u001b[34m[12]#011train-rmse:0.548266#011validation-rmse:0.578914\u001b[0m\n",
      "\u001b[34m[12:16:59] src/tree/updater_prune.cc:74: tree pruning end, 1 roots, 34 extra nodes, 24 pruned nodes, max_depth=5\u001b[0m\n",
      "\u001b[34m[13]#011train-rmse:0.534321#011validation-rmse:0.565933\u001b[0m\n",
      "\u001b[34m[12:16:59] src/tree/updater_prune.cc:74: tree pruning end, 1 roots, 40 extra nodes, 18 pruned nodes, max_depth=5\u001b[0m\n",
      "\u001b[34m[14]#011train-rmse:0.519574#011validation-rmse:0.553743\u001b[0m\n",
      "\u001b[34m[12:16:59] src/tree/updater_prune.cc:74: tree pruning end, 1 roots, 42 extra nodes, 20 pruned nodes, max_depth=5\u001b[0m\n",
      "\u001b[34m[15]#011train-rmse:0.508713#011validation-rmse:0.544181\u001b[0m\n",
      "\u001b[34m[12:16:59] src/tree/updater_prune.cc:74: tree pruning end, 1 roots, 26 extra nodes, 32 pruned nodes, max_depth=5\u001b[0m\n",
      "\u001b[34m[16]#011train-rmse:0.501624#011validation-rmse:0.53824\u001b[0m\n",
      "\u001b[34m[12:16:59] src/tree/updater_prune.cc:74: tree pruning end, 1 roots, 20 extra nodes, 24 pruned nodes, max_depth=5\u001b[0m\n",
      "\u001b[34m[17]#011train-rmse:0.498116#011validation-rmse:0.535918\u001b[0m\n",
      "\u001b[34m[12:16:59] src/tree/updater_prune.cc:74: tree pruning end, 1 roots, 14 extra nodes, 34 pruned nodes, max_depth=5\u001b[0m\n",
      "\u001b[34m[18]#011train-rmse:0.496217#011validation-rmse:0.534547\u001b[0m\n",
      "\u001b[34m[12:16:59] src/tree/updater_prune.cc:74: tree pruning end, 1 roots, 28 extra nodes, 20 pruned nodes, max_depth=5\u001b[0m\n",
      "\u001b[34m[19]#011train-rmse:0.489985#011validation-rmse:0.529191\u001b[0m\n",
      "\u001b[34m[12:16:59] src/tree/updater_prune.cc:74: tree pruning end, 1 roots, 34 extra nodes, 16 pruned nodes, max_depth=5\u001b[0m\n",
      "\u001b[34m[20]#011train-rmse:0.485426#011validation-rmse:0.526444\u001b[0m\n",
      "\u001b[34m[12:16:59] src/tree/updater_prune.cc:74: tree pruning end, 1 roots, 28 extra nodes, 26 pruned nodes, max_depth=5\u001b[0m\n",
      "\u001b[34m[21]#011train-rmse:0.481411#011validation-rmse:0.52394\u001b[0m\n",
      "\u001b[34m[12:16:59] src/tree/updater_prune.cc:74: tree pruning end, 1 roots, 18 extra nodes, 14 pruned nodes, max_depth=5\u001b[0m\n",
      "\u001b[34m[22]#011train-rmse:0.479968#011validation-rmse:0.523774\u001b[0m\n",
      "\u001b[34m[12:16:59] src/tree/updater_prune.cc:74: tree pruning end, 1 roots, 22 extra nodes, 38 pruned nodes, max_depth=5\u001b[0m\n",
      "\u001b[34m[23]#011train-rmse:0.477462#011validation-rmse:0.521379\u001b[0m\n",
      "\u001b[34m[12:16:59] src/tree/updater_prune.cc:74: tree pruning end, 1 roots, 16 extra nodes, 24 pruned nodes, max_depth=5\u001b[0m\n",
      "\u001b[34m[24]#011train-rmse:0.475847#011validation-rmse:0.520146\u001b[0m\n",
      "\u001b[34m[12:16:59] src/tree/updater_prune.cc:74: tree pruning end, 1 roots, 6 extra nodes, 22 pruned nodes, max_depth=3\u001b[0m\n",
      "\u001b[34m[25]#011train-rmse:0.475439#011validation-rmse:0.519857\u001b[0m\n",
      "\u001b[34m[12:16:59] src/tree/updater_prune.cc:74: tree pruning end, 1 roots, 16 extra nodes, 40 pruned nodes, max_depth=5\u001b[0m\n",
      "\u001b[34m[26]#011train-rmse:0.4736#011validation-rmse:0.518923\u001b[0m\n",
      "\u001b[34m[12:16:59] src/tree/updater_prune.cc:74: tree pruning end, 1 roots, 16 extra nodes, 12 pruned nodes, max_depth=5\u001b[0m\n",
      "\u001b[34m[27]#011train-rmse:0.471996#011validation-rmse:0.517624\u001b[0m\n",
      "\u001b[34m[12:16:59] src/tree/updater_prune.cc:74: tree pruning end, 1 roots, 24 extra nodes, 24 pruned nodes, max_depth=5\u001b[0m\n",
      "\u001b[34m[28]#011train-rmse:0.470287#011validation-rmse:0.516565\u001b[0m\n",
      "\u001b[34m[12:16:59] src/tree/updater_prune.cc:74: tree pruning end, 1 roots, 40 extra nodes, 20 pruned nodes, max_depth=5\u001b[0m\n",
      "\u001b[34m[29]#011train-rmse:0.463637#011validation-rmse:0.511402\u001b[0m\n",
      "\u001b[34m[12:16:59] src/tree/updater_prune.cc:74: tree pruning end, 1 roots, 16 extra nodes, 28 pruned nodes, max_depth=5\u001b[0m\n",
      "\u001b[34m[30]#011train-rmse:0.462103#011validation-rmse:0.509872\u001b[0m\n",
      "\u001b[34m[12:16:59] src/tree/updater_prune.cc:74: tree pruning end, 1 roots, 20 extra nodes, 28 pruned nodes, max_depth=5\u001b[0m\n",
      "\u001b[34m[31]#011train-rmse:0.460634#011validation-rmse:0.509195\u001b[0m\n",
      "\u001b[34m[12:16:59] src/tree/updater_prune.cc:74: tree pruning end, 1 roots, 14 extra nodes, 30 pruned nodes, max_depth=5\u001b[0m\n",
      "\u001b[34m[32]#011train-rmse:0.459788#011validation-rmse:0.508742\u001b[0m\n",
      "\u001b[34m[12:16:59] src/tree/updater_prune.cc:74: tree pruning end, 1 roots, 24 extra nodes, 22 pruned nodes, max_depth=5\u001b[0m\n",
      "\u001b[34m[33]#011train-rmse:0.458113#011validation-rmse:0.508194\u001b[0m\n",
      "\u001b[34m[12:16:59] src/tree/updater_prune.cc:74: tree pruning end, 1 roots, 8 extra nodes, 36 pruned nodes, max_depth=4\u001b[0m\n",
      "\u001b[34m[34]#011train-rmse:0.457688#011validation-rmse:0.507847\u001b[0m\n",
      "\u001b[34m[12:16:59] src/tree/updater_prune.cc:74: tree pruning end, 1 roots, 0 extra nodes, 30 pruned nodes, max_depth=0\u001b[0m\n",
      "\u001b[34m[35]#011train-rmse:0.457689#011validation-rmse:0.507844\u001b[0m\n",
      "\u001b[34m[12:16:59] src/tree/updater_prune.cc:74: tree pruning end, 1 roots, 18 extra nodes, 14 pruned nodes, max_depth=5\u001b[0m\n",
      "\u001b[34m[36]#011train-rmse:0.45633#011validation-rmse:0.507572\u001b[0m\n",
      "\u001b[34m[12:16:59] src/tree/updater_prune.cc:74: tree pruning end, 1 roots, 6 extra nodes, 32 pruned nodes, max_depth=3\u001b[0m\n",
      "\u001b[34m[37]#011train-rmse:0.45593#011validation-rmse:0.507668\u001b[0m\n",
      "\u001b[34m[12:16:59] src/tree/updater_prune.cc:74: tree pruning end, 1 roots, 10 extra nodes, 14 pruned nodes, max_depth=5\u001b[0m\n",
      "\u001b[34m[38]#011train-rmse:0.455476#011validation-rmse:0.507528\u001b[0m\n",
      "\u001b[34m[12:16:59] src/tree/updater_prune.cc:74: tree pruning end, 1 roots, 10 extra nodes, 38 pruned nodes, max_depth=5\u001b[0m\n",
      "\u001b[34m[39]#011train-rmse:0.454481#011validation-rmse:0.506905\u001b[0m\n",
      "\u001b[34m[12:16:59] src/tree/updater_prune.cc:74: tree pruning end, 1 roots, 12 extra nodes, 38 pruned nodes, max_depth=5\u001b[0m\n",
      "\u001b[34m[40]#011train-rmse:0.453715#011validation-rmse:0.506707\u001b[0m\n",
      "\u001b[34m[12:16:59] src/tree/updater_prune.cc:74: tree pruning end, 1 roots, 12 extra nodes, 38 pruned nodes, max_depth=4\u001b[0m\n",
      "\u001b[34m[41]#011train-rmse:0.452308#011validation-rmse:0.505518\u001b[0m\n",
      "\u001b[34m[12:16:59] src/tree/updater_prune.cc:74: tree pruning end, 1 roots, 16 extra nodes, 16 pruned nodes, max_depth=5\u001b[0m\n",
      "\u001b[34m[42]#011train-rmse:0.451014#011validation-rmse:0.505158\u001b[0m\n",
      "\u001b[34m[12:16:59] src/tree/updater_prune.cc:74: tree pruning end, 1 roots, 10 extra nodes, 48 pruned nodes, max_depth=5\u001b[0m\n",
      "\u001b[34m[43]#011train-rmse:0.449926#011validation-rmse:0.504891\u001b[0m\n",
      "\u001b[34m[12:16:59] src/tree/updater_prune.cc:74: tree pruning end, 1 roots, 8 extra nodes, 40 pruned nodes, max_depth=4\u001b[0m\n",
      "\u001b[34m[44]#011train-rmse:0.449182#011validation-rmse:0.504485\u001b[0m\n",
      "\u001b[34m[12:16:59] src/tree/updater_prune.cc:74: tree pruning end, 1 roots, 10 extra nodes, 42 pruned nodes, max_depth=5\u001b[0m\n",
      "\u001b[34m[45]#011train-rmse:0.448306#011validation-rmse:0.503608\u001b[0m\n",
      "\u001b[34m[12:16:59] src/tree/updater_prune.cc:74: tree pruning end, 1 roots, 12 extra nodes, 28 pruned nodes, max_depth=5\u001b[0m\n",
      "\u001b[34m[46]#011train-rmse:0.447273#011validation-rmse:0.503106\u001b[0m\n",
      "\u001b[34m[12:16:59] src/tree/updater_prune.cc:74: tree pruning end, 1 roots, 12 extra nodes, 14 pruned nodes, max_depth=5\u001b[0m\n",
      "\u001b[34m[47]#011train-rmse:0.446629#011validation-rmse:0.503277\u001b[0m\n",
      "\u001b[34m[12:16:59] src/tree/updater_prune.cc:74: tree pruning end, 1 roots, 0 extra nodes, 42 pruned nodes, max_depth=0\u001b[0m\n",
      "\u001b[34m[48]#011train-rmse:0.446628#011validation-rmse:0.503272\u001b[0m\n",
      "\u001b[34m[12:16:59] src/tree/updater_prune.cc:74: tree pruning end, 1 roots, 10 extra nodes, 36 pruned nodes, max_depth=5\u001b[0m\n",
      "\u001b[34m[49]#011train-rmse:0.445949#011validation-rmse:0.502863\u001b[0m\n",
      "\u001b[34m[12:16:59] src/tree/updater_prune.cc:74: tree pruning end, 1 roots, 0 extra nodes, 36 pruned nodes, max_depth=0\u001b[0m\n",
      "\u001b[34m[50]#011train-rmse:0.445948#011validation-rmse:0.502856\u001b[0m\n",
      "\u001b[34m[12:16:59] src/tree/updater_prune.cc:74: tree pruning end, 1 roots, 8 extra nodes, 22 pruned nodes, max_depth=4\u001b[0m\n",
      "\u001b[34m[51]#011train-rmse:0.445533#011validation-rmse:0.502517\u001b[0m\n",
      "\u001b[34m[12:16:59] src/tree/updater_prune.cc:74: tree pruning end, 1 roots, 0 extra nodes, 48 pruned nodes, max_depth=0\u001b[0m\n",
      "\u001b[34m[52]#011train-rmse:0.445533#011validation-rmse:0.50251\u001b[0m\n",
      "\u001b[34m[12:16:59] src/tree/updater_prune.cc:74: tree pruning end, 1 roots, 0 extra nodes, 32 pruned nodes, max_depth=0\u001b[0m\n",
      "\u001b[34m[53]#011train-rmse:0.445533#011validation-rmse:0.502516\u001b[0m\n",
      "\u001b[34m[12:16:59] src/tree/updater_prune.cc:74: tree pruning end, 1 roots, 14 extra nodes, 36 pruned nodes, max_depth=5\u001b[0m\n",
      "\u001b[34m[54]#011train-rmse:0.444474#011validation-rmse:0.502078\u001b[0m\n",
      "\u001b[34m[12:16:59] src/tree/updater_prune.cc:74: tree pruning end, 1 roots, 10 extra nodes, 38 pruned nodes, max_depth=5\u001b[0m\n",
      "\u001b[34m[55]#011train-rmse:0.443988#011validation-rmse:0.502056\u001b[0m\n",
      "\u001b[34m[12:16:59] src/tree/updater_prune.cc:74: tree pruning end, 1 roots, 10 extra nodes, 30 pruned nodes, max_depth=5\u001b[0m\n",
      "\u001b[34m[56]#011train-rmse:0.443511#011validation-rmse:0.502102\u001b[0m\n",
      "\u001b[34m[12:16:59] src/tree/updater_prune.cc:74: tree pruning end, 1 roots, 0 extra nodes, 44 pruned nodes, max_depth=0\u001b[0m\n",
      "\u001b[34m[57]#011train-rmse:0.443512#011validation-rmse:0.502106\u001b[0m\n",
      "\u001b[34m[12:16:59] src/tree/updater_prune.cc:74: tree pruning end, 1 roots, 0 extra nodes, 26 pruned nodes, max_depth=0\u001b[0m\n",
      "\u001b[34m[58]#011train-rmse:0.443511#011validation-rmse:0.502106\u001b[0m\n",
      "\u001b[34m[12:16:59] src/tree/updater_prune.cc:74: tree pruning end, 1 roots, 8 extra nodes, 40 pruned nodes, max_depth=4\u001b[0m\n",
      "\u001b[34m[59]#011train-rmse:0.443185#011validation-rmse:0.502197\u001b[0m\n",
      "\u001b[34m[12:16:59] src/tree/updater_prune.cc:74: tree pruning end, 1 roots, 8 extra nodes, 44 pruned nodes, max_depth=4\u001b[0m\n",
      "\u001b[34m[60]#011train-rmse:0.442676#011validation-rmse:0.502048\u001b[0m\n",
      "\u001b[34m[12:16:59] src/tree/updater_prune.cc:74: tree pruning end, 1 roots, 8 extra nodes, 48 pruned nodes, max_depth=4\u001b[0m\n",
      "\u001b[34m[61]#011train-rmse:0.442203#011validation-rmse:0.501716\u001b[0m\n",
      "\u001b[34m[12:16:59] src/tree/updater_prune.cc:74: tree pruning end, 1 roots, 0 extra nodes, 52 pruned nodes, max_depth=0\u001b[0m\n",
      "\u001b[34m[62]#011train-rmse:0.442203#011validation-rmse:0.501719\u001b[0m\n",
      "\u001b[34m[12:16:59] src/tree/updater_prune.cc:74: tree pruning end, 1 roots, 4 extra nodes, 34 pruned nodes, max_depth=2\u001b[0m\n",
      "\u001b[34m[63]#011train-rmse:0.442043#011validation-rmse:0.501649\u001b[0m\n",
      "\u001b[34m[12:16:59] src/tree/updater_prune.cc:74: tree pruning end, 1 roots, 10 extra nodes, 38 pruned nodes, max_depth=5\u001b[0m\n",
      "\u001b[34m[64]#011train-rmse:0.441166#011validation-rmse:0.50106\u001b[0m\n",
      "\u001b[34m[12:16:59] src/tree/updater_prune.cc:74: tree pruning end, 1 roots, 14 extra nodes, 18 pruned nodes, max_depth=5\u001b[0m\n",
      "\u001b[34m[65]#011train-rmse:0.439822#011validation-rmse:0.500398\u001b[0m\n",
      "\u001b[34m[12:16:59] src/tree/updater_prune.cc:74: tree pruning end, 1 roots, 10 extra nodes, 22 pruned nodes, max_depth=5\u001b[0m\n",
      "\u001b[34m[66]#011train-rmse:0.439159#011validation-rmse:0.499919\u001b[0m\n",
      "\u001b[34m[12:16:59] src/tree/updater_prune.cc:74: tree pruning end, 1 roots, 0 extra nodes, 24 pruned nodes, max_depth=0\u001b[0m\n",
      "\u001b[34m[67]#011train-rmse:0.439159#011validation-rmse:0.499919\u001b[0m\n",
      "\u001b[34m[12:16:59] src/tree/updater_prune.cc:74: tree pruning end, 1 roots, 10 extra nodes, 32 pruned nodes, max_depth=5\u001b[0m\n",
      "\u001b[34m[68]#011train-rmse:0.438541#011validation-rmse:0.499354\u001b[0m\n",
      "\u001b[34m[12:16:59] src/tree/updater_prune.cc:74: tree pruning end, 1 roots, 8 extra nodes, 42 pruned nodes, max_depth=4\u001b[0m\n",
      "\u001b[34m[69]#011train-rmse:0.437973#011validation-rmse:0.499115\u001b[0m\n",
      "\u001b[34m[12:16:59] src/tree/updater_prune.cc:74: tree pruning end, 1 roots, 10 extra nodes, 34 pruned nodes, max_depth=5\u001b[0m\n",
      "\u001b[34m[70]#011train-rmse:0.437281#011validation-rmse:0.498475\u001b[0m\n",
      "\u001b[34m[12:16:59] src/tree/updater_prune.cc:74: tree pruning end, 1 roots, 8 extra nodes, 24 pruned nodes, max_depth=4\u001b[0m\n",
      "\u001b[34m[71]#011train-rmse:0.436737#011validation-rmse:0.497779\u001b[0m\n",
      "\u001b[34m[12:16:59] src/tree/updater_prune.cc:74: tree pruning end, 1 roots, 10 extra nodes, 40 pruned nodes, max_depth=5\u001b[0m\n",
      "\u001b[34m[72]#011train-rmse:0.436163#011validation-rmse:0.497165\u001b[0m\n",
      "\u001b[34m[12:16:59] src/tree/updater_prune.cc:74: tree pruning end, 1 roots, 0 extra nodes, 40 pruned nodes, max_depth=0\u001b[0m\n",
      "\u001b[34m[73]#011train-rmse:0.436163#011validation-rmse:0.497164\u001b[0m\n",
      "\u001b[34m[12:16:59] src/tree/updater_prune.cc:74: tree pruning end, 1 roots, 0 extra nodes, 30 pruned nodes, max_depth=0\u001b[0m\n",
      "\u001b[34m[74]#011train-rmse:0.436163#011validation-rmse:0.497158\u001b[0m\n",
      "\u001b[34m[12:16:59] src/tree/updater_prune.cc:74: tree pruning end, 1 roots, 0 extra nodes, 26 pruned nodes, max_depth=0\u001b[0m\n",
      "\u001b[34m[75]#011train-rmse:0.436163#011validation-rmse:0.497157\u001b[0m\n",
      "\u001b[34m[12:16:59] src/tree/updater_prune.cc:74: tree pruning end, 1 roots, 0 extra nodes, 38 pruned nodes, max_depth=0\u001b[0m\n",
      "\u001b[34m[76]#011train-rmse:0.436163#011validation-rmse:0.497161\u001b[0m\n",
      "\u001b[34m[12:16:59] src/tree/updater_prune.cc:74: tree pruning end, 1 roots, 8 extra nodes, 24 pruned nodes, max_depth=4\u001b[0m\n",
      "\u001b[34m[77]#011train-rmse:0.435544#011validation-rmse:0.496951\u001b[0m\n",
      "\u001b[34m[12:16:59] src/tree/updater_prune.cc:74: tree pruning end, 1 roots, 14 extra nodes, 42 pruned nodes, max_depth=4\u001b[0m\n",
      "\u001b[34m[78]#011train-rmse:0.434541#011validation-rmse:0.4967\u001b[0m\n",
      "\u001b[34m[12:16:59] src/tree/updater_prune.cc:74: tree pruning end, 1 roots, 0 extra nodes, 42 pruned nodes, max_depth=0\u001b[0m\n",
      "\u001b[34m[79]#011train-rmse:0.434541#011validation-rmse:0.496692\u001b[0m\n",
      "\u001b[34m[12:16:59] src/tree/updater_prune.cc:74: tree pruning end, 1 roots, 0 extra nodes, 28 pruned nodes, max_depth=0\u001b[0m\n",
      "\u001b[34m[80]#011train-rmse:0.434541#011validation-rmse:0.4967\u001b[0m\n",
      "\u001b[34m[12:16:59] src/tree/updater_prune.cc:74: tree pruning end, 1 roots, 0 extra nodes, 50 pruned nodes, max_depth=0\u001b[0m\n",
      "\u001b[34m[81]#011train-rmse:0.434541#011validation-rmse:0.496697\u001b[0m\n",
      "\u001b[34m[12:16:59] src/tree/updater_prune.cc:74: tree pruning end, 1 roots, 0 extra nodes, 28 pruned nodes, max_depth=0\u001b[0m\n",
      "\u001b[34m[82]#011train-rmse:0.434541#011validation-rmse:0.496694\u001b[0m\n",
      "\u001b[34m[12:16:59] src/tree/updater_prune.cc:74: tree pruning end, 1 roots, 0 extra nodes, 42 pruned nodes, max_depth=0\u001b[0m\n",
      "\u001b[34m[83]#011train-rmse:0.434541#011validation-rmse:0.496697\u001b[0m\n",
      "\u001b[34m[12:16:59] src/tree/updater_prune.cc:74: tree pruning end, 1 roots, 0 extra nodes, 18 pruned nodes, max_depth=0\u001b[0m\n",
      "\u001b[34m[84]#011train-rmse:0.434541#011validation-rmse:0.496692\u001b[0m\n",
      "\u001b[34m[12:16:59] src/tree/updater_prune.cc:74: tree pruning end, 1 roots, 0 extra nodes, 48 pruned nodes, max_depth=0\u001b[0m\n",
      "\u001b[34m[85]#011train-rmse:0.434541#011validation-rmse:0.496692\u001b[0m\n",
      "\u001b[34m[12:16:59] src/tree/updater_prune.cc:74: tree pruning end, 1 roots, 6 extra nodes, 40 pruned nodes, max_depth=3\u001b[0m\n",
      "\u001b[34m[86]#011train-rmse:0.434209#011validation-rmse:0.496605\u001b[0m\n",
      "\u001b[34m[12:16:59] src/tree/updater_prune.cc:74: tree pruning end, 1 roots, 0 extra nodes, 36 pruned nodes, max_depth=0\u001b[0m\n",
      "\u001b[34m[87]#011train-rmse:0.434209#011validation-rmse:0.496618\u001b[0m\n",
      "\u001b[34m[12:16:59] src/tree/updater_prune.cc:74: tree pruning end, 1 roots, 0 extra nodes, 50 pruned nodes, max_depth=0\u001b[0m\n",
      "\u001b[34m[88]#011train-rmse:0.434209#011validation-rmse:0.496605\u001b[0m\n",
      "\u001b[34m[12:16:59] src/tree/updater_prune.cc:74: tree pruning end, 1 roots, 8 extra nodes, 44 pruned nodes, max_depth=4\u001b[0m\n",
      "\u001b[34m[89]#011train-rmse:0.433792#011validation-rmse:0.496239\u001b[0m\n",
      "\u001b[34m[12:16:59] src/tree/updater_prune.cc:74: tree pruning end, 1 roots, 0 extra nodes, 36 pruned nodes, max_depth=0\u001b[0m\n",
      "\u001b[34m[90]#011train-rmse:0.433792#011validation-rmse:0.496235\u001b[0m\n",
      "\u001b[34m[12:16:59] src/tree/updater_prune.cc:74: tree pruning end, 1 roots, 10 extra nodes, 38 pruned nodes, max_depth=5\u001b[0m\n",
      "\u001b[34m[91]#011train-rmse:0.433297#011validation-rmse:0.496153\u001b[0m\n",
      "\u001b[34m[12:16:59] src/tree/updater_prune.cc:74: tree pruning end, 1 roots, 8 extra nodes, 36 pruned nodes, max_depth=4\u001b[0m\n",
      "\u001b[34m[92]#011train-rmse:0.432934#011validation-rmse:0.495961\u001b[0m\n",
      "\u001b[34m[12:16:59] src/tree/updater_prune.cc:74: tree pruning end, 1 roots, 0 extra nodes, 38 pruned nodes, max_depth=0\u001b[0m\n",
      "\u001b[34m[93]#011train-rmse:0.432934#011validation-rmse:0.495962\u001b[0m\n",
      "\u001b[34m[12:16:59] src/tree/updater_prune.cc:74: tree pruning end, 1 roots, 10 extra nodes, 22 pruned nodes, max_depth=5\u001b[0m\n",
      "\u001b[34m[94]#011train-rmse:0.432535#011validation-rmse:0.495702\u001b[0m\n",
      "\u001b[34m[12:16:59] src/tree/updater_prune.cc:74: tree pruning end, 1 roots, 10 extra nodes, 30 pruned nodes, max_depth=5\u001b[0m\n",
      "\u001b[34m[95]#011train-rmse:0.432033#011validation-rmse:0.495619\u001b[0m\n",
      "\u001b[34m[12:16:59] src/tree/updater_prune.cc:74: tree pruning end, 1 roots, 0 extra nodes, 16 pruned nodes, max_depth=0\u001b[0m\n",
      "\u001b[34m[96]#011train-rmse:0.432033#011validation-rmse:0.495623\u001b[0m\n",
      "\u001b[34m[12:16:59] src/tree/updater_prune.cc:74: tree pruning end, 1 roots, 0 extra nodes, 30 pruned nodes, max_depth=0\u001b[0m\n",
      "\u001b[34m[97]#011train-rmse:0.432033#011validation-rmse:0.495623\u001b[0m\n",
      "\u001b[34m[12:16:59] src/tree/updater_prune.cc:74: tree pruning end, 1 roots, 0 extra nodes, 26 pruned nodes, max_depth=0\u001b[0m\n",
      "\u001b[34m[98]#011train-rmse:0.432033#011validation-rmse:0.495621\u001b[0m\n",
      "\u001b[34m[12:16:59] src/tree/updater_prune.cc:74: tree pruning end, 1 roots, 0 extra nodes, 16 pruned nodes, max_depth=0\u001b[0m\n",
      "\u001b[34m[99]#011train-rmse:0.432033#011validation-rmse:0.495619\u001b[0m\n",
      "\u001b[34m[12:16:59] src/tree/updater_prune.cc:74: tree pruning end, 1 roots, 0 extra nodes, 34 pruned nodes, max_depth=0\u001b[0m\n",
      "\u001b[34m[100]#011train-rmse:0.432033#011validation-rmse:0.495618\u001b[0m\n",
      "\u001b[34m[12:16:59] src/tree/updater_prune.cc:74: tree pruning end, 1 roots, 0 extra nodes, 52 pruned nodes, max_depth=0\u001b[0m\n",
      "\u001b[34m[101]#011train-rmse:0.432033#011validation-rmse:0.495611\u001b[0m\n",
      "\u001b[34m[12:16:59] src/tree/updater_prune.cc:74: tree pruning end, 1 roots, 0 extra nodes, 54 pruned nodes, max_depth=0\u001b[0m\n",
      "\u001b[34m[102]#011train-rmse:0.432033#011validation-rmse:0.495612\u001b[0m\n",
      "\u001b[34m[12:16:59] src/tree/updater_prune.cc:74: tree pruning end, 1 roots, 6 extra nodes, 46 pruned nodes, max_depth=3\u001b[0m\n",
      "\u001b[34m[103]#011train-rmse:0.431775#011validation-rmse:0.495637\u001b[0m\n",
      "\u001b[34m[12:16:59] src/tree/updater_prune.cc:74: tree pruning end, 1 roots, 20 extra nodes, 32 pruned nodes, max_depth=5\u001b[0m\n",
      "\u001b[34m[104]#011train-rmse:0.430188#011validation-rmse:0.495123\u001b[0m\n",
      "\u001b[34m[12:16:59] src/tree/updater_prune.cc:74: tree pruning end, 1 roots, 8 extra nodes, 22 pruned nodes, max_depth=4\u001b[0m\n",
      "\u001b[34m[105]#011train-rmse:0.429899#011validation-rmse:0.495026\u001b[0m\n",
      "\u001b[34m[12:16:59] src/tree/updater_prune.cc:74: tree pruning end, 1 roots, 0 extra nodes, 20 pruned nodes, max_depth=0\u001b[0m\n",
      "\u001b[34m[106]#011train-rmse:0.429899#011validation-rmse:0.49503\u001b[0m\n",
      "\u001b[34m[12:16:59] src/tree/updater_prune.cc:74: tree pruning end, 1 roots, 18 extra nodes, 28 pruned nodes, max_depth=5\u001b[0m\n",
      "\u001b[34m[107]#011train-rmse:0.428685#011validation-rmse:0.495162\u001b[0m\n",
      "\u001b[34m[12:16:59] src/tree/updater_prune.cc:74: tree pruning end, 1 roots, 0 extra nodes, 46 pruned nodes, max_depth=0\u001b[0m\n",
      "\u001b[34m[108]#011train-rmse:0.428685#011validation-rmse:0.495166\u001b[0m\n",
      "\u001b[34m[12:16:59] src/tree/updater_prune.cc:74: tree pruning end, 1 roots, 0 extra nodes, 56 pruned nodes, max_depth=0\u001b[0m\n",
      "\u001b[34m[109]#011train-rmse:0.428686#011validation-rmse:0.495175\u001b[0m\n",
      "\u001b[34m[12:16:59] src/tree/updater_prune.cc:74: tree pruning end, 1 roots, 0 extra nodes, 30 pruned nodes, max_depth=0\u001b[0m\n",
      "\u001b[34m[110]#011train-rmse:0.428685#011validation-rmse:0.495166\u001b[0m\n",
      "\u001b[34m[12:16:59] src/tree/updater_prune.cc:74: tree pruning end, 1 roots, 0 extra nodes, 24 pruned nodes, max_depth=0\u001b[0m\n",
      "\u001b[34m[111]#011train-rmse:0.428685#011validation-rmse:0.49516\u001b[0m\n",
      "\u001b[34m[12:16:59] src/tree/updater_prune.cc:74: tree pruning end, 1 roots, 0 extra nodes, 20 pruned nodes, max_depth=0\u001b[0m\n",
      "\u001b[34m[112]#011train-rmse:0.428685#011validation-rmse:0.495173\u001b[0m\n",
      "\u001b[34m[12:16:59] src/tree/updater_prune.cc:74: tree pruning end, 1 roots, 8 extra nodes, 40 pruned nodes, max_depth=4\u001b[0m\n",
      "\u001b[34m[113]#011train-rmse:0.42824#011validation-rmse:0.494754\u001b[0m\n",
      "\u001b[34m[12:16:59] src/tree/updater_prune.cc:74: tree pruning end, 1 roots, 0 extra nodes, 34 pruned nodes, max_depth=0\u001b[0m\n",
      "\u001b[34m[114]#011train-rmse:0.42824#011validation-rmse:0.494748\u001b[0m\n",
      "\u001b[34m[12:16:59] src/tree/updater_prune.cc:74: tree pruning end, 1 roots, 0 extra nodes, 58 pruned nodes, max_depth=0\u001b[0m\n",
      "\u001b[34m[115]#011train-rmse:0.428242#011validation-rmse:0.494763\u001b[0m\n",
      "\u001b[34m[12:16:59] src/tree/updater_prune.cc:74: tree pruning end, 1 roots, 0 extra nodes, 24 pruned nodes, max_depth=0\u001b[0m\n",
      "\u001b[34m[116]#011train-rmse:0.42824#011validation-rmse:0.494753\u001b[0m\n",
      "\u001b[34m[12:16:59] src/tree/updater_prune.cc:74: tree pruning end, 1 roots, 0 extra nodes, 34 pruned nodes, max_depth=0\u001b[0m\n",
      "\u001b[34m[117]#011train-rmse:0.42824#011validation-rmse:0.494749\u001b[0m\n",
      "\u001b[34m[12:16:59] src/tree/updater_prune.cc:74: tree pruning end, 1 roots, 0 extra nodes, 24 pruned nodes, max_depth=0\u001b[0m\n",
      "\u001b[34m[118]#011train-rmse:0.428241#011validation-rmse:0.494756\u001b[0m\n",
      "\u001b[34m[12:16:59] src/tree/updater_prune.cc:74: tree pruning end, 1 roots, 0 extra nodes, 52 pruned nodes, max_depth=0\u001b[0m\n",
      "\u001b[34m[119]#011train-rmse:0.42824#011validation-rmse:0.494751\u001b[0m\n",
      "\u001b[34m[12:16:59] src/tree/updater_prune.cc:74: tree pruning end, 1 roots, 0 extra nodes, 40 pruned nodes, max_depth=0\u001b[0m\n",
      "\u001b[34m[120]#011train-rmse:0.428241#011validation-rmse:0.494757\u001b[0m\n",
      "\u001b[34m[12:16:59] src/tree/updater_prune.cc:74: tree pruning end, 1 roots, 0 extra nodes, 18 pruned nodes, max_depth=0\u001b[0m\n",
      "\u001b[34m[121]#011train-rmse:0.428242#011validation-rmse:0.494762\u001b[0m\n",
      "\u001b[34m[12:16:59] src/tree/updater_prune.cc:74: tree pruning end, 1 roots, 0 extra nodes, 36 pruned nodes, max_depth=0\u001b[0m\n",
      "\u001b[34m[122]#011train-rmse:0.428241#011validation-rmse:0.494759\u001b[0m\n",
      "\u001b[34m[12:16:59] src/tree/updater_prune.cc:74: tree pruning end, 1 roots, 0 extra nodes, 28 pruned nodes, max_depth=0\u001b[0m\n",
      "\u001b[34m[123]#011train-rmse:0.428241#011validation-rmse:0.494758\u001b[0m\n",
      "\u001b[34m[12:16:59] src/tree/updater_prune.cc:74: tree pruning end, 1 roots, 8 extra nodes, 44 pruned nodes, max_depth=4\u001b[0m\n",
      "\u001b[34m[124]#011train-rmse:0.427754#011validation-rmse:0.494289\u001b[0m\n",
      "\u001b[34m[12:16:59] src/tree/updater_prune.cc:74: tree pruning end, 1 roots, 10 extra nodes, 28 pruned nodes, max_depth=5\u001b[0m\n",
      "\u001b[34m[125]#011train-rmse:0.427102#011validation-rmse:0.493583\u001b[0m\n",
      "\u001b[34m[12:16:59] src/tree/updater_prune.cc:74: tree pruning end, 1 roots, 6 extra nodes, 54 pruned nodes, max_depth=3\u001b[0m\n",
      "\u001b[34m[126]#011train-rmse:0.426805#011validation-rmse:0.493324\u001b[0m\n",
      "\u001b[34m[12:16:59] src/tree/updater_prune.cc:74: tree pruning end, 1 roots, 10 extra nodes, 20 pruned nodes, max_depth=5\u001b[0m\n",
      "\u001b[34m[127]#011train-rmse:0.426238#011validation-rmse:0.493053\u001b[0m\n",
      "\u001b[34m[12:16:59] src/tree/updater_prune.cc:74: tree pruning end, 1 roots, 0 extra nodes, 26 pruned nodes, max_depth=0\u001b[0m\n",
      "\u001b[34m[128]#011train-rmse:0.426239#011validation-rmse:0.493051\u001b[0m\n",
      "\u001b[34m[12:16:59] src/tree/updater_prune.cc:74: tree pruning end, 1 roots, 14 extra nodes, 44 pruned nodes, max_depth=5\u001b[0m\n",
      "\u001b[34m[129]#011train-rmse:0.424893#011validation-rmse:0.492018\u001b[0m\n",
      "\u001b[34m[12:16:59] src/tree/updater_prune.cc:74: tree pruning end, 1 roots, 0 extra nodes, 38 pruned nodes, max_depth=0\u001b[0m\n",
      "\u001b[34m[130]#011train-rmse:0.424891#011validation-rmse:0.49203\u001b[0m\n",
      "\u001b[34m[12:16:59] src/tree/updater_prune.cc:74: tree pruning end, 1 roots, 0 extra nodes, 48 pruned nodes, max_depth=0\u001b[0m\n",
      "\u001b[34m[131]#011train-rmse:0.424891#011validation-rmse:0.492027\u001b[0m\n",
      "\u001b[34m[12:16:59] src/tree/updater_prune.cc:74: tree pruning end, 1 roots, 0 extra nodes, 24 pruned nodes, max_depth=0\u001b[0m\n",
      "\u001b[34m[132]#011train-rmse:0.424892#011validation-rmse:0.492026\u001b[0m\n",
      "\u001b[34m[12:16:59] src/tree/updater_prune.cc:74: tree pruning end, 1 roots, 8 extra nodes, 24 pruned nodes, max_depth=4\u001b[0m\n",
      "\u001b[34m[133]#011train-rmse:0.424588#011validation-rmse:0.492403\u001b[0m\n",
      "\u001b[34m[12:16:59] src/tree/updater_prune.cc:74: tree pruning end, 1 roots, 0 extra nodes, 44 pruned nodes, max_depth=0\u001b[0m\n",
      "\u001b[34m[134]#011train-rmse:0.424588#011validation-rmse:0.492411\u001b[0m\n",
      "\u001b[34m[12:16:59] src/tree/updater_prune.cc:74: tree pruning end, 1 roots, 0 extra nodes, 58 pruned nodes, max_depth=0\u001b[0m\n",
      "\u001b[34m[135]#011train-rmse:0.424588#011validation-rmse:0.492415\u001b[0m\n",
      "\u001b[34m[12:16:59] src/tree/updater_prune.cc:74: tree pruning end, 1 roots, 10 extra nodes, 42 pruned nodes, max_depth=5\u001b[0m\n",
      "\u001b[34m[136]#011train-rmse:0.424017#011validation-rmse:0.492322\u001b[0m\n",
      "\u001b[34m[12:16:59] src/tree/updater_prune.cc:74: tree pruning end, 1 roots, 0 extra nodes, 16 pruned nodes, max_depth=0\u001b[0m\n",
      "\u001b[34m[137]#011train-rmse:0.424017#011validation-rmse:0.492322\u001b[0m\n",
      "\u001b[34m[12:17:00] src/tree/updater_prune.cc:74: tree pruning end, 1 roots, 0 extra nodes, 18 pruned nodes, max_depth=0\u001b[0m\n",
      "\u001b[34m[138]#011train-rmse:0.424018#011validation-rmse:0.492334\u001b[0m\n",
      "\u001b[34m[12:17:00] src/tree/updater_prune.cc:74: tree pruning end, 1 roots, 6 extra nodes, 48 pruned nodes, max_depth=3\u001b[0m\n",
      "\u001b[34m[139]#011train-rmse:0.423662#011validation-rmse:0.491992\u001b[0m\n",
      "\u001b[34m[12:17:00] src/tree/updater_prune.cc:74: tree pruning end, 1 roots, 8 extra nodes, 42 pruned nodes, max_depth=4\u001b[0m\n",
      "\u001b[34m[140]#011train-rmse:0.423278#011validation-rmse:0.491982\u001b[0m\n",
      "\u001b[34m[12:17:00] src/tree/updater_prune.cc:74: tree pruning end, 1 roots, 0 extra nodes, 46 pruned nodes, max_depth=0\u001b[0m\n",
      "\u001b[34m[141]#011train-rmse:0.423278#011validation-rmse:0.491987\u001b[0m\n",
      "\u001b[34m[12:17:00] src/tree/updater_prune.cc:74: tree pruning end, 1 roots, 0 extra nodes, 32 pruned nodes, max_depth=0\u001b[0m\n",
      "\u001b[34m[142]#011train-rmse:0.423278#011validation-rmse:0.491985\u001b[0m\n",
      "\u001b[34m[12:17:00] src/tree/updater_prune.cc:74: tree pruning end, 1 roots, 0 extra nodes, 34 pruned nodes, max_depth=0\u001b[0m\n",
      "\u001b[34m[143]#011train-rmse:0.423278#011validation-rmse:0.491979\u001b[0m\n",
      "\u001b[34m[12:17:00] src/tree/updater_prune.cc:74: tree pruning end, 1 roots, 10 extra nodes, 20 pruned nodes, max_depth=5\u001b[0m\n",
      "\u001b[34m[144]#011train-rmse:0.422915#011validation-rmse:0.491837\u001b[0m\n",
      "\u001b[34m[12:17:00] src/tree/updater_prune.cc:74: tree pruning end, 1 roots, 0 extra nodes, 18 pruned nodes, max_depth=0\u001b[0m\n",
      "\u001b[34m[145]#011train-rmse:0.422915#011validation-rmse:0.491835\u001b[0m\n",
      "\u001b[34m[12:17:00] src/tree/updater_prune.cc:74: tree pruning end, 1 roots, 0 extra nodes, 14 pruned nodes, max_depth=0\u001b[0m\n",
      "\u001b[34m[146]#011train-rmse:0.422915#011validation-rmse:0.491835\u001b[0m\n",
      "\u001b[34m[12:17:00] src/tree/updater_prune.cc:74: tree pruning end, 1 roots, 0 extra nodes, 38 pruned nodes, max_depth=0\u001b[0m\n",
      "\u001b[34m[147]#011train-rmse:0.422918#011validation-rmse:0.491825\u001b[0m\n",
      "\u001b[34m[12:17:00] src/tree/updater_prune.cc:74: tree pruning end, 1 roots, 8 extra nodes, 10 pruned nodes, max_depth=4\u001b[0m\n",
      "\u001b[34m[148]#011train-rmse:0.422545#011validation-rmse:0.491269\u001b[0m\n",
      "\u001b[34m[12:17:00] src/tree/updater_prune.cc:74: tree pruning end, 1 roots, 0 extra nodes, 34 pruned nodes, max_depth=0\u001b[0m\n",
      "\u001b[34m[149]#011train-rmse:0.422542#011validation-rmse:0.491289\u001b[0m\n",
      "\u001b[34m[12:17:00] src/tree/updater_prune.cc:74: tree pruning end, 1 roots, 0 extra nodes, 32 pruned nodes, max_depth=0\u001b[0m\n",
      "\u001b[34m[150]#011train-rmse:0.422543#011validation-rmse:0.49128\u001b[0m\n",
      "\u001b[34m[12:17:00] src/tree/updater_prune.cc:74: tree pruning end, 1 roots, 0 extra nodes, 20 pruned nodes, max_depth=0\u001b[0m\n",
      "\u001b[34m[151]#011train-rmse:0.422542#011validation-rmse:0.491289\u001b[0m\n",
      "\u001b[34m[12:17:00] src/tree/updater_prune.cc:74: tree pruning end, 1 roots, 0 extra nodes, 38 pruned nodes, max_depth=0\u001b[0m\n",
      "\u001b[34m[152]#011train-rmse:0.422542#011validation-rmse:0.491289\u001b[0m\n",
      "\u001b[34m[12:17:00] src/tree/updater_prune.cc:74: tree pruning end, 1 roots, 0 extra nodes, 38 pruned nodes, max_depth=0\u001b[0m\n",
      "\u001b[34m[153]#011train-rmse:0.422543#011validation-rmse:0.4913\u001b[0m\n",
      "\u001b[34m[12:17:00] src/tree/updater_prune.cc:74: tree pruning end, 1 roots, 0 extra nodes, 40 pruned nodes, max_depth=0\u001b[0m\n",
      "\u001b[34m[154]#011train-rmse:0.422542#011validation-rmse:0.491293\u001b[0m\n",
      "\u001b[34m[12:17:00] src/tree/updater_prune.cc:74: tree pruning end, 1 roots, 0 extra nodes, 20 pruned nodes, max_depth=0\u001b[0m\n",
      "\u001b[34m[155]#011train-rmse:0.422542#011validation-rmse:0.491289\u001b[0m\n",
      "\u001b[34m[12:17:00] src/tree/updater_prune.cc:74: tree pruning end, 1 roots, 0 extra nodes, 28 pruned nodes, max_depth=0\u001b[0m\n",
      "\u001b[34m[156]#011train-rmse:0.422542#011validation-rmse:0.491295\u001b[0m\n",
      "\u001b[34m[12:17:00] src/tree/updater_prune.cc:74: tree pruning end, 1 roots, 0 extra nodes, 14 pruned nodes, max_depth=0\u001b[0m\n",
      "\u001b[34m[157]#011train-rmse:0.422542#011validation-rmse:0.491288\u001b[0m\n",
      "\u001b[34m[12:17:00] src/tree/updater_prune.cc:74: tree pruning end, 1 roots, 10 extra nodes, 46 pruned nodes, max_depth=5\u001b[0m\n",
      "\u001b[34m[158]#011train-rmse:0.421723#011validation-rmse:0.490766\u001b[0m\n",
      "\u001b[34m[12:17:00] src/tree/updater_prune.cc:74: tree pruning end, 1 roots, 0 extra nodes, 40 pruned nodes, max_depth=0\u001b[0m\n",
      "\u001b[34m[159]#011train-rmse:0.421723#011validation-rmse:0.490771\u001b[0m\n",
      "\u001b[34m[12:17:00] src/tree/updater_prune.cc:74: tree pruning end, 1 roots, 0 extra nodes, 20 pruned nodes, max_depth=0\u001b[0m\n",
      "\u001b[34m[160]#011train-rmse:0.421723#011validation-rmse:0.490768\u001b[0m\n",
      "\u001b[34m[12:17:00] src/tree/updater_prune.cc:74: tree pruning end, 1 roots, 0 extra nodes, 38 pruned nodes, max_depth=0\u001b[0m\n",
      "\u001b[34m[161]#011train-rmse:0.421724#011validation-rmse:0.490744\u001b[0m\n",
      "\u001b[34m[12:17:00] src/tree/updater_prune.cc:74: tree pruning end, 1 roots, 0 extra nodes, 18 pruned nodes, max_depth=0\u001b[0m\n",
      "\u001b[34m[162]#011train-rmse:0.421723#011validation-rmse:0.490761\u001b[0m\n",
      "\u001b[34m[12:17:00] src/tree/updater_prune.cc:74: tree pruning end, 1 roots, 0 extra nodes, 38 pruned nodes, max_depth=0\u001b[0m\n",
      "\u001b[34m[163]#011train-rmse:0.421723#011validation-rmse:0.490764\u001b[0m\n",
      "\u001b[34m[12:17:00] src/tree/updater_prune.cc:74: tree pruning end, 1 roots, 0 extra nodes, 18 pruned nodes, max_depth=0\u001b[0m\n",
      "\u001b[34m[164]#011train-rmse:0.421723#011validation-rmse:0.490773\u001b[0m\n",
      "\u001b[34m[12:17:00] src/tree/updater_prune.cc:74: tree pruning end, 1 roots, 0 extra nodes, 16 pruned nodes, max_depth=0\u001b[0m\n",
      "\u001b[34m[165]#011train-rmse:0.421723#011validation-rmse:0.490762\u001b[0m\n",
      "\u001b[34m[12:17:00] src/tree/updater_prune.cc:74: tree pruning end, 1 roots, 0 extra nodes, 24 pruned nodes, max_depth=0\u001b[0m\n",
      "\u001b[34m[166]#011train-rmse:0.421723#011validation-rmse:0.490765\u001b[0m\n",
      "\u001b[34m[12:17:00] src/tree/updater_prune.cc:74: tree pruning end, 1 roots, 0 extra nodes, 48 pruned nodes, max_depth=0\u001b[0m\n",
      "\u001b[34m[167]#011train-rmse:0.421723#011validation-rmse:0.490766\u001b[0m\n",
      "\u001b[34m[12:17:00] src/tree/updater_prune.cc:74: tree pruning end, 1 roots, 0 extra nodes, 14 pruned nodes, max_depth=0\u001b[0m\n",
      "\u001b[34m[168]#011train-rmse:0.421723#011validation-rmse:0.490768\u001b[0m\n",
      "\u001b[34m[12:17:00] src/tree/updater_prune.cc:74: tree pruning end, 1 roots, 0 extra nodes, 34 pruned nodes, max_depth=0\u001b[0m\n",
      "\u001b[34m[169]#011train-rmse:0.421723#011validation-rmse:0.490765\u001b[0m\n",
      "\u001b[34m[12:17:00] src/tree/updater_prune.cc:74: tree pruning end, 1 roots, 0 extra nodes, 30 pruned nodes, max_depth=0\u001b[0m\n",
      "\u001b[34m[170]#011train-rmse:0.421724#011validation-rmse:0.490747\u001b[0m\n",
      "\u001b[34m[12:17:00] src/tree/updater_prune.cc:74: tree pruning end, 1 roots, 0 extra nodes, 28 pruned nodes, max_depth=0\u001b[0m\n",
      "\u001b[34m[171]#011train-rmse:0.421724#011validation-rmse:0.490743\u001b[0m\n",
      "\u001b[34m[12:17:00] src/tree/updater_prune.cc:74: tree pruning end, 1 roots, 0 extra nodes, 46 pruned nodes, max_depth=0\u001b[0m\n",
      "\u001b[34m[172]#011train-rmse:0.421723#011validation-rmse:0.490759\u001b[0m\n",
      "\u001b[34m[12:17:00] src/tree/updater_prune.cc:74: tree pruning end, 1 roots, 0 extra nodes, 50 pruned nodes, max_depth=0\u001b[0m\n",
      "\u001b[34m[173]#011train-rmse:0.421723#011validation-rmse:0.490764\u001b[0m\n",
      "\u001b[34m[12:17:00] src/tree/updater_prune.cc:74: tree pruning end, 1 roots, 0 extra nodes, 50 pruned nodes, max_depth=0\u001b[0m\n",
      "\u001b[34m[174]#011train-rmse:0.421723#011validation-rmse:0.490769\u001b[0m\n",
      "\u001b[34m[12:17:00] src/tree/updater_prune.cc:74: tree pruning end, 1 roots, 0 extra nodes, 20 pruned nodes, max_depth=0\u001b[0m\n",
      "\u001b[34m[175]#011train-rmse:0.421723#011validation-rmse:0.490766\u001b[0m\n",
      "\u001b[34m[12:17:00] src/tree/updater_prune.cc:74: tree pruning end, 1 roots, 0 extra nodes, 56 pruned nodes, max_depth=0\u001b[0m\n",
      "\u001b[34m[176]#011train-rmse:0.421723#011validation-rmse:0.490758\u001b[0m\n",
      "\u001b[34m[12:17:00] src/tree/updater_prune.cc:74: tree pruning end, 1 roots, 0 extra nodes, 44 pruned nodes, max_depth=0\u001b[0m\n",
      "\u001b[34m[177]#011train-rmse:0.421723#011validation-rmse:0.49076\u001b[0m\n",
      "\u001b[34m[12:17:00] src/tree/updater_prune.cc:74: tree pruning end, 1 roots, 0 extra nodes, 18 pruned nodes, max_depth=0\u001b[0m\n",
      "\u001b[34m[178]#011train-rmse:0.421723#011validation-rmse:0.490761\u001b[0m\n",
      "\u001b[34m[12:17:00] src/tree/updater_prune.cc:74: tree pruning end, 1 roots, 0 extra nodes, 24 pruned nodes, max_depth=0\u001b[0m\n",
      "\u001b[34m[179]#011train-rmse:0.421723#011validation-rmse:0.490768\u001b[0m\n",
      "\u001b[34m[12:17:00] src/tree/updater_prune.cc:74: tree pruning end, 1 roots, 0 extra nodes, 22 pruned nodes, max_depth=0\u001b[0m\n",
      "\u001b[34m[180]#011train-rmse:0.421723#011validation-rmse:0.490754\u001b[0m\n",
      "\u001b[34m[12:17:00] src/tree/updater_prune.cc:74: tree pruning end, 1 roots, 0 extra nodes, 38 pruned nodes, max_depth=0\u001b[0m\n",
      "\u001b[34m[181]#011train-rmse:0.421724#011validation-rmse:0.490749\u001b[0m\n",
      "\u001b[34mStopping. Best iteration:\u001b[0m\n",
      "\u001b[34m[171]#011train-rmse:0.421724#011validation-rmse:0.490743\u001b[0m\n",
      "\n",
      "2024-05-09 12:17:17 Completed - Training job completed\n",
      "Training seconds: 107\n",
      "Billable seconds: 107\n"
     ]
    }
   ],
   "source": [
    "from sagemaker.inputs import TrainingInput\n",
    "\n",
    "s3_input_train = TrainingInput(s3_data=train_location, content_type='csv')\n",
    "s3_input_validation = TrainingInput(s3_data=val_location, content_type='csv')\n",
    "\n",
    "xgb.fit({'train': s3_input_train, 'validation': s3_input_validation})\n"
   ]
  },
  {
   "cell_type": "code",
   "execution_count": 21,
   "id": "2d92455e-a42e-4c3c-9e4a-7b5b55a3e9fe",
   "metadata": {
    "tags": []
   },
   "outputs": [
    {
     "name": "stderr",
     "output_type": "stream",
     "text": [
      "INFO:sagemaker:Creating model with name: xgboost-2024-05-09-12-18-53-666\n",
      "INFO:sagemaker:Creating endpoint-config with name xgboost-2024-05-09-12-18-53-666\n",
      "INFO:sagemaker:Creating endpoint with name xgboost-2024-05-09-12-18-53-666\n"
     ]
    },
    {
     "name": "stdout",
     "output_type": "stream",
     "text": [
      "------!"
     ]
    }
   ],
   "source": [
    "xgb_predictor = xgb.deploy(initial_instance_count=1, instance_type='ml.m4.xlarge')"
   ]
  },
  {
   "cell_type": "code",
   "execution_count": 24,
   "id": "5b7eee43-c857-4377-855f-d17fcf1b611d",
   "metadata": {
    "tags": []
   },
   "outputs": [],
   "source": [
    "# from sagemaker.predictor import csv_serializer\n",
    "from sagemaker.serializers import CSVSerializer\n"
   ]
  },
  {
   "cell_type": "code",
   "execution_count": 26,
   "id": "ed8baf5b-bcb4-4917-9cfe-eb19539a8d67",
   "metadata": {
    "tags": []
   },
   "outputs": [],
   "source": [
    "# We need to tell the endpoint what format the data we are sending is in\n",
    "xgb_predictor.content_type = 'text/csv'\n",
    "xgb_predictor.serializer = CSVSerializer()\n",
    "\n",
    "Y_pred = xgb_predictor.predict(X_test.values).decode('utf-8')\n",
    "# predictions is currently a comma delimited string and so we would like to break it up\n",
    "# as a numpy array.\n",
    "Y_pred = np.fromstring(Y_pred, sep=',')"
   ]
  },
  {
   "cell_type": "code",
   "execution_count": 27,
   "id": "84d347f4-b112-4806-9bf3-909e15e9fe3c",
   "metadata": {
    "tags": []
   },
   "outputs": [
    {
     "data": {
      "text/plain": [
       "Text(0.5, 1.0, 'Median Price vs Predicted Price')"
      ]
     },
     "execution_count": 27,
     "metadata": {},
     "output_type": "execute_result"
    },
    {
     "data": {
      "image/png": "[encoded data removed]",
      "text/plain": [
       "<Figure size 640x480 with 1 Axes>"
      ]
     },
     "metadata": {},
     "output_type": "display_data"
    }
   ],
   "source": [
    "plt.scatter(Y_test, Y_pred)\n",
    "plt.xlabel(\"Median Price\")\n",
    "plt.ylabel(\"Predicted Price\")\n",
    "plt.title(\"Median Price vs Predicted Price\")"
   ]
  },
  {
   "cell_type": "markdown",
   "id": "6176d653-22c4-4ece-a0c6-126ea2778160",
   "metadata": {},
   "source": [
    "## Delete the endpoint\n",
    "\n",
    "Since we are no longer using the deployed model we need to make sure to shut it down. Remember that you have to pay for the length of time that your endpoint is deployed so the longer it is left running, the more it costs."
   ]
  },
  {
   "cell_type": "code",
   "execution_count": null,
   "id": "d412c8a9-d87e-4f39-9677-07827419fdb0",
   "metadata": {},
   "outputs": [],
   "source": [
    "xgb_predictor.delete_endpoint()"
   ]
  }
 ],
 "metadata": {
  "kernelspec": {
   "display_name": "Python 3 (ipykernel)",
   "language": "python",
   "name": "python3"
  },
  "language_info": {
   "codemirror_mode": {
    "name": "ipython",
    "version": 3
   },
   "file_extension": ".py",
   "mimetype": "text/x-python",
   "name": "python",
   "nbconvert_exporter": "python",
   "pygments_lexer": "ipython3",
   "version": "3.11.5"
  }
 },
 "nbformat": 4,
 "nbformat_minor": 5
}
