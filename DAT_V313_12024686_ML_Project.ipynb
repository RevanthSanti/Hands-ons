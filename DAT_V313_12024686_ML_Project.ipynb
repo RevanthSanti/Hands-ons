{
 "cells": [
  {
   "cell_type": "markdown",
   "metadata": {
    "id": "npoYkjUOTKYg"
   },
   "source": [
    "## Regression - End to end"
   ]
  },
  {
   "cell_type": "code",
   "execution_count": 1,
   "metadata": {
    "id": "CSh67Xeh9pi_"
   },
   "outputs": [
    {
     "name": "stdout",
     "output_type": "stream",
     "text": [
      "Defaulting to user installation because normal site-packages is not writeable\n",
      "Collecting pycaret\n",
      "  Obtaining dependency information for pycaret from https://files.pythonhosted.org/packages/3e/6f/b3d59fac3869a7685e68aecdd35c336800bce8c8d3b45687bb82cf9a2848/pycaret-3.3.2-py3-none-any.whl.metadata\n",
      "  Downloading pycaret-3.3.2-py3-none-any.whl.metadata (17 kB)\n",
      "Requirement already satisfied: ipython>=5.5.0 in c:\\anaconda\\lib\\site-packages (from pycaret) (8.15.0)\n",
      "Requirement already satisfied: ipywidgets>=7.6.5 in c:\\anaconda\\lib\\site-packages (from pycaret) (8.0.4)\n",
      "Requirement already satisfied: tqdm>=4.62.0 in c:\\anaconda\\lib\\site-packages (from pycaret) (4.65.0)\n",
      "Requirement already satisfied: numpy<1.27,>=1.21 in c:\\anaconda\\lib\\site-packages (from pycaret) (1.24.3)\n",
      "Requirement already satisfied: pandas<2.2.0 in c:\\anaconda\\lib\\site-packages (from pycaret) (2.0.3)\n",
      "Requirement already satisfied: jinja2>=3 in c:\\anaconda\\lib\\site-packages (from pycaret) (3.1.2)\n",
      "Requirement already satisfied: scipy<=1.11.4,>=1.6.1 in c:\\anaconda\\lib\\site-packages (from pycaret) (1.11.1)\n",
      "Collecting joblib<1.4,>=1.2.0 (from pycaret)\n",
      "  Obtaining dependency information for joblib<1.4,>=1.2.0 from https://files.pythonhosted.org/packages/10/40/d551139c85db202f1f384ba8bcf96aca2f329440a844f924c8a0040b6d02/joblib-1.3.2-py3-none-any.whl.metadata\n",
      "  Downloading joblib-1.3.2-py3-none-any.whl.metadata (5.4 kB)\n",
      "Requirement already satisfied: scikit-learn>1.4.0 in c:\\users\\admin\\appdata\\roaming\\python\\python311\\site-packages (from pycaret) (1.4.2)\n",
      "Collecting pyod>=1.1.3 (from pycaret)\n",
      "  Downloading pyod-1.1.3.tar.gz (160 kB)\n",
      "     ---------------------------------------- 0.0/160.5 kB ? eta -:--:--\n",
      "     -- ------------------------------------- 10.2/160.5 kB ? eta -:--:--\n",
      "     -- ------------------------------------- 10.2/160.5 kB ? eta -:--:--\n",
      "     --------- --------------------------- 41.0/160.5 kB 245.8 kB/s eta 0:00:01\n",
      "     --------- --------------------------- 41.0/160.5 kB 245.8 kB/s eta 0:00:01\n",
      "     ---------------------- ------------- 102.4/160.5 kB 393.8 kB/s eta 0:00:01\n",
      "     ------------------------------------ 160.5/160.5 kB 567.0 kB/s eta 0:00:00\n",
      "  Preparing metadata (setup.py): started\n",
      "  Preparing metadata (setup.py): finished with status 'done'\n",
      "Collecting imbalanced-learn>=0.12.0 (from pycaret)\n",
      "  Obtaining dependency information for imbalanced-learn>=0.12.0 from https://files.pythonhosted.org/packages/6e/1b/66764ecf370e797759be06fb38c11640ea1f9456ae10f8640a33cfa726ea/imbalanced_learn-0.12.2-py3-none-any.whl.metadata\n",
      "  Downloading imbalanced_learn-0.12.2-py3-none-any.whl.metadata (8.2 kB)\n",
      "Collecting category-encoders>=2.4.0 (from pycaret)\n",
      "  Obtaining dependency information for category-encoders>=2.4.0 from https://files.pythonhosted.org/packages/7f/e5/79a62e5c9c9ddbfa9ff5222240d408c1eeea4e38741a0dc8343edc7ef1ec/category_encoders-2.6.3-py2.py3-none-any.whl.metadata\n",
      "  Downloading category_encoders-2.6.3-py2.py3-none-any.whl.metadata (8.0 kB)\n",
      "Collecting lightgbm>=3.0.0 (from pycaret)\n",
      "  Obtaining dependency information for lightgbm>=3.0.0 from https://files.pythonhosted.org/packages/e1/4c/4685ccfae9806f561de716e32549190c1f533dde5bcadaf83bdf23972cf0/lightgbm-4.3.0-py3-none-win_amd64.whl.metadata\n",
      "  Downloading lightgbm-4.3.0-py3-none-win_amd64.whl.metadata (19 kB)\n",
      "Requirement already satisfied: numba>=0.55.0 in c:\\anaconda\\lib\\site-packages (from pycaret) (0.57.1)\n",
      "Requirement already satisfied: requests>=2.27.1 in c:\\anaconda\\lib\\site-packages (from pycaret) (2.31.0)\n",
      "Requirement already satisfied: psutil>=5.9.0 in c:\\anaconda\\lib\\site-packages (from pycaret) (5.9.0)\n",
      "Requirement already satisfied: markupsafe>=2.0.1 in c:\\anaconda\\lib\\site-packages (from pycaret) (2.1.1)\n",
      "Requirement already satisfied: importlib-metadata>=4.12.0 in c:\\anaconda\\lib\\site-packages (from pycaret) (6.0.0)\n",
      "Requirement already satisfied: nbformat>=4.2.0 in c:\\anaconda\\lib\\site-packages (from pycaret) (5.9.2)\n",
      "Requirement already satisfied: cloudpickle in c:\\anaconda\\lib\\site-packages (from pycaret) (2.2.1)\n",
      "Collecting deprecation>=2.1.0 (from pycaret)\n",
      "  Obtaining dependency information for deprecation>=2.1.0 from https://files.pythonhosted.org/packages/02/c3/253a89ee03fc9b9682f1541728eb66db7db22148cd94f89ab22528cd1e1b/deprecation-2.1.0-py2.py3-none-any.whl.metadata\n",
      "  Downloading deprecation-2.1.0-py2.py3-none-any.whl.metadata (4.6 kB)\n",
      "Requirement already satisfied: xxhash in c:\\anaconda\\lib\\site-packages (from pycaret) (2.0.2)\n",
      "Requirement already satisfied: matplotlib<3.8.0 in c:\\anaconda\\lib\\site-packages (from pycaret) (3.7.2)\n",
      "Collecting scikit-plot>=0.3.7 (from pycaret)\n",
      "  Obtaining dependency information for scikit-plot>=0.3.7 from https://files.pythonhosted.org/packages/7c/47/32520e259340c140a4ad27c1b97050dd3254fdc517b1d59974d47037510e/scikit_plot-0.3.7-py3-none-any.whl.metadata\n",
      "  Downloading scikit_plot-0.3.7-py3-none-any.whl.metadata (7.1 kB)\n",
      "Requirement already satisfied: yellowbrick>=1.4 in c:\\users\\admin\\appdata\\roaming\\python\\python311\\site-packages (from pycaret) (1.5)\n",
      "Collecting plotly>=5.14.0 (from pycaret)\n",
      "  Obtaining dependency information for plotly>=5.14.0 from https://files.pythonhosted.org/packages/0b/f8/b65cdd2be32e442c4efe7b672f73c90b05eab5a7f3f4115efe181d432c60/plotly-5.22.0-py3-none-any.whl.metadata\n",
      "  Downloading plotly-5.22.0-py3-none-any.whl.metadata (7.1 kB)\n",
      "Requirement already satisfied: kaleido>=0.2.1 in c:\\anaconda\\lib\\site-packages (from pycaret) (0.2.1)\n",
      "Collecting schemdraw==0.15 (from pycaret)\n",
      "  Obtaining dependency information for schemdraw==0.15 from https://files.pythonhosted.org/packages/8f/28/8b59385b5b4d89ba9a5710bd5d014e8fdc7823d66e15cb6f867bb0c59adc/schemdraw-0.15-py3-none-any.whl.metadata\n",
      "  Downloading schemdraw-0.15-py3-none-any.whl.metadata (2.2 kB)\n",
      "Collecting plotly-resampler>=0.8.3.1 (from pycaret)\n",
      "  Obtaining dependency information for plotly-resampler>=0.8.3.1 from https://files.pythonhosted.org/packages/b5/4a/45150bb460637d05653940bcb8f9a14b6ba2fb4c0a454485a2fa8088b88e/plotly_resampler-0.10.0-py3-none-any.whl.metadata\n",
      "  Downloading plotly_resampler-0.10.0-py3-none-any.whl.metadata (13 kB)\n",
      "Requirement already satisfied: statsmodels>=0.12.1 in c:\\anaconda\\lib\\site-packages (from pycaret) (0.14.0)\n",
      "Collecting sktime==0.26.0 (from pycaret)\n",
      "  Obtaining dependency information for sktime==0.26.0 from https://files.pythonhosted.org/packages/90/4c/ef5aa0d46210e974df138cc014955d2d5acb6d36af0ce1ee145d276e4a35/sktime-0.26.0-py3-none-any.whl.metadata\n",
      "  Downloading sktime-0.26.0-py3-none-any.whl.metadata (29 kB)\n",
      "Collecting tbats>=1.1.3 (from pycaret)\n",
      "  Obtaining dependency information for tbats>=1.1.3 from https://files.pythonhosted.org/packages/63/94/1949dc644c3fa05b736b988dc8058122f8c0187778ff9f18070bce2d4ddd/tbats-1.1.3-py3-none-any.whl.metadata\n",
      "  Downloading tbats-1.1.3-py3-none-any.whl.metadata (3.8 kB)\n",
      "Collecting pmdarima>=2.0.4 (from pycaret)\n",
      "  Obtaining dependency information for pmdarima>=2.0.4 from https://files.pythonhosted.org/packages/ac/f8/6c9364602b13f0dba129b53acd1344859690911a4d5021560d9fd6aa087f/pmdarima-2.0.4-cp311-cp311-win_amd64.whl.metadata\n",
      "  Downloading pmdarima-2.0.4-cp311-cp311-win_amd64.whl.metadata (8.0 kB)\n",
      "Requirement already satisfied: packaging in c:\\anaconda\\lib\\site-packages (from sktime==0.26.0->pycaret) (23.1)\n",
      "Collecting scikit-base<0.8.0 (from sktime==0.26.0->pycaret)\n",
      "  Obtaining dependency information for scikit-base<0.8.0 from https://files.pythonhosted.org/packages/98/10/5968718f7162ab625dd7c422bbfb108ba3df57f186c4c100851a2dfb5962/scikit_base-0.7.7-py3-none-any.whl.metadata\n",
      "  Downloading scikit_base-0.7.7-py3-none-any.whl.metadata (8.8 kB)\n",
      "Requirement already satisfied: patsy>=0.5.1 in c:\\anaconda\\lib\\site-packages (from category-encoders>=2.4.0->pycaret) (0.5.3)\n",
      "Requirement already satisfied: threadpoolctl>=2.0.0 in c:\\anaconda\\lib\\site-packages (from imbalanced-learn>=0.12.0->pycaret) (2.2.0)\n",
      "Requirement already satisfied: zipp>=0.5 in c:\\anaconda\\lib\\site-packages (from importlib-metadata>=4.12.0->pycaret) (3.11.0)\n",
      "Requirement already satisfied: backcall in c:\\anaconda\\lib\\site-packages (from ipython>=5.5.0->pycaret) (0.2.0)\n",
      "Requirement already satisfied: decorator in c:\\anaconda\\lib\\site-packages (from ipython>=5.5.0->pycaret) (5.1.1)\n",
      "Requirement already satisfied: jedi>=0.16 in c:\\anaconda\\lib\\site-packages (from ipython>=5.5.0->pycaret) (0.18.1)\n",
      "Requirement already satisfied: matplotlib-inline in c:\\anaconda\\lib\\site-packages (from ipython>=5.5.0->pycaret) (0.1.6)\n",
      "Requirement already satisfied: pickleshare in c:\\anaconda\\lib\\site-packages (from ipython>=5.5.0->pycaret) (0.7.5)\n",
      "Requirement already satisfied: prompt-toolkit!=3.0.37,<3.1.0,>=3.0.30 in c:\\anaconda\\lib\\site-packages (from ipython>=5.5.0->pycaret) (3.0.36)\n",
      "Requirement already satisfied: pygments>=2.4.0 in c:\\anaconda\\lib\\site-packages (from ipython>=5.5.0->pycaret) (2.15.1)\n",
      "Requirement already satisfied: stack-data in c:\\anaconda\\lib\\site-packages (from ipython>=5.5.0->pycaret) (0.2.0)\n",
      "Requirement already satisfied: traitlets>=5 in c:\\anaconda\\lib\\site-packages (from ipython>=5.5.0->pycaret) (5.7.1)\n",
      "Requirement already satisfied: colorama in c:\\anaconda\\lib\\site-packages (from ipython>=5.5.0->pycaret) (0.4.6)\n",
      "Requirement already satisfied: ipykernel>=4.5.1 in c:\\anaconda\\lib\\site-packages (from ipywidgets>=7.6.5->pycaret) (6.25.0)\n",
      "Requirement already satisfied: widgetsnbextension~=4.0 in c:\\anaconda\\lib\\site-packages (from ipywidgets>=7.6.5->pycaret) (4.0.5)\n",
      "Requirement already satisfied: jupyterlab-widgets~=3.0 in c:\\anaconda\\lib\\site-packages (from ipywidgets>=7.6.5->pycaret) (3.0.5)\n",
      "Requirement already satisfied: contourpy>=1.0.1 in c:\\anaconda\\lib\\site-packages (from matplotlib<3.8.0->pycaret) (1.0.5)\n",
      "Requirement already satisfied: cycler>=0.10 in c:\\anaconda\\lib\\site-packages (from matplotlib<3.8.0->pycaret) (0.11.0)\n",
      "Requirement already satisfied: fonttools>=4.22.0 in c:\\anaconda\\lib\\site-packages (from matplotlib<3.8.0->pycaret) (4.25.0)\n",
      "Requirement already satisfied: kiwisolver>=1.0.1 in c:\\anaconda\\lib\\site-packages (from matplotlib<3.8.0->pycaret) (1.4.4)\n",
      "Requirement already satisfied: pillow>=6.2.0 in c:\\anaconda\\lib\\site-packages (from matplotlib<3.8.0->pycaret) (9.4.0)\n",
      "Requirement already satisfied: pyparsing<3.1,>=2.3.1 in c:\\anaconda\\lib\\site-packages (from matplotlib<3.8.0->pycaret) (3.0.9)\n",
      "Requirement already satisfied: python-dateutil>=2.7 in c:\\anaconda\\lib\\site-packages (from matplotlib<3.8.0->pycaret) (2.8.2)\n",
      "Requirement already satisfied: fastjsonschema in c:\\anaconda\\lib\\site-packages (from nbformat>=4.2.0->pycaret) (2.16.2)\n",
      "Requirement already satisfied: jsonschema>=2.6 in c:\\anaconda\\lib\\site-packages (from nbformat>=4.2.0->pycaret) (4.17.3)\n",
      "Requirement already satisfied: jupyter-core in c:\\anaconda\\lib\\site-packages (from nbformat>=4.2.0->pycaret) (5.3.0)\n",
      "Requirement already satisfied: llvmlite<0.41,>=0.40.0dev0 in c:\\anaconda\\lib\\site-packages (from numba>=0.55.0->pycaret) (0.40.0)\n",
      "Requirement already satisfied: pytz>=2020.1 in c:\\anaconda\\lib\\site-packages (from pandas<2.2.0->pycaret) (2023.3.post1)\n",
      "Requirement already satisfied: tzdata>=2022.1 in c:\\anaconda\\lib\\site-packages (from pandas<2.2.0->pycaret) (2023.3)\n",
      "Requirement already satisfied: tenacity>=6.2.0 in c:\\anaconda\\lib\\site-packages (from plotly>=5.14.0->pycaret) (8.2.2)\n",
      "Collecting dash>=2.9.0 (from plotly-resampler>=0.8.3.1->pycaret)\n",
      "  Obtaining dependency information for dash>=2.9.0 from https://files.pythonhosted.org/packages/63/22/bc266b167111e70a2da940e78b78d22fea5b1ee32b512ed0789bd6cc2a9f/dash-2.17.0-py3-none-any.whl.metadata\n",
      "  Downloading dash-2.17.0-py3-none-any.whl.metadata (10 kB)\n",
      "Collecting orjson<4.0.0,>=3.8.0 (from plotly-resampler>=0.8.3.1->pycaret)\n",
      "  Obtaining dependency information for orjson<4.0.0,>=3.8.0 from https://files.pythonhosted.org/packages/f9/b7/3815984df03b677644c90cd4893d6293c80ef1c9f3a8493807bc1eb47da7/orjson-3.10.3-cp311-none-win_amd64.whl.metadata\n",
      "  Downloading orjson-3.10.3-cp311-none-win_amd64.whl.metadata (50 kB)\n",
      "     ---------------------------------------- 0.0/50.9 kB ? eta -:--:--\n",
      "     ---------------------------------------- 50.9/50.9 kB 2.5 MB/s eta 0:00:00\n",
      "Collecting tsdownsample>=0.1.3 (from plotly-resampler>=0.8.3.1->pycaret)\n",
      "  Obtaining dependency information for tsdownsample>=0.1.3 from https://files.pythonhosted.org/packages/66/ac/58ab1f1c86422cea13df0bf62dc0beb3d96f2c7831a4adcd49278df1f9fe/tsdownsample-0.1.3-cp311-none-win_amd64.whl.metadata\n",
      "  Downloading tsdownsample-0.1.3-cp311-none-win_amd64.whl.metadata (8.0 kB)\n",
      "Collecting Cython!=0.29.18,!=0.29.31,>=0.29 (from pmdarima>=2.0.4->pycaret)\n",
      "  Obtaining dependency information for Cython!=0.29.18,!=0.29.31,>=0.29 from https://files.pythonhosted.org/packages/18/ec/f47a721071d084d6c2b6783eb8d058b964b1450cb708d920d0d792f42001/Cython-3.0.10-cp311-cp311-win_amd64.whl.metadata\n",
      "  Downloading Cython-3.0.10-cp311-cp311-win_amd64.whl.metadata (3.2 kB)\n",
      "Requirement already satisfied: urllib3 in c:\\anaconda\\lib\\site-packages (from pmdarima>=2.0.4->pycaret) (1.26.16)\n",
      "Requirement already satisfied: setuptools!=50.0.0,>=38.6.0 in c:\\anaconda\\lib\\site-packages (from pmdarima>=2.0.4->pycaret) (68.0.0)\n",
      "Requirement already satisfied: six in c:\\anaconda\\lib\\site-packages (from pyod>=1.1.3->pycaret) (1.16.0)\n",
      "Requirement already satisfied: charset-normalizer<4,>=2 in c:\\anaconda\\lib\\site-packages (from requests>=2.27.1->pycaret) (2.0.4)\n",
      "Requirement already satisfied: idna<4,>=2.5 in c:\\anaconda\\lib\\site-packages (from requests>=2.27.1->pycaret) (3.4)\n",
      "Requirement already satisfied: certifi>=2017.4.17 in c:\\anaconda\\lib\\site-packages (from requests>=2.27.1->pycaret) (2023.7.22)\n",
      "Requirement already satisfied: Flask<3.1,>=1.0.4 in c:\\anaconda\\lib\\site-packages (from dash>=2.9.0->plotly-resampler>=0.8.3.1->pycaret) (2.2.2)\n",
      "Requirement already satisfied: Werkzeug<3.1 in c:\\anaconda\\lib\\site-packages (from dash>=2.9.0->plotly-resampler>=0.8.3.1->pycaret) (2.2.3)\n",
      "Collecting dash-html-components==2.0.0 (from dash>=2.9.0->plotly-resampler>=0.8.3.1->pycaret)\n",
      "  Obtaining dependency information for dash-html-components==2.0.0 from https://files.pythonhosted.org/packages/75/65/1b16b853844ef59b2742a7de74a598f376ac0ab581f0dcc34db294e5c90e/dash_html_components-2.0.0-py3-none-any.whl.metadata\n",
      "  Downloading dash_html_components-2.0.0-py3-none-any.whl.metadata (3.8 kB)\n",
      "Collecting dash-core-components==2.0.0 (from dash>=2.9.0->plotly-resampler>=0.8.3.1->pycaret)\n",
      "  Obtaining dependency information for dash-core-components==2.0.0 from https://files.pythonhosted.org/packages/00/9e/a29f726e84e531a36d56cff187e61d8c96d2cc253c5bcef9a7695acb7e6a/dash_core_components-2.0.0-py3-none-any.whl.metadata\n",
      "  Downloading dash_core_components-2.0.0-py3-none-any.whl.metadata (2.9 kB)\n",
      "Collecting dash-table==5.0.0 (from dash>=2.9.0->plotly-resampler>=0.8.3.1->pycaret)\n",
      "  Obtaining dependency information for dash-table==5.0.0 from https://files.pythonhosted.org/packages/da/ce/43f77dc8e7bbad02a9f88d07bf794eaf68359df756a28bb9f2f78e255bb1/dash_table-5.0.0-py3-none-any.whl.metadata\n",
      "  Downloading dash_table-5.0.0-py3-none-any.whl.metadata (2.4 kB)\n",
      "Requirement already satisfied: typing-extensions>=4.1.1 in c:\\anaconda\\lib\\site-packages (from dash>=2.9.0->plotly-resampler>=0.8.3.1->pycaret) (4.7.1)\n",
      "Collecting retrying (from dash>=2.9.0->plotly-resampler>=0.8.3.1->pycaret)\n",
      "  Obtaining dependency information for retrying from https://files.pythonhosted.org/packages/8f/04/9e36f28be4c0532c0e9207ff9dc01fb13a2b0eb036476a213b0000837d0e/retrying-1.3.4-py3-none-any.whl.metadata\n",
      "  Downloading retrying-1.3.4-py3-none-any.whl.metadata (6.9 kB)\n",
      "Requirement already satisfied: nest-asyncio in c:\\anaconda\\lib\\site-packages (from dash>=2.9.0->plotly-resampler>=0.8.3.1->pycaret) (1.5.6)\n",
      "Requirement already satisfied: comm>=0.1.1 in c:\\anaconda\\lib\\site-packages (from ipykernel>=4.5.1->ipywidgets>=7.6.5->pycaret) (0.1.2)\n",
      "Requirement already satisfied: debugpy>=1.6.5 in c:\\anaconda\\lib\\site-packages (from ipykernel>=4.5.1->ipywidgets>=7.6.5->pycaret) (1.6.7)\n",
      "Requirement already satisfied: jupyter-client>=6.1.12 in c:\\anaconda\\lib\\site-packages (from ipykernel>=4.5.1->ipywidgets>=7.6.5->pycaret) (7.4.9)\n",
      "Requirement already satisfied: pyzmq>=20 in c:\\anaconda\\lib\\site-packages (from ipykernel>=4.5.1->ipywidgets>=7.6.5->pycaret) (23.2.0)\n",
      "Requirement already satisfied: tornado>=6.1 in c:\\anaconda\\lib\\site-packages (from ipykernel>=4.5.1->ipywidgets>=7.6.5->pycaret) (6.3.2)\n",
      "Requirement already satisfied: parso<0.9.0,>=0.8.0 in c:\\anaconda\\lib\\site-packages (from jedi>=0.16->ipython>=5.5.0->pycaret) (0.8.3)\n",
      "Requirement already satisfied: attrs>=17.4.0 in c:\\anaconda\\lib\\site-packages (from jsonschema>=2.6->nbformat>=4.2.0->pycaret) (22.1.0)\n",
      "Requirement already satisfied: pyrsistent!=0.17.0,!=0.17.1,!=0.17.2,>=0.14.0 in c:\\anaconda\\lib\\site-packages (from jsonschema>=2.6->nbformat>=4.2.0->pycaret) (0.18.0)\n",
      "Requirement already satisfied: platformdirs>=2.5 in c:\\anaconda\\lib\\site-packages (from jupyter-core->nbformat>=4.2.0->pycaret) (3.10.0)\n",
      "Requirement already satisfied: pywin32>=300 in c:\\anaconda\\lib\\site-packages (from jupyter-core->nbformat>=4.2.0->pycaret) (305.1)\n",
      "Requirement already satisfied: wcwidth in c:\\anaconda\\lib\\site-packages (from prompt-toolkit!=3.0.37,<3.1.0,>=3.0.30->ipython>=5.5.0->pycaret) (0.2.5)\n",
      "Requirement already satisfied: executing in c:\\anaconda\\lib\\site-packages (from stack-data->ipython>=5.5.0->pycaret) (0.8.3)\n",
      "Requirement already satisfied: asttokens in c:\\anaconda\\lib\\site-packages (from stack-data->ipython>=5.5.0->pycaret) (2.0.5)\n",
      "Requirement already satisfied: pure-eval in c:\\anaconda\\lib\\site-packages (from stack-data->ipython>=5.5.0->pycaret) (0.2.2)\n",
      "Requirement already satisfied: itsdangerous>=2.0 in c:\\anaconda\\lib\\site-packages (from Flask<3.1,>=1.0.4->dash>=2.9.0->plotly-resampler>=0.8.3.1->pycaret) (2.0.1)\n",
      "Requirement already satisfied: click>=8.0 in c:\\anaconda\\lib\\site-packages (from Flask<3.1,>=1.0.4->dash>=2.9.0->plotly-resampler>=0.8.3.1->pycaret) (8.0.4)\n",
      "Requirement already satisfied: entrypoints in c:\\anaconda\\lib\\site-packages (from jupyter-client>=6.1.12->ipykernel>=4.5.1->ipywidgets>=7.6.5->pycaret) (0.4)\n",
      "Downloading pycaret-3.3.2-py3-none-any.whl (486 kB)\n",
      "   ---------------------------------------- 0.0/486.1 kB ? eta -:--:--\n",
      "   --------------------------------------  481.3/486.1 kB 15.2 MB/s eta 0:00:01\n",
      "   ---------------------------------------- 486.1/486.1 kB 7.6 MB/s eta 0:00:00\n",
      "Downloading schemdraw-0.15-py3-none-any.whl (106 kB)\n",
      "   ---------------------------------------- 0.0/106.8 kB ? eta -:--:--\n",
      "   ---------------------------------------- 106.8/106.8 kB 6.0 MB/s eta 0:00:00\n",
      "Downloading sktime-0.26.0-py3-none-any.whl (21.8 MB)\n",
      "   ---------------------------------------- 0.0/21.8 MB ? eta -:--:--\n",
      "   - -------------------------------------- 0.6/21.8 MB 17.5 MB/s eta 0:00:02\n",
      "   - -------------------------------------- 0.7/21.8 MB 9.2 MB/s eta 0:00:03\n",
      "   - -------------------------------------- 0.9/21.8 MB 7.2 MB/s eta 0:00:03\n",
      "   - -------------------------------------- 0.9/21.8 MB 7.3 MB/s eta 0:00:03\n",
      "   - -------------------------------------- 0.9/21.8 MB 7.3 MB/s eta 0:00:03\n",
      "   - -------------------------------------- 1.0/21.8 MB 3.6 MB/s eta 0:00:06\n",
      "   - -------------------------------------- 1.0/21.8 MB 3.7 MB/s eta 0:00:06\n",
      "   - -------------------------------------- 1.0/21.8 MB 3.7 MB/s eta 0:00:06\n",
      "   -- ------------------------------------- 1.3/21.8 MB 3.1 MB/s eta 0:00:07\n",
      "   --- ------------------------------------ 1.8/21.8 MB 4.2 MB/s eta 0:00:05\n",
      "   --- ------------------------------------ 2.2/21.8 MB 4.5 MB/s eta 0:00:05\n",
      "   ---- ----------------------------------- 2.4/21.8 MB 4.3 MB/s eta 0:00:05\n",
      "   ---- ----------------------------------- 2.5/21.8 MB 4.3 MB/s eta 0:00:05\n",
      "   ---- ----------------------------------- 2.6/21.8 MB 4.3 MB/s eta 0:00:05\n",
      "   ---- ----------------------------------- 2.6/21.8 MB 4.3 MB/s eta 0:00:05\n",
      "   ---- ----------------------------------- 2.6/21.8 MB 3.6 MB/s eta 0:00:06\n",
      "   ----- ---------------------------------- 2.9/21.8 MB 3.7 MB/s eta 0:00:06\n",
      "   ----- ---------------------------------- 3.1/21.8 MB 3.7 MB/s eta 0:00:05\n",
      "   ------ --------------------------------- 3.3/21.8 MB 3.7 MB/s eta 0:00:05\n",
      "   ------ --------------------------------- 3.5/21.8 MB 3.8 MB/s eta 0:00:05\n",
      "   ------ --------------------------------- 3.7/21.8 MB 3.8 MB/s eta 0:00:05\n",
      "   ------- -------------------------------- 3.9/21.8 MB 3.8 MB/s eta 0:00:05\n",
      "   ------- -------------------------------- 4.1/21.8 MB 3.8 MB/s eta 0:00:05\n",
      "   ------- -------------------------------- 4.2/21.8 MB 3.8 MB/s eta 0:00:05\n",
      "   ------- -------------------------------- 4.2/21.8 MB 3.8 MB/s eta 0:00:05\n",
      "   ------- -------------------------------- 4.2/21.8 MB 3.8 MB/s eta 0:00:05\n",
      "   -------- ------------------------------- 4.5/21.8 MB 3.6 MB/s eta 0:00:05\n",
      "   -------- ------------------------------- 4.7/21.8 MB 3.6 MB/s eta 0:00:05\n",
      "   --------- ------------------------------ 5.2/21.8 MB 3.8 MB/s eta 0:00:05\n",
      "   --------- ------------------------------ 5.3/21.8 MB 3.8 MB/s eta 0:00:05\n",
      "   ---------- ----------------------------- 5.5/21.8 MB 3.8 MB/s eta 0:00:05\n",
      "   ---------- ----------------------------- 5.7/21.8 MB 3.8 MB/s eta 0:00:05\n",
      "   ---------- ----------------------------- 5.9/21.8 MB 3.8 MB/s eta 0:00:05\n",
      "   ----------- ---------------------------- 6.1/21.8 MB 3.8 MB/s eta 0:00:05\n",
      "   ----------- ---------------------------- 6.3/21.8 MB 3.8 MB/s eta 0:00:05\n",
      "   ----------- ---------------------------- 6.5/21.8 MB 3.8 MB/s eta 0:00:04\n",
      "   ------------ --------------------------- 6.7/21.8 MB 3.8 MB/s eta 0:00:04\n",
      "   ------------ --------------------------- 6.9/21.8 MB 3.8 MB/s eta 0:00:04\n",
      "   ------------ --------------------------- 7.0/21.8 MB 3.8 MB/s eta 0:00:04\n",
      "   ------------- -------------------------- 7.2/21.8 MB 3.8 MB/s eta 0:00:04\n",
      "   ------------- -------------------------- 7.4/21.8 MB 3.8 MB/s eta 0:00:04\n",
      "   ------------- -------------------------- 7.6/21.8 MB 3.8 MB/s eta 0:00:04\n",
      "   -------------- ------------------------- 7.8/21.8 MB 3.8 MB/s eta 0:00:04\n",
      "   -------------- ------------------------- 7.9/21.8 MB 3.8 MB/s eta 0:00:04\n",
      "   -------------- ------------------------- 8.1/21.8 MB 3.8 MB/s eta 0:00:04\n",
      "   --------------- ------------------------ 8.3/21.8 MB 3.8 MB/s eta 0:00:04\n",
      "   --------------- ------------------------ 8.5/21.8 MB 3.8 MB/s eta 0:00:04\n",
      "   --------------- ------------------------ 8.7/21.8 MB 3.9 MB/s eta 0:00:04\n",
      "   ---------------- ----------------------- 8.8/21.8 MB 3.8 MB/s eta 0:00:04\n",
      "   ---------------- ----------------------- 9.0/21.8 MB 3.8 MB/s eta 0:00:04\n",
      "   ---------------- ----------------------- 9.2/21.8 MB 3.9 MB/s eta 0:00:04\n",
      "   ----------------- ---------------------- 9.4/21.8 MB 3.9 MB/s eta 0:00:04\n",
      "   ----------------- ---------------------- 9.6/21.8 MB 3.9 MB/s eta 0:00:04\n",
      "   ------------------ --------------------- 9.9/21.8 MB 3.9 MB/s eta 0:00:04\n",
      "   ------------------ --------------------- 10.1/21.8 MB 3.9 MB/s eta 0:00:04\n",
      "   ------------------ --------------------- 10.2/21.8 MB 3.9 MB/s eta 0:00:04\n",
      "   ------------------- -------------------- 10.4/21.8 MB 3.8 MB/s eta 0:00:04\n",
      "   ------------------- -------------------- 10.5/21.8 MB 3.8 MB/s eta 0:00:04\n",
      "   ------------------- -------------------- 10.5/21.8 MB 3.8 MB/s eta 0:00:04\n",
      "   ------------------- -------------------- 10.8/21.8 MB 3.6 MB/s eta 0:00:04\n",
      "   -------------------- ------------------- 10.9/21.8 MB 3.6 MB/s eta 0:00:04\n",
      "   --------------------- ------------------ 11.5/21.8 MB 4.0 MB/s eta 0:00:03\n",
      "   --------------------- ------------------ 11.6/21.8 MB 3.9 MB/s eta 0:00:03\n",
      "   --------------------- ------------------ 11.8/21.8 MB 3.9 MB/s eta 0:00:03\n",
      "   --------------------- ------------------ 12.0/21.8 MB 3.8 MB/s eta 0:00:03\n",
      "   ---------------------- ----------------- 12.2/21.8 MB 3.8 MB/s eta 0:00:03\n",
      "   ---------------------- ----------------- 12.4/21.8 MB 3.8 MB/s eta 0:00:03\n",
      "   ---------------------- ----------------- 12.5/21.8 MB 3.8 MB/s eta 0:00:03\n",
      "   ----------------------- ---------------- 12.7/21.8 MB 3.8 MB/s eta 0:00:03\n",
      "   ----------------------- ---------------- 12.9/21.8 MB 3.9 MB/s eta 0:00:03\n",
      "   ------------------------ --------------- 13.1/21.8 MB 3.9 MB/s eta 0:00:03\n",
      "   ------------------------ --------------- 13.3/21.8 MB 3.9 MB/s eta 0:00:03\n",
      "   ------------------------ --------------- 13.4/21.8 MB 3.9 MB/s eta 0:00:03\n",
      "   ------------------------- -------------- 13.6/21.8 MB 3.9 MB/s eta 0:00:03\n",
      "   ------------------------- -------------- 13.9/21.8 MB 3.9 MB/s eta 0:00:03\n",
      "   ------------------------- -------------- 14.1/21.8 MB 3.9 MB/s eta 0:00:02\n",
      "   -------------------------- ------------- 14.3/21.8 MB 3.9 MB/s eta 0:00:02\n",
      "   -------------------------- ------------- 14.5/21.8 MB 4.0 MB/s eta 0:00:02\n",
      "   --------------------------- ------------ 14.7/21.8 MB 4.0 MB/s eta 0:00:02\n",
      "   --------------------------- ------------ 14.9/21.8 MB 4.0 MB/s eta 0:00:02\n",
      "   --------------------------- ------------ 15.1/21.8 MB 4.0 MB/s eta 0:00:02\n",
      "   ---------------------------- ----------- 15.3/21.8 MB 3.9 MB/s eta 0:00:02\n",
      "   ---------------------------- ----------- 15.5/21.8 MB 3.9 MB/s eta 0:00:02\n",
      "   ---------------------------- ----------- 15.6/21.8 MB 3.9 MB/s eta 0:00:02\n",
      "   ----------------------------- ---------- 15.9/21.8 MB 3.9 MB/s eta 0:00:02\n",
      "   ----------------------------- ---------- 16.0/21.8 MB 3.9 MB/s eta 0:00:02\n",
      "   ----------------------------- ---------- 16.2/21.8 MB 3.9 MB/s eta 0:00:02\n",
      "   ------------------------------ --------- 16.4/21.8 MB 3.9 MB/s eta 0:00:02\n",
      "   ------------------------------ --------- 16.7/21.8 MB 3.9 MB/s eta 0:00:02\n",
      "   ------------------------------ --------- 16.9/21.8 MB 3.9 MB/s eta 0:00:02\n",
      "   ------------------------------- -------- 17.1/21.8 MB 3.9 MB/s eta 0:00:02\n",
      "   ------------------------------- -------- 17.3/21.8 MB 3.9 MB/s eta 0:00:02\n",
      "   -------------------------------- ------- 17.5/21.8 MB 3.9 MB/s eta 0:00:02\n",
      "   -------------------------------- ------- 17.7/21.8 MB 3.9 MB/s eta 0:00:02\n",
      "   -------------------------------- ------- 17.9/21.8 MB 3.9 MB/s eta 0:00:02\n",
      "   --------------------------------- ------ 18.1/21.8 MB 3.9 MB/s eta 0:00:01\n",
      "   --------------------------------- ------ 18.3/21.8 MB 3.9 MB/s eta 0:00:01\n",
      "   --------------------------------- ------ 18.5/21.8 MB 3.9 MB/s eta 0:00:01\n",
      "   ---------------------------------- ----- 18.6/21.8 MB 3.9 MB/s eta 0:00:01\n",
      "   ---------------------------------- ----- 18.8/21.8 MB 3.9 MB/s eta 0:00:01\n",
      "   ---------------------------------- ----- 19.0/21.8 MB 3.9 MB/s eta 0:00:01\n",
      "   ----------------------------------- ---- 19.2/21.8 MB 3.9 MB/s eta 0:00:01\n",
      "   ----------------------------------- ---- 19.4/21.8 MB 3.9 MB/s eta 0:00:01\n",
      "   ----------------------------------- ---- 19.5/21.8 MB 3.9 MB/s eta 0:00:01\n",
      "   ------------------------------------ --- 19.7/21.8 MB 3.9 MB/s eta 0:00:01\n",
      "   ------------------------------------ --- 19.9/21.8 MB 3.9 MB/s eta 0:00:01\n",
      "   ------------------------------------ --- 20.1/21.8 MB 3.9 MB/s eta 0:00:01\n",
      "   ------------------------------------- -- 20.3/21.8 MB 3.9 MB/s eta 0:00:01\n",
      "   ------------------------------------- -- 20.4/21.8 MB 3.9 MB/s eta 0:00:01\n",
      "   ------------------------------------- -- 20.6/21.8 MB 3.9 MB/s eta 0:00:01\n",
      "   -------------------------------------- - 20.8/21.8 MB 4.0 MB/s eta 0:00:01\n",
      "   -------------------------------------- - 21.0/21.8 MB 4.0 MB/s eta 0:00:01\n",
      "   -------------------------------------- - 21.2/21.8 MB 4.0 MB/s eta 0:00:01\n",
      "   ---------------------------------------  21.4/21.8 MB 3.9 MB/s eta 0:00:01\n",
      "   ---------------------------------------  21.5/21.8 MB 3.9 MB/s eta 0:00:01\n",
      "   ---------------------------------------  21.7/21.8 MB 3.9 MB/s eta 0:00:01\n",
      "   ---------------------------------------  21.8/21.8 MB 3.9 MB/s eta 0:00:01\n",
      "   ---------------------------------------  21.8/21.8 MB 3.9 MB/s eta 0:00:01\n",
      "   ---------------------------------------  21.8/21.8 MB 3.9 MB/s eta 0:00:01\n",
      "   ---------------------------------------  21.8/21.8 MB 3.9 MB/s eta 0:00:01\n",
      "   ---------------------------------------- 21.8/21.8 MB 3.6 MB/s eta 0:00:00\n",
      "Downloading category_encoders-2.6.3-py2.py3-none-any.whl (81 kB)\n",
      "   ---------------------------------------- 0.0/81.9 kB ? eta -:--:--\n",
      "   ---------------------------------------- 81.9/81.9 kB 4.5 MB/s eta 0:00:00\n",
      "Downloading deprecation-2.1.0-py2.py3-none-any.whl (11 kB)\n",
      "Downloading imbalanced_learn-0.12.2-py3-none-any.whl (257 kB)\n",
      "   ---------------------------------------- 0.0/258.0 kB ? eta -:--:--\n",
      "   --------------------------------------- 258.0/258.0 kB 15.5 MB/s eta 0:00:00\n",
      "Downloading joblib-1.3.2-py3-none-any.whl (302 kB)\n",
      "   ---------------------------------------- 0.0/302.2 kB ? eta -:--:--\n",
      "   --------------------------------------- 302.2/302.2 kB 18.2 MB/s eta 0:00:00\n",
      "Downloading lightgbm-4.3.0-py3-none-win_amd64.whl (1.3 MB)\n",
      "   ---------------------------------------- 0.0/1.3 MB ? eta -:--:--\n",
      "   -------------- ------------------------- 0.5/1.3 MB 15.5 MB/s eta 0:00:01\n",
      "   ------------------- -------------------- 0.7/1.3 MB 8.4 MB/s eta 0:00:01\n",
      "   ------------------------- -------------- 0.8/1.3 MB 6.7 MB/s eta 0:00:01\n",
      "   ------------------------------- -------- 1.0/1.3 MB 6.0 MB/s eta 0:00:01\n",
      "   ------------------------------------ --- 1.2/1.3 MB 5.6 MB/s eta 0:00:01\n",
      "   ---------------------------------------- 1.3/1.3 MB 5.0 MB/s eta 0:00:00\n",
      "Downloading plotly-5.22.0-py3-none-any.whl (16.4 MB)\n",
      "   ---------------------------------------- 0.0/16.4 MB ? eta -:--:--\n",
      "   - -------------------------------------- 0.4/16.4 MB 13.2 MB/s eta 0:00:02\n",
      "   - -------------------------------------- 0.6/16.4 MB 7.7 MB/s eta 0:00:03\n",
      "   - -------------------------------------- 0.8/16.4 MB 6.3 MB/s eta 0:00:03\n",
      "   -- ------------------------------------- 1.0/16.4 MB 5.7 MB/s eta 0:00:03\n",
      "   -- ------------------------------------- 1.2/16.4 MB 5.2 MB/s eta 0:00:03\n",
      "   --- ------------------------------------ 1.3/16.4 MB 5.0 MB/s eta 0:00:04\n",
      "   --- ------------------------------------ 1.5/16.4 MB 4.8 MB/s eta 0:00:04\n",
      "   ---- ----------------------------------- 1.7/16.4 MB 4.7 MB/s eta 0:00:04\n",
      "   ---- ----------------------------------- 1.9/16.4 MB 4.7 MB/s eta 0:00:04\n",
      "   ----- ---------------------------------- 2.1/16.4 MB 4.6 MB/s eta 0:00:04\n",
      "   ----- ---------------------------------- 2.3/16.4 MB 4.5 MB/s eta 0:00:04\n",
      "   ----- ---------------------------------- 2.4/16.4 MB 4.5 MB/s eta 0:00:04\n",
      "   ------ --------------------------------- 2.6/16.4 MB 4.4 MB/s eta 0:00:04\n",
      "   ------ --------------------------------- 2.8/16.4 MB 4.3 MB/s eta 0:00:04\n",
      "   ------- -------------------------------- 3.0/16.4 MB 4.3 MB/s eta 0:00:04\n",
      "   ------- -------------------------------- 3.2/16.4 MB 4.3 MB/s eta 0:00:04\n",
      "   -------- ------------------------------- 3.3/16.4 MB 4.3 MB/s eta 0:00:04\n",
      "   -------- ------------------------------- 3.5/16.4 MB 4.3 MB/s eta 0:00:04\n",
      "   --------- ------------------------------ 3.7/16.4 MB 4.2 MB/s eta 0:00:04\n",
      "   --------- ------------------------------ 3.9/16.4 MB 4.2 MB/s eta 0:00:03\n",
      "   --------- ------------------------------ 4.1/16.4 MB 4.2 MB/s eta 0:00:03\n",
      "   ---------- ----------------------------- 4.2/16.4 MB 4.2 MB/s eta 0:00:03\n",
      "   ---------- ----------------------------- 4.4/16.4 MB 4.2 MB/s eta 0:00:03\n",
      "   ----------- ---------------------------- 4.6/16.4 MB 4.1 MB/s eta 0:00:03\n",
      "   ----------- ---------------------------- 4.8/16.4 MB 4.2 MB/s eta 0:00:03\n",
      "   ------------ --------------------------- 5.0/16.4 MB 4.1 MB/s eta 0:00:03\n",
      "   ------------ --------------------------- 5.2/16.4 MB 4.1 MB/s eta 0:00:03\n",
      "   ------------- -------------------------- 5.3/16.4 MB 4.1 MB/s eta 0:00:03\n",
      "   ------------- -------------------------- 5.5/16.4 MB 4.1 MB/s eta 0:00:03\n",
      "   -------------- ------------------------- 5.8/16.4 MB 4.1 MB/s eta 0:00:03\n",
      "   -------------- ------------------------- 5.9/16.4 MB 4.1 MB/s eta 0:00:03\n",
      "   -------------- ------------------------- 6.1/16.4 MB 4.1 MB/s eta 0:00:03\n",
      "   --------------- ------------------------ 6.3/16.4 MB 4.1 MB/s eta 0:00:03\n",
      "   --------------- ------------------------ 6.5/16.4 MB 4.1 MB/s eta 0:00:03\n",
      "   ---------------- ----------------------- 6.7/16.4 MB 4.1 MB/s eta 0:00:03\n",
      "   ---------------- ----------------------- 6.9/16.4 MB 4.1 MB/s eta 0:00:03\n",
      "   ----------------- ---------------------- 7.0/16.4 MB 4.1 MB/s eta 0:00:03\n",
      "   ----------------- ---------------------- 7.2/16.4 MB 4.1 MB/s eta 0:00:03\n",
      "   ------------------ --------------------- 7.4/16.4 MB 4.1 MB/s eta 0:00:03\n",
      "   ------------------ --------------------- 7.6/16.4 MB 4.0 MB/s eta 0:00:03\n",
      "   ------------------ --------------------- 7.8/16.4 MB 4.0 MB/s eta 0:00:03\n",
      "   ------------------- -------------------- 8.0/16.4 MB 4.0 MB/s eta 0:00:03\n",
      "   ------------------- -------------------- 8.2/16.4 MB 4.0 MB/s eta 0:00:03\n",
      "   -------------------- ------------------- 8.3/16.4 MB 4.0 MB/s eta 0:00:03\n",
      "   -------------------- ------------------- 8.5/16.4 MB 4.0 MB/s eta 0:00:02\n",
      "   --------------------- ------------------ 8.9/16.4 MB 4.0 MB/s eta 0:00:02\n",
      "   ---------------------- ----------------- 9.1/16.4 MB 4.0 MB/s eta 0:00:02\n",
      "   ---------------------- ----------------- 9.4/16.4 MB 4.0 MB/s eta 0:00:02\n",
      "   ----------------------- ---------------- 9.5/16.4 MB 4.0 MB/s eta 0:00:02\n",
      "   ----------------------- ---------------- 9.7/16.4 MB 4.0 MB/s eta 0:00:02\n",
      "   ------------------------ --------------- 9.9/16.4 MB 4.0 MB/s eta 0:00:02\n",
      "   ------------------------ --------------- 10.1/16.4 MB 4.0 MB/s eta 0:00:02\n",
      "   ------------------------- -------------- 10.3/16.4 MB 4.0 MB/s eta 0:00:02\n",
      "   ------------------------- -------------- 10.5/16.4 MB 3.9 MB/s eta 0:00:02\n",
      "   ------------------------- -------------- 10.6/16.4 MB 3.9 MB/s eta 0:00:02\n",
      "   -------------------------- ------------- 10.8/16.4 MB 3.9 MB/s eta 0:00:02\n",
      "   -------------------------- ------------- 11.0/16.4 MB 3.9 MB/s eta 0:00:02\n",
      "   --------------------------- ------------ 11.2/16.4 MB 3.9 MB/s eta 0:00:02\n",
      "   --------------------------- ------------ 11.4/16.4 MB 3.9 MB/s eta 0:00:02\n",
      "   ---------------------------- ----------- 11.6/16.4 MB 3.9 MB/s eta 0:00:02\n",
      "   ---------------------------- ----------- 11.8/16.4 MB 3.9 MB/s eta 0:00:02\n",
      "   ----------------------------- ---------- 11.9/16.4 MB 3.9 MB/s eta 0:00:02\n",
      "   ----------------------------- ---------- 12.1/16.4 MB 3.9 MB/s eta 0:00:02\n",
      "   ------------------------------ --------- 12.4/16.4 MB 3.9 MB/s eta 0:00:02\n",
      "   ------------------------------ --------- 12.5/16.4 MB 3.9 MB/s eta 0:00:01\n",
      "   ------------------------------- -------- 12.7/16.4 MB 3.9 MB/s eta 0:00:01\n",
      "   ------------------------------- -------- 12.9/16.4 MB 3.9 MB/s eta 0:00:01\n",
      "   ------------------------------- -------- 13.1/16.4 MB 3.9 MB/s eta 0:00:01\n",
      "   -------------------------------- ------- 13.3/16.4 MB 3.9 MB/s eta 0:00:01\n",
      "   -------------------------------- ------- 13.5/16.4 MB 3.9 MB/s eta 0:00:01\n",
      "   --------------------------------- ------ 13.6/16.4 MB 3.9 MB/s eta 0:00:01\n",
      "   --------------------------------- ------ 13.8/16.4 MB 3.9 MB/s eta 0:00:01\n",
      "   ---------------------------------- ----- 14.0/16.4 MB 3.9 MB/s eta 0:00:01\n",
      "   ---------------------------------- ----- 14.2/16.4 MB 3.9 MB/s eta 0:00:01\n",
      "   ----------------------------------- ---- 14.4/16.4 MB 3.9 MB/s eta 0:00:01\n",
      "   ----------------------------------- ---- 14.6/16.4 MB 3.9 MB/s eta 0:00:01\n",
      "   ----------------------------------- ---- 14.8/16.4 MB 3.9 MB/s eta 0:00:01\n",
      "   ------------------------------------ --- 14.9/16.4 MB 3.9 MB/s eta 0:00:01\n",
      "   ------------------------------------ --- 15.1/16.4 MB 3.9 MB/s eta 0:00:01\n",
      "   ------------------------------------- -- 15.3/16.4 MB 3.9 MB/s eta 0:00:01\n",
      "   ------------------------------------- -- 15.5/16.4 MB 3.9 MB/s eta 0:00:01\n",
      "   -------------------------------------- - 15.7/16.4 MB 3.9 MB/s eta 0:00:01\n",
      "   -------------------------------------- - 15.8/16.4 MB 3.9 MB/s eta 0:00:01\n",
      "   ---------------------------------------  16.0/16.4 MB 3.9 MB/s eta 0:00:01\n",
      "   ---------------------------------------  16.2/16.4 MB 3.9 MB/s eta 0:00:01\n",
      "   ---------------------------------------  16.4/16.4 MB 3.9 MB/s eta 0:00:01\n",
      "   ---------------------------------------  16.4/16.4 MB 3.9 MB/s eta 0:00:01\n",
      "   ---------------------------------------  16.4/16.4 MB 3.9 MB/s eta 0:00:01\n",
      "   ---------------------------------------  16.4/16.4 MB 3.9 MB/s eta 0:00:01\n",
      "   ---------------------------------------- 16.4/16.4 MB 3.7 MB/s eta 0:00:00\n",
      "Downloading plotly_resampler-0.10.0-py3-none-any.whl (80 kB)\n",
      "   ---------------------------------------- 0.0/80.7 kB ? eta -:--:--\n",
      "   ---------------------------------------- 80.7/80.7 kB 4.4 MB/s eta 0:00:00\n",
      "Downloading pmdarima-2.0.4-cp311-cp311-win_amd64.whl (614 kB)\n",
      "   ---------------------------------------- 0.0/614.7 kB ? eta -:--:--\n",
      "   --------------------------------------  614.4/614.7 kB 19.5 MB/s eta 0:00:01\n",
      "   --------------------------------------- 614.7/614.7 kB 13.1 MB/s eta 0:00:00\n",
      "Downloading scikit_plot-0.3.7-py3-none-any.whl (33 kB)\n",
      "Downloading tbats-1.1.3-py3-none-any.whl (44 kB)\n",
      "   ---------------------------------------- 0.0/44.0 kB ? eta -:--:--\n",
      "   ---------------------------------------- 44.0/44.0 kB 2.1 MB/s eta 0:00:00\n",
      "Downloading Cython-3.0.10-cp311-cp311-win_amd64.whl (2.8 MB)\n",
      "   ---------------------------------------- 0.0/2.8 MB ? eta -:--:--\n",
      "   -------- ------------------------------- 0.6/2.8 MB 17.8 MB/s eta 0:00:01\n",
      "   ---------- ----------------------------- 0.7/2.8 MB 9.5 MB/s eta 0:00:01\n",
      "   ------------- -------------------------- 0.9/2.8 MB 7.3 MB/s eta 0:00:01\n",
      "   --------------- ------------------------ 1.1/2.8 MB 6.4 MB/s eta 0:00:01\n",
      "   ------------------ --------------------- 1.3/2.8 MB 5.9 MB/s eta 0:00:01\n",
      "   --------------------- ------------------ 1.5/2.8 MB 5.5 MB/s eta 0:00:01\n",
      "   ----------------------- ---------------- 1.7/2.8 MB 5.3 MB/s eta 0:00:01\n",
      "   -------------------------- ------------- 1.8/2.8 MB 5.1 MB/s eta 0:00:01\n",
      "   ----------------------------- ---------- 2.0/2.8 MB 5.0 MB/s eta 0:00:01\n",
      "   ------------------------------- -------- 2.2/2.8 MB 4.8 MB/s eta 0:00:01\n",
      "   ---------------------------------- ----- 2.4/2.8 MB 4.8 MB/s eta 0:00:01\n",
      "   ------------------------------------ --- 2.6/2.8 MB 4.7 MB/s eta 0:00:01\n",
      "   ---------------------------------------  2.7/2.8 MB 4.6 MB/s eta 0:00:01\n",
      "   ---------------------------------------  2.8/2.8 MB 4.6 MB/s eta 0:00:01\n",
      "   ---------------------------------------- 2.8/2.8 MB 4.2 MB/s eta 0:00:00\n",
      "Downloading dash-2.17.0-py3-none-any.whl (7.5 MB)\n",
      "   ---------------------------------------- 0.0/7.5 MB ? eta -:--:--\n",
      "   -- ------------------------------------- 0.5/7.5 MB 10.2 MB/s eta 0:00:01\n",
      "   --- ------------------------------------ 0.7/7.5 MB 8.8 MB/s eta 0:00:01\n",
      "   ---- ----------------------------------- 0.9/7.5 MB 7.0 MB/s eta 0:00:01\n",
      "   ----- ---------------------------------- 1.1/7.5 MB 6.1 MB/s eta 0:00:02\n",
      "   ------ --------------------------------- 1.2/7.5 MB 5.6 MB/s eta 0:00:02\n",
      "   ------- -------------------------------- 1.4/7.5 MB 5.3 MB/s eta 0:00:02\n",
      "   -------- ------------------------------- 1.6/7.5 MB 5.1 MB/s eta 0:00:02\n",
      "   --------- ------------------------------ 1.8/7.5 MB 4.8 MB/s eta 0:00:02\n",
      "   ---------- ----------------------------- 2.0/7.5 MB 4.7 MB/s eta 0:00:02\n",
      "   ----------- ---------------------------- 2.2/7.5 MB 4.7 MB/s eta 0:00:02\n",
      "   ------------ --------------------------- 2.3/7.5 MB 4.6 MB/s eta 0:00:02\n",
      "   ------------- -------------------------- 2.5/7.5 MB 4.5 MB/s eta 0:00:02\n",
      "   -------------- ------------------------- 2.7/7.5 MB 4.5 MB/s eta 0:00:02\n",
      "   --------------- ------------------------ 2.9/7.5 MB 4.5 MB/s eta 0:00:02\n",
      "   ---------------- ----------------------- 3.1/7.5 MB 4.4 MB/s eta 0:00:01\n",
      "   ----------------- ---------------------- 3.3/7.5 MB 4.4 MB/s eta 0:00:01\n",
      "   ------------------ --------------------- 3.5/7.5 MB 4.4 MB/s eta 0:00:01\n",
      "   ------------------- -------------------- 3.7/7.5 MB 4.3 MB/s eta 0:00:01\n",
      "   -------------------- ------------------- 3.9/7.5 MB 4.3 MB/s eta 0:00:01\n",
      "   --------------------- ------------------ 4.1/7.5 MB 4.3 MB/s eta 0:00:01\n",
      "   ---------------------- ----------------- 4.3/7.5 MB 4.3 MB/s eta 0:00:01\n",
      "   ----------------------- ---------------- 4.5/7.5 MB 4.2 MB/s eta 0:00:01\n",
      "   ------------------------ --------------- 4.6/7.5 MB 4.2 MB/s eta 0:00:01\n",
      "   ------------------------- -------------- 4.8/7.5 MB 4.2 MB/s eta 0:00:01\n",
      "   -------------------------- ------------- 5.0/7.5 MB 4.2 MB/s eta 0:00:01\n",
      "   --------------------------- ------------ 5.2/7.5 MB 4.2 MB/s eta 0:00:01\n",
      "   ---------------------------- ----------- 5.4/7.5 MB 4.2 MB/s eta 0:00:01\n",
      "   ----------------------------- ---------- 5.6/7.5 MB 4.2 MB/s eta 0:00:01\n",
      "   ------------------------------ --------- 5.7/7.5 MB 4.2 MB/s eta 0:00:01\n",
      "   ------------------------------- -------- 5.9/7.5 MB 4.1 MB/s eta 0:00:01\n",
      "   -------------------------------- ------- 6.1/7.5 MB 4.1 MB/s eta 0:00:01\n",
      "   --------------------------------- ------ 6.3/7.5 MB 4.1 MB/s eta 0:00:01\n",
      "   ---------------------------------- ----- 6.5/7.5 MB 4.1 MB/s eta 0:00:01\n",
      "   ----------------------------------- ---- 6.6/7.5 MB 4.1 MB/s eta 0:00:01\n",
      "   ------------------------------------ --- 6.8/7.5 MB 4.1 MB/s eta 0:00:01\n",
      "   ------------------------------------- -- 7.0/7.5 MB 4.1 MB/s eta 0:00:01\n",
      "   -------------------------------------- - 7.2/7.5 MB 4.1 MB/s eta 0:00:01\n",
      "   ---------------------------------------  7.4/7.5 MB 4.1 MB/s eta 0:00:01\n",
      "   ---------------------------------------  7.5/7.5 MB 4.1 MB/s eta 0:00:01\n",
      "   ---------------------------------------  7.5/7.5 MB 4.1 MB/s eta 0:00:01\n",
      "   ---------------------------------------- 7.5/7.5 MB 3.9 MB/s eta 0:00:00\n",
      "Downloading dash_core_components-2.0.0-py3-none-any.whl (3.8 kB)\n",
      "Downloading dash_html_components-2.0.0-py3-none-any.whl (4.1 kB)\n",
      "Downloading dash_table-5.0.0-py3-none-any.whl (3.9 kB)\n",
      "Downloading orjson-3.10.3-cp311-none-win_amd64.whl (138 kB)\n",
      "   ---------------------------------------- 0.0/138.8 kB ? eta -:--:--\n",
      "   ---------------------------------------- 138.8/138.8 kB 8.6 MB/s eta 0:00:00\n",
      "Downloading scikit_base-0.7.7-py3-none-any.whl (129 kB)\n",
      "   ---------------------------------------- 0.0/129.9 kB ? eta -:--:--\n",
      "   ---------------------------------------- 129.9/129.9 kB 8.0 MB/s eta 0:00:00\n",
      "Downloading tsdownsample-0.1.3-cp311-none-win_amd64.whl (923 kB)\n",
      "   ---------------------------------------- 0.0/923.7 kB ? eta -:--:--\n",
      "   ---------------------- ---------------- 542.7/923.7 kB 17.2 MB/s eta 0:00:01\n",
      "   ------------------------------- -------- 737.3/923.7 kB 9.3 MB/s eta 0:00:01\n",
      "   ---------------------------------------  921.6/923.7 kB 7.3 MB/s eta 0:00:01\n",
      "   ---------------------------------------- 923.7/923.7 kB 5.9 MB/s eta 0:00:00\n",
      "Downloading retrying-1.3.4-py3-none-any.whl (11 kB)\n",
      "Building wheels for collected packages: pyod\n",
      "  Building wheel for pyod (setup.py): started\n",
      "  Building wheel for pyod (setup.py): finished with status 'done'\n",
      "  Created wheel for pyod: filename=pyod-1.1.3-py3-none-any.whl size=190393 sha256=b5799ec20433901ac3f4580a70d424947e626d3ad369f514d24d2abc637ae849\n",
      "  Stored in directory: c:\\users\\admin\\appdata\\local\\pip\\cache\\wheels\\86\\9b\\f4\\bf3eea6cbc128fd0e5f871486beb8b657486f343d7f6ecbde9\n",
      "Successfully built pyod\n",
      "Installing collected packages: dash-table, dash-html-components, dash-core-components, tsdownsample, scikit-base, schemdraw, retrying, plotly, orjson, joblib, deprecation, Cython, lightgbm, sktime, scikit-plot, pyod, imbalanced-learn, dash, pmdarima, plotly-resampler, category-encoders, tbats, pycaret\n",
      "  Attempting uninstall: joblib\n",
      "    Found existing installation: joblib 1.4.0\n",
      "    Uninstalling joblib-1.4.0:\n",
      "      Successfully uninstalled joblib-1.4.0\n",
      "Successfully installed Cython-3.0.10 category-encoders-2.6.3 dash-2.17.0 dash-core-components-2.0.0 dash-html-components-2.0.0 dash-table-5.0.0 deprecation-2.1.0 imbalanced-learn-0.12.2 joblib-1.3.2 lightgbm-4.3.0 orjson-3.10.3 plotly-5.22.0 plotly-resampler-0.10.0 pmdarima-2.0.4 pycaret-3.3.2 pyod-1.1.3 retrying-1.3.4 schemdraw-0.15 scikit-base-0.7.7 scikit-plot-0.3.7 sktime-0.26.0 tbats-1.1.3 tsdownsample-0.1.3\n"
     ]
    },
    {
     "name": "stderr",
     "output_type": "stream",
     "text": [
      "  WARNING: The scripts cygdb.exe, cython.exe and cythonize.exe are installed in 'C:\\Users\\Admin\\AppData\\Roaming\\Python\\Python311\\Scripts' which is not on PATH.\n",
      "  Consider adding this directory to PATH or, if you prefer to suppress this warning, use --no-warn-script-location.\n",
      "  WARNING: The scripts dash-generate-components.exe, dash-update-components.exe and renderer.exe are installed in 'C:\\Users\\Admin\\AppData\\Roaming\\Python\\Python311\\Scripts' which is not on PATH.\n",
      "  Consider adding this directory to PATH or, if you prefer to suppress this warning, use --no-warn-script-location.\n",
      "ERROR: pip's dependency resolver does not currently take into account all the packages that are installed. This behaviour is the source of the following dependency conflicts.\n",
      "tables 3.8.0 requires blosc2~=2.0.0, which is not installed.\n",
      "pandas-profiling 3.2.0 requires joblib~=1.1.0, but you have joblib 1.3.2 which is incompatible.\n",
      "pandas-profiling 3.2.0 requires visions[type_image_path]==0.7.4, but you have visions 0.7.5 which is incompatible.\n"
     ]
    }
   ],
   "source": [
    "!pip install pycaret"
   ]
  },
  {
   "cell_type": "code",
   "execution_count": 2,
   "metadata": {
    "id": "xZWbwuf_TGAs"
   },
   "outputs": [
    {
     "data": {
      "text/plain": [
       "'3.3.2'"
      ]
     },
     "execution_count": 2,
     "metadata": {},
     "output_type": "execute_result"
    }
   ],
   "source": [
    "import pycaret\n",
    "pycaret.__version__"
   ]
  },
  {
   "cell_type": "code",
   "execution_count": 3,
   "metadata": {
    "id": "lEtDqN5WTarW"
   },
   "outputs": [
    {
     "data": {
      "text/html": [
       "<div>\n",
       "<style scoped>\n",
       "    .dataframe tbody tr th:only-of-type {\n",
       "        vertical-align: middle;\n",
       "    }\n",
       "\n",
       "    .dataframe tbody tr th {\n",
       "        vertical-align: top;\n",
       "    }\n",
       "\n",
       "    .dataframe thead th {\n",
       "        text-align: right;\n",
       "    }\n",
       "</style>\n",
       "<table border=\"1\" class=\"dataframe\">\n",
       "  <thead>\n",
       "    <tr style=\"text-align: right;\">\n",
       "      <th></th>\n",
       "      <th>age</th>\n",
       "      <th>sex</th>\n",
       "      <th>bmi</th>\n",
       "      <th>children</th>\n",
       "      <th>smoker</th>\n",
       "      <th>region</th>\n",
       "      <th>charges</th>\n",
       "    </tr>\n",
       "  </thead>\n",
       "  <tbody>\n",
       "    <tr>\n",
       "      <th>0</th>\n",
       "      <td>19</td>\n",
       "      <td>female</td>\n",
       "      <td>27.900</td>\n",
       "      <td>0</td>\n",
       "      <td>yes</td>\n",
       "      <td>southwest</td>\n",
       "      <td>16884.92400</td>\n",
       "    </tr>\n",
       "    <tr>\n",
       "      <th>1</th>\n",
       "      <td>18</td>\n",
       "      <td>male</td>\n",
       "      <td>33.770</td>\n",
       "      <td>1</td>\n",
       "      <td>no</td>\n",
       "      <td>southeast</td>\n",
       "      <td>1725.55230</td>\n",
       "    </tr>\n",
       "    <tr>\n",
       "      <th>2</th>\n",
       "      <td>28</td>\n",
       "      <td>male</td>\n",
       "      <td>33.000</td>\n",
       "      <td>3</td>\n",
       "      <td>no</td>\n",
       "      <td>southeast</td>\n",
       "      <td>4449.46200</td>\n",
       "    </tr>\n",
       "    <tr>\n",
       "      <th>3</th>\n",
       "      <td>33</td>\n",
       "      <td>male</td>\n",
       "      <td>22.705</td>\n",
       "      <td>0</td>\n",
       "      <td>no</td>\n",
       "      <td>northwest</td>\n",
       "      <td>21984.47061</td>\n",
       "    </tr>\n",
       "    <tr>\n",
       "      <th>4</th>\n",
       "      <td>32</td>\n",
       "      <td>male</td>\n",
       "      <td>28.880</td>\n",
       "      <td>0</td>\n",
       "      <td>no</td>\n",
       "      <td>northwest</td>\n",
       "      <td>3866.85520</td>\n",
       "    </tr>\n",
       "  </tbody>\n",
       "</table>\n",
       "</div>"
      ],
      "text/plain": [
       "   age     sex     bmi  children smoker     region      charges\n",
       "0   19  female  27.900         0    yes  southwest  16884.92400\n",
       "1   18    male  33.770         1     no  southeast   1725.55230\n",
       "2   28    male  33.000         3     no  southeast   4449.46200\n",
       "3   33    male  22.705         0     no  northwest  21984.47061\n",
       "4   32    male  28.880         0     no  northwest   3866.85520"
      ]
     },
     "metadata": {},
     "output_type": "display_data"
    }
   ],
   "source": [
    "from pycaret.datasets import get_data\n",
    "data = get_data(\"insurance\")"
   ]
  },
  {
   "cell_type": "code",
   "execution_count": 4,
   "metadata": {
    "id": "YHNBG7QnThLx"
   },
   "outputs": [
    {
     "data": {
      "text/html": [
       "<style type=\"text/css\">\n",
       "#T_7d452_row9_col1 {\n",
       "  background-color: lightgreen;\n",
       "}\n",
       "</style>\n",
       "<table id=\"T_7d452\">\n",
       "  <thead>\n",
       "    <tr>\n",
       "      <th class=\"blank level0\" >&nbsp;</th>\n",
       "      <th id=\"T_7d452_level0_col0\" class=\"col_heading level0 col0\" >Description</th>\n",
       "      <th id=\"T_7d452_level0_col1\" class=\"col_heading level0 col1\" >Value</th>\n",
       "    </tr>\n",
       "  </thead>\n",
       "  <tbody>\n",
       "    <tr>\n",
       "      <th id=\"T_7d452_level0_row0\" class=\"row_heading level0 row0\" >0</th>\n",
       "      <td id=\"T_7d452_row0_col0\" class=\"data row0 col0\" >Session id</td>\n",
       "      <td id=\"T_7d452_row0_col1\" class=\"data row0 col1\" >123</td>\n",
       "    </tr>\n",
       "    <tr>\n",
       "      <th id=\"T_7d452_level0_row1\" class=\"row_heading level0 row1\" >1</th>\n",
       "      <td id=\"T_7d452_row1_col0\" class=\"data row1 col0\" >Target</td>\n",
       "      <td id=\"T_7d452_row1_col1\" class=\"data row1 col1\" >charges</td>\n",
       "    </tr>\n",
       "    <tr>\n",
       "      <th id=\"T_7d452_level0_row2\" class=\"row_heading level0 row2\" >2</th>\n",
       "      <td id=\"T_7d452_row2_col0\" class=\"data row2 col0\" >Target type</td>\n",
       "      <td id=\"T_7d452_row2_col1\" class=\"data row2 col1\" >Regression</td>\n",
       "    </tr>\n",
       "    <tr>\n",
       "      <th id=\"T_7d452_level0_row3\" class=\"row_heading level0 row3\" >3</th>\n",
       "      <td id=\"T_7d452_row3_col0\" class=\"data row3 col0\" >Original data shape</td>\n",
       "      <td id=\"T_7d452_row3_col1\" class=\"data row3 col1\" >(1338, 7)</td>\n",
       "    </tr>\n",
       "    <tr>\n",
       "      <th id=\"T_7d452_level0_row4\" class=\"row_heading level0 row4\" >4</th>\n",
       "      <td id=\"T_7d452_row4_col0\" class=\"data row4 col0\" >Transformed data shape</td>\n",
       "      <td id=\"T_7d452_row4_col1\" class=\"data row4 col1\" >(1338, 10)</td>\n",
       "    </tr>\n",
       "    <tr>\n",
       "      <th id=\"T_7d452_level0_row5\" class=\"row_heading level0 row5\" >5</th>\n",
       "      <td id=\"T_7d452_row5_col0\" class=\"data row5 col0\" >Transformed train set shape</td>\n",
       "      <td id=\"T_7d452_row5_col1\" class=\"data row5 col1\" >(936, 10)</td>\n",
       "    </tr>\n",
       "    <tr>\n",
       "      <th id=\"T_7d452_level0_row6\" class=\"row_heading level0 row6\" >6</th>\n",
       "      <td id=\"T_7d452_row6_col0\" class=\"data row6 col0\" >Transformed test set shape</td>\n",
       "      <td id=\"T_7d452_row6_col1\" class=\"data row6 col1\" >(402, 10)</td>\n",
       "    </tr>\n",
       "    <tr>\n",
       "      <th id=\"T_7d452_level0_row7\" class=\"row_heading level0 row7\" >7</th>\n",
       "      <td id=\"T_7d452_row7_col0\" class=\"data row7 col0\" >Numeric features</td>\n",
       "      <td id=\"T_7d452_row7_col1\" class=\"data row7 col1\" >3</td>\n",
       "    </tr>\n",
       "    <tr>\n",
       "      <th id=\"T_7d452_level0_row8\" class=\"row_heading level0 row8\" >8</th>\n",
       "      <td id=\"T_7d452_row8_col0\" class=\"data row8 col0\" >Categorical features</td>\n",
       "      <td id=\"T_7d452_row8_col1\" class=\"data row8 col1\" >3</td>\n",
       "    </tr>\n",
       "    <tr>\n",
       "      <th id=\"T_7d452_level0_row9\" class=\"row_heading level0 row9\" >9</th>\n",
       "      <td id=\"T_7d452_row9_col0\" class=\"data row9 col0\" >Preprocess</td>\n",
       "      <td id=\"T_7d452_row9_col1\" class=\"data row9 col1\" >True</td>\n",
       "    </tr>\n",
       "    <tr>\n",
       "      <th id=\"T_7d452_level0_row10\" class=\"row_heading level0 row10\" >10</th>\n",
       "      <td id=\"T_7d452_row10_col0\" class=\"data row10 col0\" >Imputation type</td>\n",
       "      <td id=\"T_7d452_row10_col1\" class=\"data row10 col1\" >simple</td>\n",
       "    </tr>\n",
       "    <tr>\n",
       "      <th id=\"T_7d452_level0_row11\" class=\"row_heading level0 row11\" >11</th>\n",
       "      <td id=\"T_7d452_row11_col0\" class=\"data row11 col0\" >Numeric imputation</td>\n",
       "      <td id=\"T_7d452_row11_col1\" class=\"data row11 col1\" >mean</td>\n",
       "    </tr>\n",
       "    <tr>\n",
       "      <th id=\"T_7d452_level0_row12\" class=\"row_heading level0 row12\" >12</th>\n",
       "      <td id=\"T_7d452_row12_col0\" class=\"data row12 col0\" >Categorical imputation</td>\n",
       "      <td id=\"T_7d452_row12_col1\" class=\"data row12 col1\" >mode</td>\n",
       "    </tr>\n",
       "    <tr>\n",
       "      <th id=\"T_7d452_level0_row13\" class=\"row_heading level0 row13\" >13</th>\n",
       "      <td id=\"T_7d452_row13_col0\" class=\"data row13 col0\" >Maximum one-hot encoding</td>\n",
       "      <td id=\"T_7d452_row13_col1\" class=\"data row13 col1\" >25</td>\n",
       "    </tr>\n",
       "    <tr>\n",
       "      <th id=\"T_7d452_level0_row14\" class=\"row_heading level0 row14\" >14</th>\n",
       "      <td id=\"T_7d452_row14_col0\" class=\"data row14 col0\" >Encoding method</td>\n",
       "      <td id=\"T_7d452_row14_col1\" class=\"data row14 col1\" >None</td>\n",
       "    </tr>\n",
       "    <tr>\n",
       "      <th id=\"T_7d452_level0_row15\" class=\"row_heading level0 row15\" >15</th>\n",
       "      <td id=\"T_7d452_row15_col0\" class=\"data row15 col0\" >Fold Generator</td>\n",
       "      <td id=\"T_7d452_row15_col1\" class=\"data row15 col1\" >KFold</td>\n",
       "    </tr>\n",
       "    <tr>\n",
       "      <th id=\"T_7d452_level0_row16\" class=\"row_heading level0 row16\" >16</th>\n",
       "      <td id=\"T_7d452_row16_col0\" class=\"data row16 col0\" >Fold Number</td>\n",
       "      <td id=\"T_7d452_row16_col1\" class=\"data row16 col1\" >10</td>\n",
       "    </tr>\n",
       "    <tr>\n",
       "      <th id=\"T_7d452_level0_row17\" class=\"row_heading level0 row17\" >17</th>\n",
       "      <td id=\"T_7d452_row17_col0\" class=\"data row17 col0\" >CPU Jobs</td>\n",
       "      <td id=\"T_7d452_row17_col1\" class=\"data row17 col1\" >-1</td>\n",
       "    </tr>\n",
       "    <tr>\n",
       "      <th id=\"T_7d452_level0_row18\" class=\"row_heading level0 row18\" >18</th>\n",
       "      <td id=\"T_7d452_row18_col0\" class=\"data row18 col0\" >Use GPU</td>\n",
       "      <td id=\"T_7d452_row18_col1\" class=\"data row18 col1\" >False</td>\n",
       "    </tr>\n",
       "    <tr>\n",
       "      <th id=\"T_7d452_level0_row19\" class=\"row_heading level0 row19\" >19</th>\n",
       "      <td id=\"T_7d452_row19_col0\" class=\"data row19 col0\" >Log Experiment</td>\n",
       "      <td id=\"T_7d452_row19_col1\" class=\"data row19 col1\" >False</td>\n",
       "    </tr>\n",
       "    <tr>\n",
       "      <th id=\"T_7d452_level0_row20\" class=\"row_heading level0 row20\" >20</th>\n",
       "      <td id=\"T_7d452_row20_col0\" class=\"data row20 col0\" >Experiment Name</td>\n",
       "      <td id=\"T_7d452_row20_col1\" class=\"data row20 col1\" >reg-default-name</td>\n",
       "    </tr>\n",
       "    <tr>\n",
       "      <th id=\"T_7d452_level0_row21\" class=\"row_heading level0 row21\" >21</th>\n",
       "      <td id=\"T_7d452_row21_col0\" class=\"data row21 col0\" >USI</td>\n",
       "      <td id=\"T_7d452_row21_col1\" class=\"data row21 col1\" >7f25</td>\n",
       "    </tr>\n",
       "  </tbody>\n",
       "</table>\n"
      ],
      "text/plain": [
       "<pandas.io.formats.style.Styler at 0x2593f861290>"
      ]
     },
     "metadata": {},
     "output_type": "display_data"
    }
   ],
   "source": [
    "from pycaret.regression import *\n",
    "s = setup(data , target = \"charges\" , session_id = 123)"
   ]
  },
  {
   "cell_type": "code",
   "execution_count": null,
   "metadata": {
    "id": "KTnhYMgsT8GY"
   },
   "outputs": [],
   "source": [
    "best = compare_models()"
   ]
  },
  {
   "cell_type": "code",
   "execution_count": null,
   "metadata": {
    "id": "ywQMq0zuUy_r"
   },
   "outputs": [],
   "source": [
    "best = create_model(\"rf\")"
   ]
  },
  {
   "cell_type": "code",
   "execution_count": null,
   "metadata": {
    "id": "I0gnif83VjtJ"
   },
   "outputs": [],
   "source": [
    "evaluate_model(best)"
   ]
  },
  {
   "cell_type": "code",
   "execution_count": null,
   "metadata": {
    "id": "UC-8AdQvVxMH"
   },
   "outputs": [],
   "source": [
    "save_model(best , \"my_first_pipeline\")"
   ]
  },
  {
   "cell_type": "code",
   "execution_count": null,
   "metadata": {
    "id": "3ntIKBQRXvji"
   },
   "outputs": [],
   "source": [
    "loaded_best_pipeline = load_model(\"my_first_pipeline\")\n",
    "loaded_best_pipeline"
   ]
  },
  {
   "cell_type": "code",
   "execution_count": null,
   "metadata": {
    "id": "MdmEroi2YPJg"
   },
   "outputs": [],
   "source": [
    "lightgbm = create_model(\"lightgbm\")"
   ]
  },
  {
   "cell_type": "code",
   "execution_count": null,
   "metadata": {
    "id": "pTj8YrreY-8u"
   },
   "outputs": [],
   "source": [
    "# !pip install pycaret[full]"
   ]
  },
  {
   "cell_type": "code",
   "execution_count": null,
   "metadata": {
    "id": "OvSgVjyQZGFD"
   },
   "outputs": [],
   "source": [
    "interpret_model(lightgbm , plot = \"summary\")"
   ]
  },
  {
   "cell_type": "code",
   "execution_count": null,
   "metadata": {
    "id": "QsdYj34YaHVy"
   },
   "outputs": [],
   "source": [
    "interpret_model(lightgbm , plot = \"reason\" , observation = 4)"
   ]
  },
  {
   "cell_type": "code",
   "execution_count": null,
   "metadata": {
    "id": "31o6SBcLaREb"
   },
   "outputs": [],
   "source": [
    "dashboard(lightgbm , display_format = 'inline')"
   ]
  },
  {
   "cell_type": "code",
   "execution_count": null,
   "metadata": {
    "id": "sCvu9kPmdsNr"
   },
   "outputs": [],
   "source": [
    "create_api(best , api_name = \"my_first_api\")"
   ]
  },
  {
   "cell_type": "code",
   "execution_count": null,
   "metadata": {
    "id": "K8ml2_nge4LE"
   },
   "outputs": [],
   "source": [
    "create_docker(\"my_first_api\")"
   ]
  },
  {
   "cell_type": "code",
   "execution_count": null,
   "metadata": {
    "id": "tRJmK_ABfsYw"
   },
   "outputs": [],
   "source": [
    "dt = create_model(\"dt\")"
   ]
  },
  {
   "cell_type": "code",
   "execution_count": null,
   "metadata": {
    "id": "u4CzdGJifLFW"
   },
   "outputs": [],
   "source": [
    "print(convert_model(dt , language =\"java\"))"
   ]
  },
  {
   "cell_type": "markdown",
   "metadata": {
    "id": "7weVHvl2g7zB"
   },
   "source": [
    "### Anomaly Detection"
   ]
  },
  {
   "cell_type": "code",
   "execution_count": null,
   "metadata": {
    "id": "GZAchKBafkVU"
   },
   "outputs": [],
   "source": [
    "from pycaret.anomaly import *"
   ]
  },
  {
   "cell_type": "code",
   "execution_count": null,
   "metadata": {
    "id": "pAO5bytDkS5f"
   },
   "outputs": [],
   "source": [
    "data = get_data(\"anomaly\")"
   ]
  },
  {
   "cell_type": "code",
   "execution_count": null,
   "metadata": {
    "id": "JuNhBhLxkY5B"
   },
   "outputs": [],
   "source": [
    "s = setup(data , session_id = 723)"
   ]
  },
  {
   "cell_type": "code",
   "execution_count": null,
   "metadata": {
    "id": "GjSiKwZikgNx"
   },
   "outputs": [],
   "source": [
    "iforest = create_model(\"iforest\")"
   ]
  },
  {
   "cell_type": "code",
   "execution_count": null,
   "metadata": {
    "id": "rhIPJ0SKksZY"
   },
   "outputs": [],
   "source": [
    "iforest"
   ]
  },
  {
   "cell_type": "code",
   "execution_count": null,
   "metadata": {
    "id": "kQHTspl5ktPu"
   },
   "outputs": [],
   "source": [
    "models()"
   ]
  },
  {
   "cell_type": "code",
   "execution_count": null,
   "metadata": {
    "id": "VU4pLyrVkxzc"
   },
   "outputs": [],
   "source": [
    "iforest_anomalies = assign_model(iforest)"
   ]
  },
  {
   "cell_type": "code",
   "execution_count": null,
   "metadata": {
    "id": "HIADlyMEmo8Z"
   },
   "outputs": [],
   "source": [
    "iforest_anomalies"
   ]
  },
  {
   "cell_type": "code",
   "execution_count": null,
   "metadata": {
    "id": "sXvMoaOOmqRT"
   },
   "outputs": [],
   "source": [
    "iforest_anomalies[iforest_anomalies['Anomaly']==1]"
   ]
  },
  {
   "cell_type": "code",
   "execution_count": null,
   "metadata": {
    "id": "Rbfn_EkrmwQI"
   },
   "outputs": [],
   "source": [
    "plot_model(iforest , plot = 'tsne')"
   ]
  },
  {
   "cell_type": "code",
   "execution_count": null,
   "metadata": {
    "id": "K8mhn-wQnfZD"
   },
   "outputs": [],
   "source": []
  }
 ],
 "metadata": {
  "colab": {
   "private_outputs": true,
   "provenance": []
  },
  "kernelspec": {
   "display_name": "Python 3 (ipykernel)",
   "language": "python",
   "name": "python3"
  },
  "language_info": {
   "codemirror_mode": {
    "name": "ipython",
    "version": 3
   },
   "file_extension": ".py",
   "mimetype": "text/x-python",
   "name": "python",
   "nbconvert_exporter": "python",
   "pygments_lexer": "ipython3",
   "version": "3.11.5"
  }
 },
 "nbformat": 4,
 "nbformat_minor": 1
}
